{
 "cells": [
  {
   "cell_type": "markdown",
   "metadata": {},
   "source": [
    "# Assign Suburbs to POIs\n",
    "\n",
    "Use SA2 level from ABS to find suburbs. Uses file downloaded from [ABS](http://www.abs.gov.au/AUSSTATS/abs@.nsf/DetailsPage/1270.0.55.001July%202011), which is the [ZIP link](http://www.abs.gov.au/ausstats/subscriber.nsf/log?openagent&1270055001_sa2_2011_aust_shape.zip&1270.0.55.001&Data%20Cubes&7130A5514535C5FCCA257801000D3FBD&0&July%202011&23.12.2010&Latest) called Statistical Area Level 2 (SA2) ASGS Ed 2011 Digital Boundaires in ESRI Shapefile Format. The files below are obtained after unzipping the file.\n",
    "\n",
    "*ABS has a habit of changing their links, so the above links are likely to be broken.*"
   ]
  },
  {
   "cell_type": "code",
   "execution_count": 1,
   "metadata": {
    "collapsed": true
   },
   "outputs": [],
   "source": [
    "from osgeo import ogr, osr\n",
    "import pandas as pd\n",
    "import numpy as np\n",
    "import collections"
   ]
  },
  {
   "cell_type": "markdown",
   "metadata": {},
   "source": [
    "## Extracting SLA2 region names"
   ]
  },
  {
   "cell_type": "code",
   "execution_count": 2,
   "metadata": {
    "collapsed": false
   },
   "outputs": [
    {
     "data": {
      "text/plain": [
       "2214"
      ]
     },
     "execution_count": 2,
     "metadata": {},
     "output_type": "execute_result"
    }
   ],
   "source": [
    "data_dir = '../data/'\n",
    "driver = ogr.GetDriverByName('ESRI Shapefile')\n",
    "\n",
    "node_source = driver.Open(data_dir + 'SA2_2011_AUST.shp', 0)\n",
    "layer = node_source.GetLayer()\n",
    "layer.GetFeatureCount()"
   ]
  },
  {
   "cell_type": "code",
   "execution_count": 3,
   "metadata": {
    "collapsed": false
   },
   "outputs": [
    {
     "data": {
      "text/plain": [
       "['SA2_MAIN11',\n",
       " 'SA2_5DIG11',\n",
       " 'SA2_NAME11',\n",
       " 'SA3_CODE11',\n",
       " 'SA3_NAME11',\n",
       " 'SA4_CODE11',\n",
       " 'SA4_NAME11',\n",
       " 'GCC_CODE11',\n",
       " 'GCC_NAME11',\n",
       " 'STE_CODE11',\n",
       " 'STE_NAME11',\n",
       " 'ALBERS_SQM']"
      ]
     },
     "execution_count": 3,
     "metadata": {},
     "output_type": "execute_result"
    }
   ],
   "source": [
    "layer.ResetReading()\n",
    "feature = layer.GetNextFeature()\n",
    "feature.keys()"
   ]
  },
  {
   "cell_type": "code",
   "execution_count": 4,
   "metadata": {
    "collapsed": false
   },
   "outputs": [
    {
     "name": "stdout",
     "output_type": "stream",
     "text": [
      "435\n"
     ]
    }
   ],
   "source": [
    "layer.ResetReading()\n",
    "feature = layer.GetNextFeature()\n",
    "sla2 = []\n",
    "name = []\n",
    "while feature:\n",
    "    # Victoria is state number 2\n",
    "    if feature.GetField('STE_CODE11') == '2':\n",
    "        sla2.append(feature.GetField('SA2_MAIN11'))\n",
    "        name.append(feature.GetField('SA2_NAME11'))\n",
    "    feature = layer.GetNextFeature()\n",
    "print(len(sla2))"
   ]
  },
  {
   "cell_type": "code",
   "execution_count": 5,
   "metadata": {
    "collapsed": false
   },
   "outputs": [],
   "source": [
    "sla_name_dict = {}\n",
    "for ix, sla in enumerate(sla2):\n",
    "    sla_name_dict[sla] = name[ix]\n"
   ]
  },
  {
   "cell_type": "markdown",
   "metadata": {
    "collapsed": true
   },
   "source": [
    "## Find SLA region name, and add to POIs"
   ]
  },
  {
   "cell_type": "code",
   "execution_count": 6,
   "metadata": {
    "collapsed": true
   },
   "outputs": [],
   "source": [
    "def find_points(locations, sla_name, pt, polygon):\n",
    "    \"\"\"\n",
    "    locations : the dataframe containing the locations\n",
    "    sla_name : the name of the SLA region\n",
    "    pt : a handle that determines coordinates\n",
    "    polygon : the polygon defining the SLA\n",
    "    \"\"\"\n",
    "    for idx, row in locations.iterrows():\n",
    "        lat, long = row['poiLat'], row['poiLon']\n",
    "        if np.isinf(lat):\n",
    "            continue\n",
    "        pt.SetPoint(0, long, lat)\n",
    "        try:\n",
    "            inside = pt.Within(polygon)\n",
    "        except ValueError:\n",
    "            inside = False\n",
    "            print(long, lat)\n",
    "            print('Unable to solve inside polygon')\n",
    "            return\n",
    "        if inside:\n",
    "            locations.loc[idx, 'suburb'] = sla_name\n"
   ]
  },
  {
   "cell_type": "code",
   "execution_count": 7,
   "metadata": {
    "collapsed": false
   },
   "outputs": [],
   "source": [
    "spatial_ref = osr.SpatialReference()\n",
    "spatial_ref.SetWellKnownGeogCS(\"WGS84\")\n",
    "\n",
    "pt = ogr.Geometry(ogr.wkbPoint)\n",
    "pt.AssignSpatialReference(spatial_ref)\n"
   ]
  },
  {
   "cell_type": "code",
   "execution_count": 8,
   "metadata": {
    "collapsed": false
   },
   "outputs": [
    {
     "name": "stdout",
     "output_type": "stream",
     "text": [
      "100\n",
      "200\n",
      "300\n",
      "400\n",
      "144.96778 -37.821670000000005\n",
      "Unable to solve inside polygon\n",
      "144.96778 -37.821670000000005\n",
      "Unable to solve inside polygon\n"
     ]
    },
    {
     "data": {
      "text/html": [
       "<div>\n",
       "<table border=\"1\" class=\"dataframe\">\n",
       "  <thead>\n",
       "    <tr style=\"text-align: right;\">\n",
       "      <th></th>\n",
       "      <th>poiID</th>\n",
       "      <th>poiName</th>\n",
       "      <th>poiTheme</th>\n",
       "      <th>poiLat</th>\n",
       "      <th>poiLon</th>\n",
       "      <th>poiURL</th>\n",
       "      <th>suburb</th>\n",
       "    </tr>\n",
       "  </thead>\n",
       "  <tbody>\n",
       "    <tr>\n",
       "      <th>0</th>\n",
       "      <td>0</td>\n",
       "      <td>Arts Precinct</td>\n",
       "      <td>City precincts</td>\n",
       "      <td>-37.82167</td>\n",
       "      <td>144.96778</td>\n",
       "      <td>https://en.wikipedia.org/wiki/Melbourne_Arts_P...</td>\n",
       "      <td>Southbank</td>\n",
       "    </tr>\n",
       "    <tr>\n",
       "      <th>1</th>\n",
       "      <td>1</td>\n",
       "      <td>Docklands</td>\n",
       "      <td>City precincts</td>\n",
       "      <td>-37.81700</td>\n",
       "      <td>144.94600</td>\n",
       "      <td>https://en.wikipedia.org/wiki/Docklands,_Victoria</td>\n",
       "      <td>Docklands</td>\n",
       "    </tr>\n",
       "    <tr>\n",
       "      <th>2</th>\n",
       "      <td>2</td>\n",
       "      <td>Government Precinct</td>\n",
       "      <td>City precincts</td>\n",
       "      <td>-37.81190</td>\n",
       "      <td>144.97300</td>\n",
       "      <td>https://en.wikipedia.org/wiki/Spring_Street,_M...</td>\n",
       "      <td>Melbourne</td>\n",
       "    </tr>\n",
       "    <tr>\n",
       "      <th>3</th>\n",
       "      <td>3</td>\n",
       "      <td>Little Italy</td>\n",
       "      <td>City precincts</td>\n",
       "      <td>-37.79972</td>\n",
       "      <td>144.96694</td>\n",
       "      <td>https://en.wikipedia.org/wiki/Little_Italy,_Me...</td>\n",
       "      <td>Carlton</td>\n",
       "    </tr>\n",
       "    <tr>\n",
       "      <th>4</th>\n",
       "      <td>4</td>\n",
       "      <td>RMIT City</td>\n",
       "      <td>City precincts</td>\n",
       "      <td>-37.80778</td>\n",
       "      <td>144.96333</td>\n",
       "      <td>https://en.wikipedia.org/wiki/City_campus_of_t...</td>\n",
       "      <td>Melbourne</td>\n",
       "    </tr>\n",
       "  </tbody>\n",
       "</table>\n",
       "</div>"
      ],
      "text/plain": [
       "   poiID              poiName        poiTheme    poiLat     poiLon  \\\n",
       "0      0        Arts Precinct  City precincts -37.82167  144.96778   \n",
       "1      1            Docklands  City precincts -37.81700  144.94600   \n",
       "2      2  Government Precinct  City precincts -37.81190  144.97300   \n",
       "3      3         Little Italy  City precincts -37.79972  144.96694   \n",
       "4      4            RMIT City  City precincts -37.80778  144.96333   \n",
       "\n",
       "                                              poiURL     suburb  \n",
       "0  https://en.wikipedia.org/wiki/Melbourne_Arts_P...  Southbank  \n",
       "1  https://en.wikipedia.org/wiki/Docklands,_Victoria  Docklands  \n",
       "2  https://en.wikipedia.org/wiki/Spring_Street,_M...  Melbourne  \n",
       "3  https://en.wikipedia.org/wiki/Little_Italy,_Me...    Carlton  \n",
       "4  https://en.wikipedia.org/wiki/City_campus_of_t...  Melbourne  "
      ]
     },
     "execution_count": 8,
     "metadata": {},
     "output_type": "execute_result"
    }
   ],
   "source": [
    "layer.ResetReading()\n",
    "poi = pd.read_csv(data_dir + 'poi-Melb-all.csv')\n",
    "poi['suburb'] = ''\n",
    "sla = layer.GetNextFeature()\n",
    "num_sla = 1\n",
    "while sla:\n",
    "    # Victoria is state number 2\n",
    "    if sla.GetField('STE_CODE11') == '2':\n",
    "        sla_id = sla.GetField('SA2_MAIN11')\n",
    "        sla_name = sla_name_dict[sla_id]\n",
    "        polygon = sla.GetGeometryRef()\n",
    "        find_points(poi, sla_name, pt, polygon)\n",
    "        \n",
    "        # progress bar\n",
    "        if num_sla % 100 == 0:\n",
    "            print(num_sla)\n",
    "        num_sla += 1\n",
    "        \n",
    "    sla = layer.GetNextFeature()\n",
    "\n",
    "poi.head()    "
   ]
  },
  {
   "cell_type": "code",
   "execution_count": 9,
   "metadata": {
    "collapsed": true
   },
   "outputs": [],
   "source": [
    "poi.to_csv(data_dir + 'poi-Melb-all-suburb.csv', index=False)"
   ]
  },
  {
   "cell_type": "markdown",
   "metadata": {},
   "source": [
    "## Some statistics"
   ]
  },
  {
   "cell_type": "code",
   "execution_count": 10,
   "metadata": {
    "collapsed": false
   },
   "outputs": [
    {
     "name": "stdout",
     "output_type": "stream",
     "text": [
      "88\n",
      "[('Shopping', 17), ('Sports stadiums', 14), ('Parks and spaces', 14), ('Institutions', 12), ('City precincts', 8), ('Transport', 8), ('Structures', 8), ('Entertainment', 4), ('Public galleries', 3)]\n",
      "[('Melbourne', 26), ('Southbank', 16), ('East Melbourne', 15), ('Docklands', 6), ('Parkville', 4), ('Carlton', 4), ('Albert Park', 4), ('Beaumaris', 1), ('', 1), ('Carlton North - Princes Hill', 1)]\n"
     ]
    }
   ],
   "source": [
    "print(len(poi))\n",
    "c_theme = collections.Counter(poi['poiTheme'])\n",
    "c_suburb = collections.Counter(poi['suburb'])\n",
    "print(c_theme.most_common(10))\n",
    "print(c_suburb.most_common(10))"
   ]
  },
  {
   "cell_type": "code",
   "execution_count": null,
   "metadata": {
    "collapsed": true
   },
   "outputs": [],
   "source": []
  }
 ],
 "metadata": {
  "kernelspec": {
   "display_name": "Python 3",
   "language": "python",
   "name": "python3"
  },
  "language_info": {
   "codemirror_mode": {
    "name": "ipython",
    "version": 3
   },
   "file_extension": ".py",
   "mimetype": "text/x-python",
   "name": "python",
   "nbconvert_exporter": "python",
   "pygments_lexer": "ipython3",
   "version": "3.4.4"
  }
 },
 "nbformat": 4,
 "nbformat_minor": 0
}
