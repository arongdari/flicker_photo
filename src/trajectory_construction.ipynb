{
 "cells": [
  {
   "cell_type": "markdown",
   "metadata": {},
   "source": [
    "# Trajectory Construction "
   ]
  },
  {
   "cell_type": "markdown",
   "metadata": {},
   "source": [
    "This note describes how we construct trajectories from photos/movies of [YFCC100M dataset](http://arxiv.org/abs/1502.03409)."
   ]
  },
  {
   "cell_type": "markdown",
   "metadata": {},
   "source": [
    "## Construction Process\n",
    "* [1. Extract initial relevant points from YFCC100M dataset](#1.-Extracting-relevant-points-from-YFCC100M-dataset)\n",
    "    * [1.1. Basic stats of initial dataset](#1.1.-Basic-stats-of-initial-dataset)\n",
    "    * [1.2. Scatter plot of extracted points](#1.2.-Scatter-plot-of-extracted-points)\n",
    "* [2. Extract initial trajectories from extracted points](#2.-Extract-initial-trajectories-from-extracted-points)\n",
    "    * [2.1 Basic stats after extracting initial trajectories](#2.1-Basic-stats-after-extracting-initial-trajectories)\n",
    "* [3. Filter Trajectory](#3.-Filter-Trajectory)\n",
    "    * [3.1. Filter by Timeframe](#3.1.-Filter-by-Timeframe)\n",
    "        * [3.1.1. Bar chart of taken photos by year](#3.1.1.-Bar-chart-of-taken-photos-by-year)\n",
    "    * [3.2. Filter by Duration](#3.2.-Filter-by-Duration)\n",
    "        * [3.2.1. Histogram of trajectory duration](#3.2.1.-Histogram-of-trajectory-duration)\n",
    "    * [3.3. Filter by Minimum distance](#3.3.-Filter-by-Minimum-distance)\n",
    "        * [3.3.1. Histogram of trajectory length](#3.3.1.-Histogram-of-trajectory-length)\n",
    "    * [3.4. Filter by Speed](#3.4.-Filter-by-Speed)\n",
    "        * [3.4.1. Drop trajectory by average speed](#3.4.1.-Drop-trajectory-by-averag--speed)\n",
    "            * [3.4.1.1. Histogram of trajectory speed](#3.4.1.1.-Histogram-of-trajectory-speed)\n",
    "        * [3.4.2. Drop trajectory by point-to-point speed](#3.4.2.-Drop-trajectory-by-point-to-point-speed)\n",
    "            * [3.4.2.1. Histogram of point-to-point speed](#3.4.2.1.-Histogram-of-point-to-point-speed)\n",
    "        * [3.4.3. Drop trajectory by sophisticated method](#3.4.3-Drop-trajectory-by-sophisticated-method)\n",
    "* [4. Filtered Trajectory](#4.-Filtered-Trajectory)\n",
    "    * [4.1. Basic Stats](#4.1.-Basic-Stats)"
   ]
  },
  {
   "cell_type": "markdown",
   "metadata": {},
   "source": [
    "## 1. Extract relevant points from YFCC100M dataset"
   ]
  },
  {
   "cell_type": "markdown",
   "metadata": {},
   "source": [
    "From the original YFCC100M dataset, we first extract the photos/movies belongs to the below region."
   ]
  },
  {
   "cell_type": "markdown",
   "metadata": {},
   "source": [
    "![big-box](./img/bigbox.png)"
   ]
  },
  {
   "cell_type": "markdown",
   "metadata": {},
   "source": [
    "`filtering_bigbox.py` file take the original YFCC100M file to extract photos and videos from above region, and will generate a cvs file containing:\n",
    "* Photo/video ID\n",
    "* NSID (user ID)\n",
    "* Date\n",
    "* Longitude\n",
    "* Latitude\n",
    "* Accuracy (GPS accuracy)\n",
    "* Photo/video URL\n",
    "* Photo/video identifier (0 = photo, 1 = video)\n",
    "\n",
    "The usage of this file is :\n",
    "> `python filtering_bigbox.py YFCC100M_DATA_FILE`\n",
    "\n",
    "which will generate `YFCC100M_DATA_FILE.out` file"
   ]
  },
  {
   "cell_type": "markdown",
   "metadata": {},
   "source": [
    "### 1.1. Basic stats of initial dataset\n"
   ]
  },
  {
   "cell_type": "markdown",
   "metadata": {},
   "source": [
    "### 1.2. Scatter plot of extracted points"
   ]
  },
  {
   "cell_type": "markdown",
   "metadata": {},
   "source": [
    "## 2. Extract initial trajectories from extracted points"
   ]
  },
  {
   "cell_type": "markdown",
   "metadata": {},
   "source": [
    "With extracted photos(videos) by `filtering_bigbox.py`, we construct initial trajectories with following processes based on several basic criteria."
   ]
  },
  {
   "cell_type": "markdown",
   "metadata": {},
   "source": [
    "1. Group photos by user\n",
    "2. Sort grouped photos by timestamp\n",
    "3. Split the sorted photos where the second photo of two adjacent photos are taken more than `time_gap` time after\n",
    "4. Keep trajectories of which at **least one photo** is taken from the below region:"
   ]
  },
  {
   "cell_type": "markdown",
   "metadata": {},
   "source": [
    "![small-box](./img/smallbox.png)"
   ]
  },
  {
   "cell_type": "markdown",
   "metadata": {},
   "source": [
    "Here's the argument list:"
   ]
  },
  {
   "cell_type": "code",
   "execution_count": 1,
   "metadata": {
    "collapsed": true
   },
   "outputs": [],
   "source": [
    "extracted_points_file = '../data/Melb-bigbox.csv' # outputfile path of extracted points\n",
    "time_gap = 8  # hour\n",
    "minimum_photo = 1 # minimum number of photos for each trajectory\n",
    "\n",
    "# small bounding box\n",
    "lng_min = 144.597363\n",
    "lat_min = -38.072257\n",
    "lng_max = 145.360413\n",
    "lat_max = -37.591764"
   ]
  },
  {
   "cell_type": "code",
   "execution_count": 2,
   "metadata": {
    "collapsed": false
   },
   "outputs": [],
   "source": [
    "%run generate_tables $extracted_points_file $lng_min $lat_min $lng_max $lat_max $minimum_photo $time_gap "
   ]
  },
  {
   "cell_type": "markdown",
   "metadata": {},
   "source": [
    "### 2.1. Basic stats after extracting initial trajectories"
   ]
  },
  {
   "cell_type": "markdown",
   "metadata": {},
   "source": [
    "## 3. Filter Trajectory"
   ]
  },
  {
   "cell_type": "markdown",
   "metadata": {},
   "source": [
    "After getting an initial list of trajectories, we further filter out improbable trajectories with various criteria.\n",
    "We use four different criteria as follows:\n",
    "\n",
    "1. [Timeframe](#3.1.-Filter-by-Timeframe): We only maintain photos/videos taken during a certain period of time (`start_date`, `end_date`)\n",
    "2. [Duration](#3.2.-Filter-by-Duration): Some suspicious trajectory span over more than 16 hours. We remove trajectories spanning more than certain minutes (`minimum_duration`).\n",
    "3. [Minimum distance](#3.3.-Filter-by-Minimum-distance): Trajectories consist of photos taken from single location is not meaningful as a trajectory. We remove these trajectories (`minimum_distance`)\n",
    "4. [Speed](#3.4-Filter-by-Speed): Due to the GPS error, there are some trajectories in which a user moves unbelievably fast speed. We remove these trajectories, but try to recover as much information as possible from some trajectories."
   ]
  },
  {
   "cell_type": "markdown",
   "metadata": {},
   "source": [
    "Here's the list of argument we used to generate final trajectories"
   ]
  },
  {
   "cell_type": "code",
   "execution_count": 3,
   "metadata": {
    "collapsed": true
   },
   "outputs": [],
   "source": [
    "start_date = '2000-01-01'\n",
    "end_date = '2015-99-99'\n",
    "minimum_distance = 1e-3   # km\n",
    "speed_filter = 0    #(0: filter by average speed, 1: filter by point-to-point speed, 2: filter by sophispicated method)\n",
    "minimum_speed = 200    # km/h\n",
    "maximum_duration = 1000    # minute"
   ]
  },
  {
   "cell_type": "markdown",
   "metadata": {},
   "source": [
    "### 3.1. Filter by Timeframe\n"
   ]
  },
  {
   "cell_type": "markdown",
   "metadata": {},
   "source": [
    "#### 3.1.1. Bar chart of taken photos by year"
   ]
  },
  {
   "cell_type": "markdown",
   "metadata": {},
   "source": [
    "First, we filter out trajectories taken from certain period of time to remove any future photos caused by some errors and too old photos.\n",
    "\n",
    "Here's the bar chart that plots the number of photos taken by each year."
   ]
  },
  {
   "cell_type": "code",
   "execution_count": null,
   "metadata": {
    "collapsed": true
   },
   "outputs": [],
   "source": []
  },
  {
   "cell_type": "markdown",
   "metadata": {},
   "source": [
    "### 3.2. Filter by Duration"
   ]
  },
  {
   "cell_type": "markdown",
   "metadata": {},
   "source": [
    "Second, we filter out trajectories which have suspiciously long travel time."
   ]
  },
  {
   "cell_type": "markdown",
   "metadata": {},
   "source": [
    "#### 3.2.1. Histogram of trajectory duration"
   ]
  },
  {
   "cell_type": "code",
   "execution_count": null,
   "metadata": {
    "collapsed": true
   },
   "outputs": [],
   "source": []
  },
  {
   "cell_type": "markdown",
   "metadata": {},
   "source": [
    "###  3.3. Filter by Minimum distance"
   ]
  },
  {
   "cell_type": "markdown",
   "metadata": {},
   "source": [
    "Third, we filter out trajectories taken from a single location."
   ]
  },
  {
   "cell_type": "markdown",
   "metadata": {},
   "source": [
    "#### 3.3.1. Histogram of trajectory length"
   ]
  },
  {
   "cell_type": "code",
   "execution_count": null,
   "metadata": {
    "collapsed": true
   },
   "outputs": [],
   "source": []
  },
  {
   "cell_type": "markdown",
   "metadata": {},
   "source": [
    "### 3.4. Filter by Speed"
   ]
  },
  {
   "cell_type": "markdown",
   "metadata": {},
   "source": [
    "Some trajectories have suspiciously high speed \n",
    "There are three (or more) alternative ways to filter out trajectory which has suspiciously high speed."
   ]
  },
  {
   "cell_type": "markdown",
   "metadata": {},
   "source": [
    "#### 3.4.1. Drop trajectory by average speed"
   ]
  },
  {
   "cell_type": "markdown",
   "metadata": {},
   "source": [
    "#### 3.4.1.1. Histogram of trajectory speed"
   ]
  },
  {
   "cell_type": "code",
   "execution_count": null,
   "metadata": {
    "collapsed": true
   },
   "outputs": [],
   "source": []
  },
  {
   "cell_type": "markdown",
   "metadata": {},
   "source": [
    "#### 3.4.2. Drop trajectory by point-to-point speed"
   ]
  },
  {
   "cell_type": "markdown",
   "metadata": {},
   "source": [
    "#### 3.4.2.1. Histogram of point-to-point speed"
   ]
  },
  {
   "cell_type": "code",
   "execution_count": null,
   "metadata": {
    "collapsed": true
   },
   "outputs": [],
   "source": []
  },
  {
   "cell_type": "markdown",
   "metadata": {},
   "source": [
    "#### 3.4.3 Drop trajectory by sophisticated method\n"
   ]
  },
  {
   "cell_type": "code",
   "execution_count": null,
   "metadata": {
    "collapsed": true
   },
   "outputs": [],
   "source": []
  },
  {
   "cell_type": "markdown",
   "metadata": {},
   "source": [
    "## 4. Filtered Trajectory"
   ]
  },
  {
   "cell_type": "markdown",
   "metadata": {},
   "source": [
    "### 4.1. Basic Stats"
   ]
  },
  {
   "cell_type": "markdown",
   "metadata": {
    "collapsed": true
   },
   "source": [
    "More detail analysis will be included in `filckr_analysis.ipynb` and slides. Here we show simple stats from the final result."
   ]
  },
  {
   "cell_type": "code",
   "execution_count": null,
   "metadata": {
    "collapsed": true
   },
   "outputs": [],
   "source": []
  }
 ],
 "metadata": {
  "kernelspec": {
   "display_name": "Python 3",
   "language": "python",
   "name": "python3"
  },
  "language_info": {
   "codemirror_mode": {
    "name": "ipython",
    "version": 3
   },
   "file_extension": ".py",
   "mimetype": "text/x-python",
   "name": "python",
   "nbconvert_exporter": "python",
   "pygments_lexer": "ipython3",
   "version": "3.4.3"
  }
 },
 "nbformat": 4,
 "nbformat_minor": 0
}
