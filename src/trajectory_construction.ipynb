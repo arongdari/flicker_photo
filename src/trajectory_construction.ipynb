{
 "cells": [
  {
   "cell_type": "markdown",
   "metadata": {},
   "source": [
    "# Trajectory Construction "
   ]
  },
  {
   "cell_type": "markdown",
   "metadata": {},
   "source": [
    "This note describes how we construct trajectories from photos/movies of [YFCC100M dataset](http://arxiv.org/abs/1502.03409).\n",
    "\n",
    "**Three major steps for constructing trajectories:**\n",
    "\n",
    "1. Extract photos/videos taken near Melbourne area from original YFCC100M dataset (`filtering_bigbox.py`)\n",
    "2. Extract initial trajectories based on the extracted photos/videos (`generate_tables.py`)\n",
    "3. Filter out some abnormal trajectories using various criteria (in this notebook)\n"
   ]
  },
  {
   "cell_type": "markdown",
   "metadata": {},
   "source": [
    "## Construction Process\n",
    "* [1. Extract initial relevant points from YFCC100M dataset](#1.-Extracting-relevant-points-from-YFCC100M-dataset)\n",
    "    * [1.1. Basic stats of initial dataset](#1.1.-Basic-stats-of-initial-dataset)\n",
    "    * [1.2. Scatter plot of extracted points](#1.2.-Scatter-plot-of-extracted-points)\n",
    "* [2. Extract initial trajectories from extracted points](#2.-Extract-initial-trajectories-from-extracted-points)\n",
    "    * [2.1 Basic stats after extracting initial trajectories](#2.1-Basic-stats-after-extracting-initial-trajectories)\n",
    "* [3. Filter Trajectory](#3.-Filter-Trajectory)\n",
    "    * [3.1. Filter by Timeframe](#3.1.-Filter-by-Timeframe)\n",
    "        * [3.1.1. Bar chart of taken photos by year](#3.1.1.-Bar-chart-of-taken-photos-by-year)\n",
    "    * [3.2. Filter by Duration](#3.2.-Filter-by-Duration)\n",
    "        * [3.2.1. Histogram of trajectory duration](#3.2.1.-Histogram-of-trajectory-duration)\n",
    "    * [3.3. Filter by Minimum distance](#3.3.-Filter-by-Minimum-distance)\n",
    "        * [3.3.1. Histogram of trajectory length](#3.3.1.-Histogram-of-trajectory-length)\n",
    "    * [3.4. Filter by Speed](#3.4.-Filter-by-Speed)\n",
    "        * [3.4.1. Drop trajectory by average speed](#3.4.1.-Drop-trajectory-by-averag--speed)\n",
    "            * [3.4.1.1. Histogram of trajectory speed](#3.4.1.1.-Histogram-of-trajectory-speed)\n",
    "        * [3.4.2. Drop trajectory by point-to-point speed](#3.4.2.-Drop-trajectory-by-point-to-point-speed)\n",
    "            * [3.4.2.1. Histogram of point-to-point speed](#3.4.2.1.-Histogram-of-point-to-point-speed)\n",
    "        * [3.4.3. Drop trajectory by sophisticated method](#3.4.3-Drop-trajectory-by-sophisticated-method)\n",
    "* [4. Filtered Trajectory](#4.-Filtered-Trajectory)\n",
    "    * [4.1. Basic Stats](#4.1.-Basic-Stats)"
   ]
  },
  {
   "cell_type": "markdown",
   "metadata": {},
   "source": [
    "# 1. Extract relevant points from YFCC100M dataset"
   ]
  },
  {
   "cell_type": "markdown",
   "metadata": {},
   "source": [
    "From the original YFCC100M dataset, we first extract the photos/movies belongs to the below region."
   ]
  },
  {
   "cell_type": "markdown",
   "metadata": {},
   "source": [
    "![big-box](./img/bigbox.png)"
   ]
  },
  {
   "cell_type": "markdown",
   "metadata": {},
   "source": [
    "`filtering_bigbox.py` file take the original YFCC100M file to extract photos and videos from above region, and will generate a cvs file containing:\n",
    "* Photo/video ID\n",
    "* NSID (user ID)\n",
    "* Date\n",
    "* Longitude\n",
    "* Latitude\n",
    "* Accuracy (GPS accuracy)\n",
    "* Photo/video URL\n",
    "* Photo/video identifier (0 = photo, 1 = video)\n",
    "\n",
    "The usage of this file is :\n",
    "> `python filtering_bigbox.py YFCC100M_DATA_FILE`\n",
    "\n",
    "which will generate `out.YFCC100M_DATA_FILE` file"
   ]
  },
  {
   "cell_type": "code",
   "execution_count": null,
   "metadata": {
    "collapsed": false
   },
   "outputs": [],
   "source": [
    "%matplotlib inline\n",
    "\n",
    "import os\n",
    "import matplotlib\n",
    "import pandas as pd\n",
    "import numpy as np\n",
    "import matplotlib.pyplot as plt\n",
    "from datetime import datetime\n",
    "import generate_tables\n",
    "import traj_visualise\n",
    "\n",
    "data_dir = '../data/'\n",
    "raw_table = os.path.join(data_dir, 'Melb-bigbox.csv')\n",
    "raw = pd.read_csv(raw_table, parse_dates=[2], skipinitialspace=True)"
   ]
  },
  {
   "cell_type": "markdown",
   "metadata": {},
   "source": [
    "## 1.1. Basic stats of initial dataset\n"
   ]
  },
  {
   "cell_type": "code",
   "execution_count": null,
   "metadata": {
    "collapsed": false
   },
   "outputs": [],
   "source": [
    "print('Number of photos:', raw['Photo_ID'].shape[0])\n",
    "print('Number of users: ', raw['User_ID'].unique().shape[0])\n",
    "raw[['Longitude', 'Latitude', 'Accuracy']].describe() \n",
    "# Longitude should be in [141.9, 147.1]\n",
    "# Latitude should be in [-39.3, -35.8]\n",
    "# Accuracy should be in [1, 16]"
   ]
  },
  {
   "cell_type": "markdown",
   "metadata": {},
   "source": [
    "### 1.2. Scatter plot of extracted points"
   ]
  },
  {
   "cell_type": "code",
   "execution_count": null,
   "metadata": {
    "collapsed": false
   },
   "outputs": [],
   "source": [
    "plt.figure(figsize=[10, 10])\n",
    "plt.xlabel('Longitude')\n",
    "plt.ylabel('Latitude')\n",
    "plt.scatter(raw['Longitude'], raw['Latitude'])"
   ]
  },
  {
   "cell_type": "markdown",
   "metadata": {},
   "source": [
    "# 2. Extract initial trajectories from extracted points"
   ]
  },
  {
   "cell_type": "markdown",
   "metadata": {},
   "source": [
    "With extracted photos(videos) by `filtering_bigbox.py`, we construct initial trajectories with following processes based on several basic criteria."
   ]
  },
  {
   "cell_type": "markdown",
   "metadata": {},
   "source": [
    "1. Group photos by user\n",
    "2. Sort grouped photos by timestamp\n",
    "3. Split the sorted photos where the second photo of two adjacent photos are taken more than `time_gap` time after\n",
    "4. Keep trajectories of which at **least one photo** is taken from the below region:"
   ]
  },
  {
   "cell_type": "markdown",
   "metadata": {},
   "source": [
    "![small-box](./img/smallbox.png)"
   ]
  },
  {
   "cell_type": "markdown",
   "metadata": {},
   "source": [
    "Here's the argument list:"
   ]
  },
  {
   "cell_type": "code",
   "execution_count": null,
   "metadata": {
    "collapsed": true
   },
   "outputs": [],
   "source": [
    "extracted_points_file = os.path.join(data_dir, 'Melb-bigbox.csv') # outputfile path of extracted points\n",
    "time_gap = 8  # hour\n",
    "minimum_photo = 1 # minimum number of photos for each trajectory\n",
    "\n",
    "# small bounding box\n",
    "lng_min = 144.597363\n",
    "lat_min = -38.072257\n",
    "lng_max = 145.360413\n",
    "lat_max = -37.591764"
   ]
  },
  {
   "cell_type": "markdown",
   "metadata": {},
   "source": [
    "`generate_tables.py` will generate the inital trajectories using above arguments."
   ]
  },
  {
   "cell_type": "code",
   "execution_count": null,
   "metadata": {
    "collapsed": false
   },
   "outputs": [],
   "source": [
    "%run generate_tables $extracted_points_file $lng_min $lat_min $lng_max $lat_max $minimum_photo $time_gap "
   ]
  },
  {
   "cell_type": "code",
   "execution_count": null,
   "metadata": {
    "collapsed": true
   },
   "outputs": [],
   "source": [
    "table1 = 'Melb-table1.csv'\n",
    "table2 = 'Melb-table2.csv'\n",
    "photo_table = os.path.join(data_dir, table1)\n",
    "traj_table = os.path.join(data_dir, table2)\n",
    "traj = pd.read_csv(photo_table, parse_dates=[3], skipinitialspace=True)\n",
    "traj_stats = pd.read_csv(traj_table, parse_dates=[3], skipinitialspace=True)"
   ]
  },
  {
   "cell_type": "markdown",
   "metadata": {},
   "source": [
    "## 2.1. Basic stats after extracting initial trajectories"
   ]
  },
  {
   "cell_type": "code",
   "execution_count": null,
   "metadata": {
    "collapsed": false
   },
   "outputs": [],
   "source": [
    "print('Number of photos:', traj['Photo_ID'].shape[0])\n",
    "print('Number of users: ', traj_stats['User_ID'].unique().shape[0])\n",
    "print('Number of trajectories:', traj_stats['Trajectory_ID'].shape[0])\n",
    "print('Average number of photos per user:', \\\n",
    "      1.0 * traj['Photo_ID'].shape[0] / traj_stats['User_ID'].unique().shape[0])\n",
    "print('Average number of trajectories per user:', \\\n",
    "      1.0 * traj_stats['Trajectory_ID'].shape[0] / traj_stats['User_ID'].unique().shape[0])"
   ]
  },
  {
   "cell_type": "code",
   "execution_count": null,
   "metadata": {
    "collapsed": false
   },
   "outputs": [],
   "source": [
    "traj_stats[['#Photo', 'Travel_Distance(km)', 'Total_Time(min)', 'Average_Speed(km/h)']].describe()"
   ]
  },
  {
   "cell_type": "code",
   "execution_count": null,
   "metadata": {
    "collapsed": false
   },
   "outputs": [],
   "source": [
    "traj[['Longitude', 'Latitude', 'Accuracy']].describe()"
   ]
  },
  {
   "cell_type": "markdown",
   "metadata": {},
   "source": [
    "## 2.2. Scatter plot of points in all trajectories"
   ]
  },
  {
   "cell_type": "code",
   "execution_count": null,
   "metadata": {
    "collapsed": false
   },
   "outputs": [],
   "source": [
    "plt.figure(figsize=[10, 10])\n",
    "plt.xlabel('Longitude')\n",
    "plt.ylabel('Latitude')\n",
    "plt.scatter(traj['Longitude'], traj['Latitude'])"
   ]
  },
  {
   "cell_type": "markdown",
   "metadata": {},
   "source": [
    "## 2.3 Histogram of point-to-point duration"
   ]
  },
  {
   "cell_type": "markdown",
   "metadata": {},
   "source": [
    "### Histogram of point-to-point duration without time gap cut (i.e. each user with only one long trajectory)"
   ]
  },
  {
   "cell_type": "code",
   "execution_count": null,
   "metadata": {
    "collapsed": true
   },
   "outputs": [],
   "source": [
    "durations = []\n",
    "for user in traj_stats['User_ID'].unique():\n",
    "    photos = traj[traj['User_ID'] == user]\n",
    "    if photos.shape[0] < 2: continue\n",
    "    for i in range(photos.index.shape[0]-1):\n",
    "        p1 = photos.index[i]\n",
    "        p2 = photos.index[i+1]\n",
    "        t12 = abs((photos.loc[p1, 'Timestamp'] - photos.loc[p2, 'Timestamp']).total_seconds())\n",
    "        durations.append(t12 / 60. * 60.) # hour"
   ]
  },
  {
   "cell_type": "code",
   "execution_count": null,
   "metadata": {
    "collapsed": false
   },
   "outputs": [],
   "source": [
    "pd.Series(durations).describe()"
   ]
  },
  {
   "cell_type": "code",
   "execution_count": null,
   "metadata": {
    "collapsed": false
   },
   "outputs": [],
   "source": [
    "pd.Series(durations).median()"
   ]
  },
  {
   "cell_type": "code",
   "execution_count": null,
   "metadata": {
    "collapsed": false
   },
   "outputs": [],
   "source": [
    "plt.figure(figsize=[10, 5])\n",
    "plt.xlabel('Point-to-Point Time Duration (hour)')\n",
    "plt.ylabel('#Point-pair')\n",
    "#ax = pd.Series(durations).hist(bins=5)\n",
    "#ax.set_yscale('log')\n",
    "plt.hist(durations, bins=50)\n",
    "plt.yscale('log', nonposy='clip')"
   ]
  },
  {
   "cell_type": "markdown",
   "metadata": {},
   "source": [
    "### Histogram of point-to-point duration in all trajectories constructed with time_gap = 24 hours"
   ]
  },
  {
   "cell_type": "code",
   "execution_count": null,
   "metadata": {
    "collapsed": false
   },
   "outputs": [],
   "source": [
    "durations1 = pd.Series(durations)\n",
    "durations1 = durations1[durations1 < 24]\n",
    "#durations1.describe()\n",
    "pd.DataFrame([durations1.min(), durations1.max(), durations1.mean(), durations1.median()], \\\n",
    "             index=['min', 'max', 'mean', 'median'], \\\n",
    "             columns=['Point-to-Point Duration (hour)'])"
   ]
  },
  {
   "cell_type": "code",
   "execution_count": null,
   "metadata": {
    "collapsed": false
   },
   "outputs": [],
   "source": [
    "plt.figure(figsize=[10, 5])\n",
    "plt.xlabel('Point-to-Point Time Duration (hour)')\n",
    "plt.ylabel('#Point-pair')\n",
    "#ax = durations1.hist(bins=5)\n",
    "#ax.set_yscale('log')\n",
    "plt.hist(durations1.tolist(), bins=20)\n",
    "plt.yscale('log', nonposy='clip')"
   ]
  },
  {
   "cell_type": "markdown",
   "metadata": {},
   "source": [
    "### Histogram of point-to-point speed in the trajectory with highest speed"
   ]
  },
  {
   "cell_type": "code",
   "execution_count": null,
   "metadata": {
    "collapsed": true
   },
   "outputs": [],
   "source": [
    "# filtering by average_speed\n",
    "maximum_speed = 100 # km/h\n",
    "traj_stats11 = traj_stats[traj_stats['Average_Speed(km/h)'] < maximum_speed]"
   ]
  },
  {
   "cell_type": "code",
   "execution_count": null,
   "metadata": {
    "collapsed": true
   },
   "outputs": [],
   "source": [
    "hs_traj_id = traj_stats11.ix[traj_stats11['Average_Speed(km/h)'].idxmax(), 'Trajectory_ID']\n",
    "hsphotos = traj[traj['Trajectory_ID'] == hs_traj_id]\n",
    "hspeeds = []\n",
    "for i in range(hsphotos.index.shape[0]-1):\n",
    "    p1 = hsphotos.index[i]\n",
    "    p2 = hsphotos.index[i+1]\n",
    "    dist = generate_tables.calc_dist(hsphotos.loc[p1, 'Longitude'], hsphotos.loc[p1, 'Latitude'], \\\n",
    "                                     hsphotos.loc[p2, 'Longitude'], hsphotos.loc[p2, 'Latitude'])\n",
    "    t12 = abs((hsphotos.loc[p1, 'Timestamp'] - hsphotos.loc[p2, 'Timestamp']).total_seconds())\n",
    "    if t12 == 0: continue\n",
    "    hspeeds.append(dist * 60. * 60. / t12)"
   ]
  },
  {
   "cell_type": "code",
   "execution_count": null,
   "metadata": {
    "collapsed": false
   },
   "outputs": [],
   "source": [
    "traj_stats11[traj_stats11['Trajectory_ID'] == hs_traj_id]"
   ]
  },
  {
   "cell_type": "code",
   "execution_count": null,
   "metadata": {
    "collapsed": false
   },
   "outputs": [],
   "source": [
    "pd.Series(hspeeds).describe()"
   ]
  },
  {
   "cell_type": "code",
   "execution_count": null,
   "metadata": {
    "collapsed": false
   },
   "outputs": [],
   "source": [
    "pd.Series(hspeeds)"
   ]
  },
  {
   "cell_type": "code",
   "execution_count": null,
   "metadata": {
    "collapsed": false
   },
   "outputs": [],
   "source": [
    "plt.figure(figsize=[10, 5])\n",
    "plt.plot(hspeeds, linestyle='dashed', marker='+')\n",
    "plt.xlabel('Ordered Point-pair')\n",
    "plt.ylabel('Point-to-Point Speed (km/h)')\n",
    "#plt.xlabel('Point-to-Point Speed (km/h)')\n",
    "#plt.ylabel('#Point-pair')\n",
    "#ax = pd.Series(hspeeds).hist(bins=5)\n",
    "#ax.set_yscale('log')\n",
    "#plt.hist(hspeeds, bins=50)\n",
    "#plt.yscale('log', nonposy='clip')"
   ]
  },
  {
   "cell_type": "markdown",
   "metadata": {},
   "source": [
    "### 2.4 Histograms of number of photos in trajectories, total time/distance and average speed of trajectories"
   ]
  },
  {
   "cell_type": "code",
   "execution_count": null,
   "metadata": {
    "collapsed": false
   },
   "outputs": [],
   "source": [
    "plt.figure(figsize=[18, 10])\n",
    "plt.subplot(2,2,1)\n",
    "plt.xlabel('#Photo')\n",
    "plt.ylabel('#Trajectory')\n",
    "plt.title('Histogram of #Photo in trajectories')\n",
    "ax0 = traj_stats['#Photo'].hist(bins=50)\n",
    "ax0.set_yscale('log')\n",
    "\n",
    "plt.subplot(2,2,2)\n",
    "plt.xlabel('Travel Distance (km)')\n",
    "plt.ylabel('#Trajectory')\n",
    "plt.title('Histogram of Travel Distance of Trajectories')\n",
    "ax1 = traj_stats['Travel_Distance(km)'].hist(bins=50)\n",
    "ax1.set_yscale('log')\n",
    "\n",
    "plt.subplot(2,2,3)\n",
    "plt.xlabel('Total Time (minute)')\n",
    "plt.ylabel('#Trajectory')\n",
    "plt.title('Histogram of Total Time of Trajectories')\n",
    "ax2 = traj_stats['Total_Time(min)'].hist(bins=50)\n",
    "ax2.set_yscale('log')\n",
    "\n",
    "plt.subplot(2,2,4)\n",
    "plt.xlabel('Average Speed (km/h)')\n",
    "plt.ylabel('#Trajectory')\n",
    "plt.title('Histogram of Average Speed of Trajectories')\n",
    "ax3 = traj_stats['Average_Speed(km/h)'].hist(bins=50)\n",
    "ax3.set_yscale('log')"
   ]
  },
  {
   "cell_type": "markdown",
   "metadata": {},
   "source": [
    "# 3. Filter Trajectory"
   ]
  },
  {
   "cell_type": "markdown",
   "metadata": {},
   "source": [
    "After getting an initial list of trajectories, we further filter out improbable trajectories with various criteria.\n",
    "We use four different criteria as follows:\n",
    "\n",
    "1. [Timeframe](#3.1.-Filter-by-Timeframe): We only maintain photos/videos taken during a certain period of time (`start_date`, `end_date`)\n",
    "2. [Duration](#3.2.-Filter-by-Duration): Some suspicious trajectory span over more than 16 hours. We remove trajectories spanning more than certain minutes (`minimum_duration`).\n",
    "3. [Minimum distance](#3.3.-Filter-by-Minimum-distance): Trajectories consist of photos taken from single location is not meaningful as a trajectory. We remove these trajectories (`minimum_distance`)\n",
    "4. [Speed](#3.4-Filter-by-Speed): Due to the GPS error, there are some trajectories in which a user moves unbelievably fast speed. We remove these trajectories, but try to recover as much information as possible from some trajectories."
   ]
  },
  {
   "cell_type": "markdown",
   "metadata": {},
   "source": [
    "Here's the list of argument we used to generate final trajectories"
   ]
  },
  {
   "cell_type": "code",
   "execution_count": null,
   "metadata": {
    "collapsed": true
   },
   "outputs": [],
   "source": [
    "start_date = '2000-01-01'\n",
    "end_date = '2015-99-99'\n",
    "minimum_distance = 0.5   # km\n",
    "speed_filter = 0    #(0: filter by average speed, 1: filter by point-to-point speed, 2: filter by sophispicated method)\n",
    "maximum_speed = 100    # km/h\n",
    "maximum_duration = 3000    # minute"
   ]
  },
  {
   "cell_type": "markdown",
   "metadata": {},
   "source": [
    "## 3.1. Filter by Timeframe"
   ]
  },
  {
   "cell_type": "markdown",
   "metadata": {},
   "source": [
    "### 3.1.1. Bar chart of taken photos by year"
   ]
  },
  {
   "cell_type": "markdown",
   "metadata": {},
   "source": [
    "First, we filter out trajectories taken from certain period of time to remove any future photos caused by some errors and too old photos. \n",
    "\n",
    "**(The filtering has been done in `filtering_bigbox.py`)**\n",
    "\n",
    "Here's the bar chart that plots the number of photos taken by each year."
   ]
  },
  {
   "cell_type": "code",
   "execution_count": null,
   "metadata": {
    "collapsed": false
   },
   "outputs": [],
   "source": [
    "yeardict = dict()\n",
    "for i in raw.index:\n",
    "    dt = raw.ix[i]['Timestamp']\n",
    "    if dt.year not in yeardict: yeardict[dt.year] = 1\n",
    "    else: yeardict[dt.year] += 1"
   ]
  },
  {
   "cell_type": "code",
   "execution_count": null,
   "metadata": {
    "collapsed": false
   },
   "outputs": [],
   "source": [
    "plt.figure(figsize=[9, 5])\n",
    "plt.xlabel('Year')\n",
    "plt.ylabel('#Photos')\n",
    "X = list(sorted(yeardict.keys()))\n",
    "Y = [yeardict[x] for x in X]\n",
    "plt.bar(X, Y, width=1)"
   ]
  },
  {
   "cell_type": "markdown",
   "metadata": {},
   "source": [
    "## 3.2. Filter by Duration"
   ]
  },
  {
   "cell_type": "markdown",
   "metadata": {},
   "source": [
    "Second, we filter out trajectories which have suspiciously long travel time or the traveling time is zero."
   ]
  },
  {
   "cell_type": "code",
   "execution_count": null,
   "metadata": {
    "collapsed": false
   },
   "outputs": [],
   "source": [
    "traj_stats1 = traj_stats[traj_stats['Total_Time(min)'] < maximum_duration]\n",
    "traj_stats1 = traj_stats1[traj_stats1['Total_Time(min)'] > 0.]\n",
    "traj1 = traj[traj['Trajectory_ID'].isin(traj_stats1['Trajectory_ID'])]"
   ]
  },
  {
   "cell_type": "markdown",
   "metadata": {},
   "source": [
    "### 3.2.1. Histogram of trajectory duration"
   ]
  },
  {
   "cell_type": "code",
   "execution_count": null,
   "metadata": {
    "collapsed": false
   },
   "outputs": [],
   "source": [
    "plt.figure(figsize=[18, 5])\n",
    "plt.subplot(1,2,1)\n",
    "plt.xlabel('Travel_Time(min)')\n",
    "plt.ylabel('#traj')\n",
    "plt.title('Before Filtering')\n",
    "ax0 = traj_stats['Total_Time(min)'].hist(bins=50)\n",
    "ax0.set_yscale('log')\n",
    "\n",
    "plt.subplot(1,2,2)\n",
    "plt.xlabel('Travel_Time(min)')\n",
    "plt.ylabel('#traj')\n",
    "plt.title('After filtering')\n",
    "ax1 = traj_stats1['Total_Time(min)'].hist(bins=50)\n",
    "ax1.set_yscale('log')"
   ]
  },
  {
   "cell_type": "markdown",
   "metadata": {},
   "source": [
    "##  3.3. Filter by Minimum distance"
   ]
  },
  {
   "cell_type": "markdown",
   "metadata": {},
   "source": [
    "Third, we filter out trajectories taken from a single location."
   ]
  },
  {
   "cell_type": "code",
   "execution_count": null,
   "metadata": {
    "collapsed": true
   },
   "outputs": [],
   "source": [
    "traj_stats2 = traj_stats1[traj_stats1['Travel_Distance(km)'] > minimum_distance]\n",
    "traj2 = traj[traj['Trajectory_ID'].isin(traj_stats2['Trajectory_ID'])]"
   ]
  },
  {
   "cell_type": "markdown",
   "metadata": {},
   "source": [
    "#### 3.3.1. Histogram of trajectory length"
   ]
  },
  {
   "cell_type": "code",
   "execution_count": null,
   "metadata": {
    "collapsed": false
   },
   "outputs": [],
   "source": [
    "plt.figure(figsize=[18, 5])\n",
    "plt.subplot(1,2,1)\n",
    "plt.xlabel('Travel_Distance(km)')\n",
    "plt.ylabel('#traj')\n",
    "plt.title('Before Filtering')\n",
    "ax1 = traj_stats1['Travel_Distance(km)'].hist(bins=50)\n",
    "ax1.set_yscale('log')\n",
    "\n",
    "plt.subplot(1,2,2)\n",
    "plt.xlabel('Travel_Distance(km)')\n",
    "plt.ylabel('#traj')\n",
    "plt.title('After filtering')\n",
    "ax2 = traj_stats2['Travel_Distance(km)'].hist(bins=50)\n",
    "ax2.set_yscale('log')"
   ]
  },
  {
   "cell_type": "markdown",
   "metadata": {},
   "source": [
    "## 3.4. Filter by Speed"
   ]
  },
  {
   "cell_type": "markdown",
   "metadata": {},
   "source": [
    "Some trajectories have suspiciously high speed \n",
    "There are three (or more) alternative ways to filter out trajectory which has suspiciously high speed."
   ]
  },
  {
   "cell_type": "code",
   "execution_count": null,
   "metadata": {
    "collapsed": true
   },
   "outputs": [],
   "source": [
    "traj_stats_new = traj_stats2\n",
    "traj_new = traj2"
   ]
  },
  {
   "cell_type": "markdown",
   "metadata": {},
   "source": [
    "### 3.4.1. Drop trajectory by average speed"
   ]
  },
  {
   "cell_type": "code",
   "execution_count": null,
   "metadata": {
    "collapsed": false
   },
   "outputs": [],
   "source": [
    "if speed_filter == 0:\n",
    "    traj_stats_new = traj_stats_new[traj_stats_new['Average_Speed(km/h)'] < maximum_speed]\n",
    "    traj_new = traj_new[traj_new['Trajectory_ID'].isin(traj_stats_new['Trajectory_ID'])]"
   ]
  },
  {
   "cell_type": "markdown",
   "metadata": {},
   "source": [
    "#### 3.4.1.1. Histogram of trajectory speed"
   ]
  },
  {
   "cell_type": "code",
   "execution_count": null,
   "metadata": {
    "collapsed": false
   },
   "outputs": [],
   "source": [
    "if speed_filter == 0:\n",
    "    plt.figure(figsize=[18, 5])\n",
    "    plt.subplot(1,2,1)\n",
    "    plt.xlabel('Average_Speed(km/h)')\n",
    "    plt.ylabel('#traj')\n",
    "    ax = traj_stats_new['Average_Speed(km/h)'].hist(bins=50)\n",
    "    ax.set_yscale('log')"
   ]
  },
  {
   "cell_type": "markdown",
   "metadata": {},
   "source": [
    "### 3.4.2. Drop trajectory by point-to-point speed"
   ]
  },
  {
   "cell_type": "markdown",
   "metadata": {},
   "source": [
    "There are four cases of supersonic trajectory might be happened\n",
    "\n",
    "1. The first point of trajectory is far away from the rest of the trajectory (GPS calibrating/entering building etc..)\n",
    "2. The last point of trajectory is far away from the rest of the trajectory\n",
    "3. One or more middle points of trajectory are far way from the rest of the trajectory (GPS error)\n",
    "4. Mixture of previous three cases\n",
    "\n",
    "The first and second cases are easy to recover by cutting the corresponding point. But it seems we could not easily decide which point(s) should be cut for third and fourth cases. We've decided to remove trajectories in case 3 and 4.\n"
   ]
  },
  {
   "cell_type": "markdown",
   "metadata": {},
   "source": [
    "Compute point-to-point speed before filtering"
   ]
  },
  {
   "cell_type": "code",
   "execution_count": null,
   "metadata": {
    "collapsed": false
   },
   "outputs": [],
   "source": [
    "# compute point-to-point speed\n",
    "speeds = []\n",
    "if speed_filter == 1:   \n",
    "    for tid in traj_stats_new['Trajectory_ID']:\n",
    "        photos = traj_new[traj_new['Trajectory_ID'] == tid]\n",
    "        if photos.shape[0] < 2: continue\n",
    "        for i in range(len(photos.index)-1):\n",
    "            idx1 = photos.index[i]\n",
    "            idx2 = photos.index[i+1]\n",
    "            dist = generate_tables.calc_dist(photos.loc[idx1, 'Longitude'], photos.loc[idx1, 'Latitude'], \\\n",
    "                                             photos.loc[idx2, 'Longitude'], photos.loc[idx2, 'Latitude'])\n",
    "            seconds = (photos.loc[idx1, 'Timestamp'] - photos.loc[idx2, 'Timestamp']).total_seconds()\n",
    "            if seconds == 0: continue\n",
    "            speed = dist * 60. * 60. / abs(seconds)\n",
    "            speeds.append(speed)"
   ]
  },
  {
   "cell_type": "markdown",
   "metadata": {},
   "source": [
    "Histogram of point-to-point speed before filtering"
   ]
  },
  {
   "cell_type": "code",
   "execution_count": null,
   "metadata": {
    "collapsed": false
   },
   "outputs": [],
   "source": [
    "# plot histogram\n",
    "S = [100, 150, 200, 250, 500, 1000, 1236, 100000]\n",
    "if speed_filter == 1:\n",
    "    p2pspeeds = pd.Series(speeds)\n",
    "    plt.figure(figsize=[18,10])\n",
    "    for it in range(len(S)):\n",
    "        plt.subplot(4,2,it+1)\n",
    "        plt.ylabel('#point-pair')\n",
    "        plt.title('Speed < ' + str(S[it]) + ' km/h')\n",
    "        ax = p2pspeeds[p2pspeeds < S[it]].hist(bins=50)\n",
    "        ax.set_yscale('log')"
   ]
  },
  {
   "cell_type": "markdown",
   "metadata": {},
   "source": [
    "Drop the first/last point in a trajectories for case1/case2, drop enter trajectories for case3 and case4"
   ]
  },
  {
   "cell_type": "code",
   "execution_count": null,
   "metadata": {
    "collapsed": false
   },
   "outputs": [],
   "source": [
    "if speed_filter == 1:\n",
    "    # raise an exception if assigning value to a copy (instead of the original data) of DataFrame\n",
    "    pd.set_option('mode.chained_assignment','raise') \n",
    "    traj_stats_new = traj_stats_new.copy()\n",
    "    traj_new = traj_new.copy()\n",
    "\n",
    "    indicator_traj = pd.Series(data=np.ones(traj_stats_new.shape[0], dtype=np.bool), index=traj_stats_new.index)\n",
    "    indicator_photo = pd.Series(data=np.ones(traj_new.shape[0], dtype=np.bool), index=traj_new.index)\n",
    "    cnt1 = 0\n",
    "    cnt2 = 0\n",
    "    cnt34 = 0\n",
    "    for i in traj_stats_new['Trajectory_ID'].index:\n",
    "        tid = traj_stats_new.loc[i, 'Trajectory_ID']\n",
    "        photos = traj_new[traj_new['Trajectory_ID'] == tid]\n",
    "        if photos.shape[0] <= 2:\n",
    "            if traj_stats_new.loc[i, 'Average_Speed(km/h)'] > maximum_speed: # drop the trajectory\n",
    "                indicator_traj.loc[i] = False\n",
    "                indicator_photo.loc[photos.index] = False\n",
    "            continue\n",
    "        idx1 = photos.index[0]\n",
    "        idx2 = photos.index[1]\n",
    "        idx3 = photos.index[-2]\n",
    "        idx4 = photos.index[-1]\n",
    "        d12 = generate_tables.calc_dist(photos.loc[idx1, 'Longitude'], photos.loc[idx1, 'Latitude'], \\\n",
    "                                        photos.loc[idx2, 'Longitude'], photos.loc[idx2, 'Latitude'])\n",
    "        d24 = traj_stats_new.loc[i, 'Travel_Distance(km)'] - d12\n",
    "        assert(d24 > 0.)\n",
    "        t12 = abs((photos.loc[idx1, 'Timestamp'] - photos.loc[idx2, 'Timestamp']).total_seconds())\n",
    "        t24 = abs((photos.loc[idx2, 'Timestamp'] - photos.loc[idx4, 'Timestamp']).total_seconds())\n",
    "        # check case 1\n",
    "        if t12 == 0 or (d12 * 60. * 60. / t12) > maximum_speed: #photo1-->photo2, inf speed or large speed\n",
    "            if t24 == 0 or (d24 * 60. * 60. / t24) > maximum_speed: # drop the trajectory\n",
    "                indicator_traj.loc[i] = False\n",
    "                indicator_photo.loc[photos.index] = False\n",
    "                continue\n",
    "            else: # case 1, drop the first photo, update trajectory statistics\n",
    "                #traj_stats.ix[i]['Start_Time'] = photos.ix[idx2]['Timestamp'] # SettingWithCopyWarning\n",
    "                indicator_photo.loc[idx1] = False\n",
    "                traj_stats_new.loc[i, 'Start_Time'] = photos.loc[idx2, 'Timestamp']\n",
    "                traj_stats_new.loc[i, 'Travel_Distance(km)'] = d24\n",
    "                traj_stats_new.loc[i, 'Total_Time(min)'] = t24 / 60.\n",
    "                traj_stats_new.loc[i, 'Average_Speed(km/h)'] = d24 * 60. * 60. / t24\n",
    "                cnt1 += 1\n",
    "                continue\n",
    "        # check case 2\n",
    "        d34 = generate_tables.calc_dist(photos.loc[idx3, 'Longitude'], photos.loc[idx3, 'Latitude'], \\\n",
    "                                        photos.loc[idx4, 'Longitude'], photos.loc[idx4, 'Latitude'])\n",
    "        d13 = traj_stats_new.loc[i, 'Travel_Distance(km)'] - d34\n",
    "        t34 = abs((photos.loc[idx3, 'Timestamp'] - photos.loc[idx4, 'Timestamp']).total_seconds())\n",
    "        t13 = abs((photos.loc[idx1, 'Timestamp'] - photos.loc[idx3, 'Timestamp']).total_seconds())\n",
    "        if t34 == 0 or (d34 * 60. * 60. / t34) > maximum_speed: #photo3-->photo4, inf speed or large speed\n",
    "            if t13 == 0 or (d13 * 60. * 60. / t13) > maximum_speed: # drop the trajectory\n",
    "                indicator_traj.loc[i] = False\n",
    "                indicator_photo.loc[photos.index] = False\n",
    "                continue\n",
    "            else: # case 2, drop the last photo, update trajectory statistics\n",
    "                #traj_stats.ix[i]['Travel_Distance(km)'] = d13 # SettingWithCopyWarning\n",
    "                indicator_photo.loc[idx4] = False\n",
    "                traj_stats_new.loc[i, 'Travel_Distance(km)'] = d13\n",
    "                traj_stats_new.loc[i, 'Total_Time(min)'] = d13 / 60.\n",
    "                traj_stats_new.loc[i, 'Average_Speed(km/h)'] = d13 * 60. * 60. / t13\n",
    "                cnt2 += 1\n",
    "                continue\n",
    "            \n",
    "        # case 3 or 4, drop trajectory\n",
    "        if traj_stats_new.loc[i, 'Average_Speed(km/h)'] > maximum_speed:\n",
    "            indicator_traj.loc[i] = False\n",
    "            indicator_photo.loc[photos.index] = False\n",
    "            cnt34 += 1\n",
    "    \n",
    "    print('Number of trajectories in case 1:', cnt1)\n",
    "    print('Number of trajectories in case 2:', cnt2)\n",
    "    print('Number of trajectories in case 3 & 4:', cnt34)\n",
    "\n",
    "    traj_new = traj_new[indicator_photo]\n",
    "    traj_stats_new = traj_stats_new[indicator_traj]"
   ]
  },
  {
   "cell_type": "markdown",
   "metadata": {},
   "source": [
    "Compute point-to-point speed after filtering"
   ]
  },
  {
   "cell_type": "code",
   "execution_count": null,
   "metadata": {
    "collapsed": false
   },
   "outputs": [],
   "source": [
    "# compute point-to-point speed\n",
    "speeds_new = []\n",
    "if speed_filter == 1:\n",
    "    for tid in traj_stats_new['Trajectory_ID']:\n",
    "        photos = traj_new[traj_new['Trajectory_ID'] == tid]\n",
    "        if photos.shape[0] < 2: continue\n",
    "        for i in range(len(photos.index)-1):\n",
    "            idx1 = photos.index[i]\n",
    "            idx2 = photos.index[i+1]\n",
    "            dist = generate_tables.calc_dist(photos.loc[idx1, 'Longitude'], photos.loc[idx1, 'Latitude'], \\\n",
    "                                             photos.loc[idx2, 'Longitude'], photos.loc[idx2, 'Latitude'])\n",
    "            seconds = (photos.loc[idx1, 'Timestamp'] - photos.loc[idx2, 'Timestamp']).total_seconds()\n",
    "            if seconds == 0: continue\n",
    "            speed = dist * 60. * 60. / abs(seconds)\n",
    "            speeds_new.append(speed)"
   ]
  },
  {
   "cell_type": "markdown",
   "metadata": {},
   "source": [
    "### 3.4.3 Drop trajectory by sophisticated method\n"
   ]
  },
  {
   "cell_type": "code",
   "execution_count": null,
   "metadata": {
    "collapsed": true
   },
   "outputs": [],
   "source": [
    "#if speed_filter == 2:"
   ]
  },
  {
   "cell_type": "markdown",
   "metadata": {},
   "source": [
    "# 4. Filtered Trajectory"
   ]
  },
  {
   "cell_type": "markdown",
   "metadata": {},
   "source": [
    "## 4.1. Basic Stats"
   ]
  },
  {
   "cell_type": "markdown",
   "metadata": {
    "collapsed": true
   },
   "source": [
    "More detail analysis will be included in `filckr_analysis.ipynb` and slides. Here we show simple stats from the final result."
   ]
  },
  {
   "cell_type": "code",
   "execution_count": null,
   "metadata": {
    "collapsed": false
   },
   "outputs": [],
   "source": [
    "traj_stats_new.describe()"
   ]
  },
  {
   "cell_type": "markdown",
   "metadata": {},
   "source": [
    "**Save final trajectories to the data folder**"
   ]
  },
  {
   "cell_type": "code",
   "execution_count": null,
   "metadata": {
    "collapsed": false
   },
   "outputs": [],
   "source": [
    "file1 = os.path.join(data_dir + table1)\n",
    "file2 = os.path.join(data_dir + table2)\n",
    "traj_new.to_csv(file1, index=False)\n",
    "traj_stats_new.to_csv(file2, index=False)"
   ]
  },
  {
   "cell_type": "code",
   "execution_count": null,
   "metadata": {
    "collapsed": true
   },
   "outputs": [],
   "source": []
  }
 ],
 "metadata": {
  "kernelspec": {
   "display_name": "Python 3",
   "language": "python",
   "name": "python3"
  },
  "language_info": {
   "codemirror_mode": {
    "name": "ipython",
    "version": 3
   },
   "file_extension": ".py",
   "mimetype": "text/x-python",
   "name": "python",
   "nbconvert_exporter": "python",
   "pygments_lexer": "ipython3",
   "version": "3.4.3"
  }
 },
 "nbformat": 4,
 "nbformat_minor": 0
}
