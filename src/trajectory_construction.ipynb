{
 "cells": [
  {
   "cell_type": "markdown",
   "metadata": {},
   "source": [
    "# Trajectory Construction "
   ]
  },
  {
   "cell_type": "markdown",
   "metadata": {},
   "source": [
    "This note describes how we construct trajectories from photos/movies of [YFCC100M dataset](http://arxiv.org/abs/1502.03409).\n",
    "\n",
    "**Three major steps for constructing trajectories:**\n",
    "\n",
    "1. Extract photos/videos taken near Melbourne area from original YFCC100M dataset (`filtering_bigbox.py`)\n",
    "2. Extract initial trajectories based on the extracted photos/videos (`generate_tables.py`)\n",
    "3. Filter out some abnormal trajectories using various criteria (in this notebook)\n"
   ]
  },
  {
   "cell_type": "markdown",
   "metadata": {},
   "source": [
    "## Construction Process\n",
    "* [1. Extract initial relevant points from YFCC100M dataset](#1.-Extracting-relevant-points-from-YFCC100M-dataset)\n",
    "    * [1.1. Basic stats of initial dataset](#1.1.-Basic-stats-of-initial-dataset)\n",
    "    * [1.2. Scatter plot of extracted points](#1.2.-Scatter-plot-of-extracted-points)\n",
    "* [2. Extract initial trajectories from extracted points](#2.-Extract-initial-trajectories-from-extracted-points)\n",
    "    * [2.1 Basic stats after extracting initial trajectories](#2.1-Basic-stats-after-extracting-initial-trajectories)\n",
    "* [3. Filter Trajectory](#3.-Filter-Trajectory)\n",
    "    * [3.1. Filter by Timeframe](#3.1.-Filter-by-Timeframe)\n",
    "        * [3.1.1. Bar chart of taken photos by year](#3.1.1.-Bar-chart-of-taken-photos-by-year)\n",
    "    * [3.2. Filter by Duration](#3.2.-Filter-by-Duration)\n",
    "        * [3.2.1. Histogram of trajectory duration](#3.2.1.-Histogram-of-trajectory-duration)\n",
    "    * [3.3. Filter by Minimum distance](#3.3.-Filter-by-Minimum-distance)\n",
    "        * [3.3.1. Histogram of trajectory length](#3.3.1.-Histogram-of-trajectory-length)\n",
    "    * [3.4. Filter by Speed](#3.4.-Filter-by-Speed)\n",
    "        * [3.4.1. Drop trajectory by average speed](#3.4.1.-Drop-trajectory-by-averag--speed)\n",
    "            * [3.4.1.1. Histogram of trajectory speed](#3.4.1.1.-Histogram-of-trajectory-speed)\n",
    "        * [3.4.2. Drop trajectory by point-to-point speed](#3.4.2.-Drop-trajectory-by-point-to-point-speed)\n",
    "            * [3.4.2.1. Histogram of point-to-point speed](#3.4.2.1.-Histogram-of-point-to-point-speed)\n",
    "        * [3.4.3. Drop trajectory by sophisticated method](#3.4.3-Drop-trajectory-by-sophisticated-method)\n",
    "* [4. Filtered Trajectory](#4.-Filtered-Trajectory)\n",
    "    * [4.1. Basic Stats](#4.1.-Basic-Stats)"
   ]
  },
  {
   "cell_type": "markdown",
   "metadata": {},
   "source": [
    "# 1. Extract relevant points from YFCC100M dataset"
   ]
  },
  {
   "cell_type": "markdown",
   "metadata": {},
   "source": [
    "From the original YFCC100M dataset, we first extract the photos/movies belongs to the below region."
   ]
  },
  {
   "cell_type": "markdown",
   "metadata": {},
   "source": [
    "![big-box](./img/bigbox.png)"
   ]
  },
  {
   "cell_type": "markdown",
   "metadata": {},
   "source": [
    "`filtering_bigbox.py` file take the original YFCC100M file to extract photos and videos from above region, and will generate a cvs file containing:\n",
    "* Photo/video ID\n",
    "* NSID (user ID)\n",
    "* Date\n",
    "* Longitude\n",
    "* Latitude\n",
    "* Accuracy (GPS accuracy)\n",
    "* Photo/video URL\n",
    "* Photo/video identifier (0 = photo, 1 = video)\n",
    "\n",
    "The usage of this file is :\n",
    "> `python filtering_bigbox.py YFCC100M_DATA_FILE`\n",
    "\n",
    "which will generate `out.YFCC100M_DATA_FILE` file"
   ]
  },
  {
   "cell_type": "code",
   "execution_count": 1,
   "metadata": {
    "collapsed": true
   },
   "outputs": [],
   "source": [
    "%matplotlib inline\n",
    "\n",
    "import os\n",
    "import matplotlib\n",
    "import pandas as pd\n",
    "import numpy as np\n",
    "import matplotlib.pyplot as plt\n",
    "from datetime import datetime\n",
    "import generate_tables\n",
    "import traj_visualise\n",
    "\n",
    "data_dir = '../data/'\n",
    "raw_table = os.path.join(data_dir, 'Melb-bigbox.csv')\n",
    "raw = pd.read_csv(raw_table, parse_dates=[2], skipinitialspace=True)"
   ]
  },
  {
   "cell_type": "markdown",
   "metadata": {},
   "source": [
    "## 1.1. Basic stats of initial dataset\n"
   ]
  },
  {
   "cell_type": "code",
   "execution_count": 2,
   "metadata": {
    "collapsed": false
   },
   "outputs": [
    {
     "name": "stdout",
     "output_type": "stream",
     "text": [
      "Number of photos: 216472\n",
      "Number of users:  2982\n"
     ]
    },
    {
     "data": {
      "text/html": [
       "<div>\n",
       "<table border=\"1\" class=\"dataframe\">\n",
       "  <thead>\n",
       "    <tr style=\"text-align: right;\">\n",
       "      <th></th>\n",
       "      <th>Longitude</th>\n",
       "      <th>Latitude</th>\n",
       "      <th>Accuracy</th>\n",
       "    </tr>\n",
       "  </thead>\n",
       "  <tbody>\n",
       "    <tr>\n",
       "      <th>count</th>\n",
       "      <td>216472.000000</td>\n",
       "      <td>216472.000000</td>\n",
       "      <td>216472.00000</td>\n",
       "    </tr>\n",
       "    <tr>\n",
       "      <th>mean</th>\n",
       "      <td>144.896785</td>\n",
       "      <td>-37.834228</td>\n",
       "      <td>14.27356</td>\n",
       "    </tr>\n",
       "    <tr>\n",
       "      <th>std</th>\n",
       "      <td>0.652072</td>\n",
       "      <td>0.408834</td>\n",
       "      <td>2.09961</td>\n",
       "    </tr>\n",
       "    <tr>\n",
       "      <th>min</th>\n",
       "      <td>141.902733</td>\n",
       "      <td>-39.284489</td>\n",
       "      <td>1.00000</td>\n",
       "    </tr>\n",
       "    <tr>\n",
       "      <th>25%</th>\n",
       "      <td>144.937386</td>\n",
       "      <td>-37.878579</td>\n",
       "      <td>13.00000</td>\n",
       "    </tr>\n",
       "    <tr>\n",
       "      <th>50%</th>\n",
       "      <td>144.967147</td>\n",
       "      <td>-37.818361</td>\n",
       "      <td>15.00000</td>\n",
       "    </tr>\n",
       "    <tr>\n",
       "      <th>75%</th>\n",
       "      <td>145.021247</td>\n",
       "      <td>-37.797848</td>\n",
       "      <td>16.00000</td>\n",
       "    </tr>\n",
       "    <tr>\n",
       "      <th>max</th>\n",
       "      <td>147.098680</td>\n",
       "      <td>-35.804727</td>\n",
       "      <td>16.00000</td>\n",
       "    </tr>\n",
       "  </tbody>\n",
       "</table>\n",
       "</div>"
      ],
      "text/plain": [
       "           Longitude       Latitude      Accuracy\n",
       "count  216472.000000  216472.000000  216472.00000\n",
       "mean      144.896785     -37.834228      14.27356\n",
       "std         0.652072       0.408834       2.09961\n",
       "min       141.902733     -39.284489       1.00000\n",
       "25%       144.937386     -37.878579      13.00000\n",
       "50%       144.967147     -37.818361      15.00000\n",
       "75%       145.021247     -37.797848      16.00000\n",
       "max       147.098680     -35.804727      16.00000"
      ]
     },
     "execution_count": 2,
     "metadata": {},
     "output_type": "execute_result"
    }
   ],
   "source": [
    "print('Number of photos:', raw['Photo_ID'].shape[0])\n",
    "print('Number of users: ', raw['User_ID'].unique().shape[0])\n",
    "raw[['Longitude', 'Latitude', 'Accuracy']].describe() \n",
    "# Longitude should be in [141.9, 147.1]\n",
    "# Latitude should be in [-39.3, -35.8]\n",
    "# Accuracy should be in [1, 16]"
   ]
  },
  {
   "cell_type": "markdown",
   "metadata": {},
   "source": [
    "### 1.2. Scatter plot of extracted points"
   ]
  },
  {
   "cell_type": "code",
   "execution_count": 3,
   "metadata": {
    "collapsed": false
   },
   "outputs": [
    {
     "data": {
      "text/plain": [
       "<matplotlib.collections.PathCollection at 0x118b64160>"
      ]
     },
     "execution_count": 3,
     "metadata": {},
     "output_type": "execute_result"
    },
    {
     "data": {
      "image/png": "[encoded data removed]",
      "text/plain": [
       "<matplotlib.figure.Figure at 0x10624c080>"
      ]
     },
     "metadata": {},
     "output_type": "display_data"
    }
   ],
   "source": [
    "plt.figure(figsize=[10, 10])\n",
    "plt.xlabel('Longitude')\n",
    "plt.ylabel('Latitude')\n",
    "plt.scatter(raw['Longitude'], raw['Latitude'])"
   ]
  },
  {
   "cell_type": "markdown",
   "metadata": {},
   "source": [
    "# 2. Extract initial trajectories from extracted points"
   ]
  },
  {
   "cell_type": "markdown",
   "metadata": {},
   "source": [
    "With extracted photos(videos) by `filtering_bigbox.py`, we construct initial trajectories with following processes based on several basic criteria."
   ]
  },
  {
   "cell_type": "markdown",
   "metadata": {},
   "source": [
    "1. Group photos by user\n",
    "2. Sort grouped photos by timestamp\n",
    "3. Split the sorted photos where the second photo of two adjacent photos are taken more than `time_gap` time after\n",
    "4. Keep trajectories of which at **least one photo** is taken from the below region:"
   ]
  },
  {
   "cell_type": "markdown",
   "metadata": {},
   "source": [
    "![small-box](./img/smallbox.png)"
   ]
  },
  {
   "cell_type": "markdown",
   "metadata": {},
   "source": [
    "Here's the argument list:"
   ]
  },
  {
   "cell_type": "code",
   "execution_count": 4,
   "metadata": {
    "collapsed": true
   },
   "outputs": [],
   "source": [
    "extracted_points_file = os.path.join(data_dir, 'Melb-bigbox.csv') # outputfile path of extracted points\n",
    "time_gap = 8  # hour\n",
    "minimum_photo = 1 # minimum number of photos for each trajectory\n",
    "\n",
    "# small bounding box\n",
    "lng_min = 144.597363\n",
    "lat_min = -38.072257\n",
    "lng_max = 145.360413\n",
    "lat_max = -37.591764"
   ]
  },
  {
   "cell_type": "markdown",
   "metadata": {},
   "source": [
    "`generate_tables.py` will generate the inital trajectories using above arguments."
   ]
  },
  {
   "cell_type": "code",
   "execution_count": 5,
   "metadata": {
    "collapsed": false
   },
   "outputs": [],
   "source": [
    "%run generate_tables $extracted_points_file $lng_min $lat_min $lng_max $lat_max $minimum_photo $time_gap "
   ]
  },
  {
   "cell_type": "code",
   "execution_count": 6,
   "metadata": {
    "collapsed": true
   },
   "outputs": [],
   "source": [
    "table1 = 'Melb-table1.csv'\n",
    "table2 = 'Melb-table2.csv'\n",
    "photo_table = os.path.join(data_dir, table1)\n",
    "traj_table = os.path.join(data_dir, table2)\n",
    "traj = pd.read_csv(photo_table, parse_dates=[3], skipinitialspace=True)\n",
    "traj_stats = pd.read_csv(traj_table, parse_dates=[3], skipinitialspace=True)"
   ]
  },
  {
   "cell_type": "markdown",
   "metadata": {},
   "source": [
    "## 2.1. Basic stats after extracting initial trajectories"
   ]
  },
  {
   "cell_type": "code",
   "execution_count": 7,
   "metadata": {
    "collapsed": false
   },
   "outputs": [
    {
     "name": "stdout",
     "output_type": "stream",
     "text": [
      "Number of photos: 151585\n",
      "Number of users:  2443\n",
      "Number of trajectories: 26468\n",
      "Average number of photos per user: 62.0487106017192\n",
      "Average number of trajectories per user: 10.834220221039706\n"
     ]
    }
   ],
   "source": [
    "print('Number of photos:', traj['Photo_ID'].shape[0])\n",
    "print('Number of users: ', traj_stats['User_ID'].unique().shape[0])\n",
    "print('Number of trajectories:', traj_stats['Trajectory_ID'].shape[0])\n",
    "print('Average number of photos per user:', \\\n",
    "      1.0 * traj['Photo_ID'].shape[0] / traj_stats['User_ID'].unique().shape[0])\n",
    "print('Average number of trajectories per user:', \\\n",
    "      1.0 * traj_stats['Trajectory_ID'].shape[0] / traj_stats['User_ID'].unique().shape[0])"
   ]
  },
  {
   "cell_type": "code",
   "execution_count": 8,
   "metadata": {
    "collapsed": false
   },
   "outputs": [
    {
     "data": {
      "text/html": [
       "<div>\n",
       "<table border=\"1\" class=\"dataframe\">\n",
       "  <thead>\n",
       "    <tr style=\"text-align: right;\">\n",
       "      <th></th>\n",
       "      <th>#Photo</th>\n",
       "      <th>Travel_Distance(km)</th>\n",
       "      <th>Total_Time(min)</th>\n",
       "      <th>Average_Speed(km/h)</th>\n",
       "    </tr>\n",
       "  </thead>\n",
       "  <tbody>\n",
       "    <tr>\n",
       "      <th>count</th>\n",
       "      <td>26468.000000</td>\n",
       "      <td>26468.000000</td>\n",
       "      <td>26468.000000</td>\n",
       "      <td>26468.000000</td>\n",
       "    </tr>\n",
       "    <tr>\n",
       "      <th>mean</th>\n",
       "      <td>5.727104</td>\n",
       "      <td>6.428739</td>\n",
       "      <td>69.438155</td>\n",
       "      <td>203.032228</td>\n",
       "    </tr>\n",
       "    <tr>\n",
       "      <th>std</th>\n",
       "      <td>18.028451</td>\n",
       "      <td>92.474613</td>\n",
       "      <td>147.247720</td>\n",
       "      <td>20886.528789</td>\n",
       "    </tr>\n",
       "    <tr>\n",
       "      <th>min</th>\n",
       "      <td>1.000000</td>\n",
       "      <td>0.000000</td>\n",
       "      <td>0.000000</td>\n",
       "      <td>0.000000</td>\n",
       "    </tr>\n",
       "    <tr>\n",
       "      <th>25%</th>\n",
       "      <td>1.000000</td>\n",
       "      <td>0.000000</td>\n",
       "      <td>0.000000</td>\n",
       "      <td>0.000000</td>\n",
       "    </tr>\n",
       "    <tr>\n",
       "      <th>50%</th>\n",
       "      <td>1.000000</td>\n",
       "      <td>0.000000</td>\n",
       "      <td>0.000000</td>\n",
       "      <td>0.000000</td>\n",
       "    </tr>\n",
       "    <tr>\n",
       "      <th>75%</th>\n",
       "      <td>4.000000</td>\n",
       "      <td>0.137448</td>\n",
       "      <td>59.745833</td>\n",
       "      <td>0.195719</td>\n",
       "    </tr>\n",
       "    <tr>\n",
       "      <th>max</th>\n",
       "      <td>1340.000000</td>\n",
       "      <td>11936.856210</td>\n",
       "      <td>2488.683333</td>\n",
       "      <td>3368377.502404</td>\n",
       "    </tr>\n",
       "  </tbody>\n",
       "</table>\n",
       "</div>"
      ],
      "text/plain": [
       "             #Photo  Travel_Distance(km)  Total_Time(min)  Average_Speed(km/h)\n",
       "count  26468.000000         26468.000000     26468.000000         26468.000000\n",
       "mean       5.727104             6.428739        69.438155           203.032228\n",
       "std       18.028451            92.474613       147.247720         20886.528789\n",
       "min        1.000000             0.000000         0.000000             0.000000\n",
       "25%        1.000000             0.000000         0.000000             0.000000\n",
       "50%        1.000000             0.000000         0.000000             0.000000\n",
       "75%        4.000000             0.137448        59.745833             0.195719\n",
       "max     1340.000000         11936.856210      2488.683333       3368377.502404"
      ]
     },
     "execution_count": 8,
     "metadata": {},
     "output_type": "execute_result"
    }
   ],
   "source": [
    "traj_stats[['#Photo', 'Travel_Distance(km)', 'Total_Time(min)', 'Average_Speed(km/h)']].describe()"
   ]
  },
  {
   "cell_type": "code",
   "execution_count": 9,
   "metadata": {
    "collapsed": false
   },
   "outputs": [
    {
     "data": {
      "text/html": [
       "<div>\n",
       "<table border=\"1\" class=\"dataframe\">\n",
       "  <thead>\n",
       "    <tr style=\"text-align: right;\">\n",
       "      <th></th>\n",
       "      <th>Longitude</th>\n",
       "      <th>Latitude</th>\n",
       "      <th>Accuracy</th>\n",
       "    </tr>\n",
       "  </thead>\n",
       "  <tbody>\n",
       "    <tr>\n",
       "      <th>count</th>\n",
       "      <td>151585.000000</td>\n",
       "      <td>151585.000000</td>\n",
       "      <td>151585.000000</td>\n",
       "    </tr>\n",
       "    <tr>\n",
       "      <th>mean</th>\n",
       "      <td>144.971099</td>\n",
       "      <td>-37.827981</td>\n",
       "      <td>14.592671</td>\n",
       "    </tr>\n",
       "    <tr>\n",
       "      <th>std</th>\n",
       "      <td>0.228659</td>\n",
       "      <td>0.130748</td>\n",
       "      <td>1.957338</td>\n",
       "    </tr>\n",
       "    <tr>\n",
       "      <th>min</th>\n",
       "      <td>141.924213</td>\n",
       "      <td>-39.284489</td>\n",
       "      <td>1.000000</td>\n",
       "    </tr>\n",
       "    <tr>\n",
       "      <th>25%</th>\n",
       "      <td>144.955115</td>\n",
       "      <td>-37.837150</td>\n",
       "      <td>14.000000</td>\n",
       "    </tr>\n",
       "    <tr>\n",
       "      <th>50%</th>\n",
       "      <td>144.967646</td>\n",
       "      <td>-37.817064</td>\n",
       "      <td>15.000000</td>\n",
       "    </tr>\n",
       "    <tr>\n",
       "      <th>75%</th>\n",
       "      <td>144.984063</td>\n",
       "      <td>-37.804500</td>\n",
       "      <td>16.000000</td>\n",
       "    </tr>\n",
       "    <tr>\n",
       "      <th>max</th>\n",
       "      <td>147.096376</td>\n",
       "      <td>-35.821153</td>\n",
       "      <td>16.000000</td>\n",
       "    </tr>\n",
       "  </tbody>\n",
       "</table>\n",
       "</div>"
      ],
      "text/plain": [
       "           Longitude       Latitude       Accuracy\n",
       "count  151585.000000  151585.000000  151585.000000\n",
       "mean      144.971099     -37.827981      14.592671\n",
       "std         0.228659       0.130748       1.957338\n",
       "min       141.924213     -39.284489       1.000000\n",
       "25%       144.955115     -37.837150      14.000000\n",
       "50%       144.967646     -37.817064      15.000000\n",
       "75%       144.984063     -37.804500      16.000000\n",
       "max       147.096376     -35.821153      16.000000"
      ]
     },
     "execution_count": 9,
     "metadata": {},
     "output_type": "execute_result"
    }
   ],
   "source": [
    "traj[['Longitude', 'Latitude', 'Accuracy']].describe()"
   ]
  },
  {
   "cell_type": "markdown",
   "metadata": {},
   "source": [
    "## 2.2. Scatter plot of points in all trajectories"
   ]
  },
  {
   "cell_type": "code",
   "execution_count": 10,
   "metadata": {
    "collapsed": false
   },
   "outputs": [
    {
     "data": {
      "text/plain": [
       "<matplotlib.collections.PathCollection at 0x12145ea20>"
      ]
     },
     "execution_count": 10,
     "metadata": {},
     "output_type": "execute_result"
    },
    {
     "data": {
      "image/png": "[encoded data removed]",
      "text/plain": [
       "<matplotlib.figure.Figure at 0x119ec0d30>"
      ]
     },
     "metadata": {},
     "output_type": "display_data"
    }
   ],
   "source": [
    "plt.figure(figsize=[10, 10])\n",
    "plt.xlabel('Longitude')\n",
    "plt.ylabel('Latitude')\n",
    "plt.scatter(traj['Longitude'], traj['Latitude'])"
   ]
  },
  {
   "cell_type": "markdown",
   "metadata": {},
   "source": [
    "# 3. Filter Trajectory"
   ]
  },
  {
   "cell_type": "markdown",
   "metadata": {},
   "source": [
    "After getting an initial list of trajectories, we further filter out improbable trajectories with various criteria.\n",
    "We use four different criteria as follows:\n",
    "\n",
    "1. [Timeframe](#3.1.-Filter-by-Timeframe): We only maintain photos/videos taken during a certain period of time (`start_date`, `end_date`)\n",
    "2. [Duration](#3.2.-Filter-by-Duration): Some suspicious trajectory span over more than 16 hours. We remove trajectories spanning more than certain minutes (`minimum_duration`).\n",
    "3. [Minimum distance](#3.3.-Filter-by-Minimum-distance): Trajectories consist of photos taken from single location is not meaningful as a trajectory. We remove these trajectories (`minimum_distance`)\n",
    "4. [Speed](#3.4-Filter-by-Speed): Due to the GPS error, there are some trajectories in which a user moves unbelievably fast speed. We remove these trajectories, but try to recover as much information as possible from some trajectories."
   ]
  },
  {
   "cell_type": "markdown",
   "metadata": {},
   "source": [
    "Here's the list of argument we used to generate final trajectories"
   ]
  },
  {
   "cell_type": "code",
   "execution_count": 11,
   "metadata": {
    "collapsed": true
   },
   "outputs": [],
   "source": [
    "start_date = '2000-01-01'\n",
    "end_date = '2015-99-99'\n",
    "minimum_distance = 0.5   # km\n",
    "speed_filter = 0    #(0: filter by average speed, 1: filter by point-to-point speed, 2: filter by sophispicated method)\n",
    "maximum_speed = 100    # km/h\n",
    "maximum_duration = 3000    # minute"
   ]
  },
  {
   "cell_type": "markdown",
   "metadata": {},
   "source": [
    "## 3.1. Filter by Timeframe"
   ]
  },
  {
   "cell_type": "markdown",
   "metadata": {},
   "source": [
    "### 3.1.1. Bar chart of taken photos by year"
   ]
  },
  {
   "cell_type": "markdown",
   "metadata": {},
   "source": [
    "First, we filter out trajectories taken from certain period of time to remove any future photos caused by some errors and too old photos. \n",
    "\n",
    "**(The filtering has been done in `filtering_bigbox.py`)**\n",
    "\n",
    "Here's the bar chart that plots the number of photos taken by each year."
   ]
  },
  {
   "cell_type": "code",
   "execution_count": 12,
   "metadata": {
    "collapsed": false
   },
   "outputs": [],
   "source": [
    "yeardict = dict()\n",
    "for i in raw.index:\n",
    "    dt = raw.ix[i]['Timestamp']\n",
    "    if dt.year not in yeardict: yeardict[dt.year] = 1\n",
    "    else: yeardict[dt.year] += 1"
   ]
  },
  {
   "cell_type": "code",
   "execution_count": 13,
   "metadata": {
    "collapsed": false
   },
   "outputs": [
    {
     "data": {
      "text/plain": [
       "<Container object of 15 artists>"
      ]
     },
     "execution_count": 13,
     "metadata": {},
     "output_type": "execute_result"
    },
    {
     "data": {
      "image/png": "[encoded data removed]",
      "text/plain": [
       "<matplotlib.figure.Figure at 0x118b64860>"
      ]
     },
     "metadata": {},
     "output_type": "display_data"
    }
   ],
   "source": [
    "plt.figure(figsize=[9, 5])\n",
    "plt.xlabel('Year')\n",
    "plt.ylabel('#Photos')\n",
    "X = list(sorted(yeardict.keys()))\n",
    "Y = [yeardict[x] for x in X]\n",
    "plt.bar(X, Y, width=1)"
   ]
  },
  {
   "cell_type": "markdown",
   "metadata": {},
   "source": [
    "## 3.2. Filter by Duration"
   ]
  },
  {
   "cell_type": "markdown",
   "metadata": {},
   "source": [
    "Second, we filter out trajectories which have suspiciously long travel time or the traveling time is zero."
   ]
  },
  {
   "cell_type": "code",
   "execution_count": 14,
   "metadata": {
    "collapsed": false
   },
   "outputs": [],
   "source": [
    "traj_stats1 = traj_stats[traj_stats['Total_Time(min)'] < maximum_duration]\n",
    "traj1 = traj[traj['Trajectory_ID'].isin(traj_stats1['Trajectory_ID'])]\n",
    "traj_stats1 = traj_stats1[traj_stats1['Total_Time(min)'] != 0]\n",
    "traj1 = traj1[traj1['Trajectory_ID'].isin(traj_stats1['Trajectory_ID'])]"
   ]
  },
  {
   "cell_type": "markdown",
   "metadata": {},
   "source": [
    "### 3.2.1. Histogram of trajectory duration"
   ]
  },
  {
   "cell_type": "code",
   "execution_count": 15,
   "metadata": {
    "collapsed": false
   },
   "outputs": [
    {
     "data": {
      "image/png": "[encoded data removed]",
      "text/plain": [
       "<matplotlib.figure.Figure at 0x120c0e978>"
      ]
     },
     "metadata": {},
     "output_type": "display_data"
    }
   ],
   "source": [
    "plt.figure(figsize=[18, 5])\n",
    "plt.subplot(1,2,1)\n",
    "plt.xlabel('Travel_Time(min)')\n",
    "plt.ylabel('#traj')\n",
    "plt.title('Before Filtering')\n",
    "ax0 = traj_stats['Total_Time(min)'].hist(bins=50)\n",
    "ax0.set_yscale('log')\n",
    "\n",
    "plt.subplot(1,2,2)\n",
    "plt.xlabel('Travel_Time(min)')\n",
    "plt.ylabel('#traj')\n",
    "plt.title('After filtering')\n",
    "ax1 = traj_stats1['Total_Time(min)'].hist(bins=50)\n",
    "ax1.set_yscale('log')"
   ]
  },
  {
   "cell_type": "markdown",
   "metadata": {},
   "source": [
    "##  3.3. Filter by Minimum distance"
   ]
  },
  {
   "cell_type": "markdown",
   "metadata": {},
   "source": [
    "Third, we filter out trajectories taken from a single location."
   ]
  },
  {
   "cell_type": "code",
   "execution_count": 16,
   "metadata": {
    "collapsed": true
   },
   "outputs": [],
   "source": [
    "traj_stats2 = traj_stats1[traj_stats1['Travel_Distance(km)'] > minimum_distance]\n",
    "traj2 = traj1[traj1['Trajectory_ID'].isin(traj_stats2['Trajectory_ID'])]"
   ]
  },
  {
   "cell_type": "markdown",
   "metadata": {},
   "source": [
    "#### 3.3.1. Histogram of trajectory length"
   ]
  },
  {
   "cell_type": "code",
   "execution_count": 17,
   "metadata": {
    "collapsed": false
   },
   "outputs": [
    {
     "data": {
      "image/png": "[encoded data removed]",
      "text/plain": [
       "<matplotlib.figure.Figure at 0x115b6ca58>"
      ]
     },
     "metadata": {},
     "output_type": "display_data"
    }
   ],
   "source": [
    "plt.figure(figsize=[18, 5])\n",
    "plt.subplot(1,2,1)\n",
    "plt.xlabel('Travel_Distance(km)')\n",
    "plt.ylabel('#traj')\n",
    "plt.title('Before Filtering')\n",
    "ax1 = traj_stats1['Travel_Distance(km)'].hist(bins=50)\n",
    "ax1.set_yscale('log')\n",
    "\n",
    "plt.subplot(1,2,2)\n",
    "plt.xlabel('Travel_Distance(km)')\n",
    "plt.ylabel('#traj')\n",
    "plt.title('After filtering')\n",
    "ax2 = traj_stats2['Travel_Distance(km)'].hist(bins=50)\n",
    "ax2.set_yscale('log')"
   ]
  },
  {
   "cell_type": "markdown",
   "metadata": {},
   "source": [
    "## 3.4. Filter by Speed"
   ]
  },
  {
   "cell_type": "markdown",
   "metadata": {},
   "source": [
    "Some trajectories have suspiciously high speed \n",
    "There are three (or more) alternative ways to filter out trajectory which has suspiciously high speed."
   ]
  },
  {
   "cell_type": "code",
   "execution_count": 18,
   "metadata": {
    "collapsed": true
   },
   "outputs": [],
   "source": [
    "traj_stats_new = traj_stats2\n",
    "traj_new = traj2"
   ]
  },
  {
   "cell_type": "markdown",
   "metadata": {},
   "source": [
    "### 3.4.1. Drop trajectory by average speed"
   ]
  },
  {
   "cell_type": "code",
   "execution_count": 19,
   "metadata": {
    "collapsed": false
   },
   "outputs": [],
   "source": [
    "if speed_filter == 0:\n",
    "    traj_stats_new = traj_stats_new[traj_stats_new['Average_Speed(km/h)'] < maximum_speed]\n",
    "    traj_new = traj_new[traj_new['Trajectory_ID'].isin(traj_stats_new['Trajectory_ID'])]"
   ]
  },
  {
   "cell_type": "markdown",
   "metadata": {},
   "source": [
    "#### 3.4.1.1. Histogram of trajectory speed"
   ]
  },
  {
   "cell_type": "code",
   "execution_count": 20,
   "metadata": {
    "collapsed": false
   },
   "outputs": [
    {
     "data": {
      "image/png": "[encoded data removed]",
      "text/plain": [
       "<matplotlib.figure.Figure at 0x11c51e908>"
      ]
     },
     "metadata": {},
     "output_type": "display_data"
    }
   ],
   "source": [
    "if speed_filter == 0:\n",
    "    plt.figure(figsize=[18, 5])\n",
    "    plt.subplot(1,2,1)\n",
    "    plt.xlabel('Average_Speed(km/h)')\n",
    "    plt.ylabel('#traj')\n",
    "    ax = traj_stats_new['Average_Speed(km/h)'].hist(bins=50)\n",
    "    ax.set_yscale('log')"
   ]
  },
  {
   "cell_type": "markdown",
   "metadata": {},
   "source": [
    "### 3.4.2. Drop trajectory by point-to-point speed"
   ]
  },
  {
   "cell_type": "markdown",
   "metadata": {},
   "source": [
    "There are four cases of supersonic trajectory might be happened\n",
    "\n",
    "1. The first point of trajectory is far away from the rest of the trajectory (GPS calibrating/entering building etc..)\n",
    "2. The last point of trajectory is far away from the rest of the trajectory\n",
    "3. One or more middle points of trajectory are far way from the rest of the trajectory (GPS error)\n",
    "4. Mixture of previous three cases\n",
    "\n",
    "The first and second cases are easy to recover by cutting the corresponding point. But it seems we could not easily decide which point(s) should be cut for third and fourth cases. We've decided to remove trajectories in case 3 and 4.\n"
   ]
  },
  {
   "cell_type": "markdown",
   "metadata": {},
   "source": [
    "Compute point-to-point speed before filtering"
   ]
  },
  {
   "cell_type": "code",
   "execution_count": 21,
   "metadata": {
    "collapsed": false
   },
   "outputs": [],
   "source": [
    "# compute point-to-point speed\n",
    "speeds = []\n",
    "if speed_filter == 1:   \n",
    "    for tid in traj_stats_new['Trajectory_ID']:\n",
    "        photos = traj_new[traj_new['Trajectory_ID'] == tid]\n",
    "        if photos.shape[0] < 2: continue\n",
    "        for i in range(len(photos.index)-1):\n",
    "            idx1 = photos.index[i]\n",
    "            idx2 = photos.index[i+1]\n",
    "            dist = generate_tables.calc_dist(photos.loc[idx1, 'Longitude'], photos.loc[idx1, 'Latitude'], \\\n",
    "                                             photos.loc[idx2, 'Longitude'], photos.loc[idx2, 'Latitude'])\n",
    "            seconds = (photos.loc[idx1, 'Timestamp'] - photos.loc[idx2, 'Timestamp']).total_seconds()\n",
    "            if seconds == 0: continue\n",
    "            speed = dist * 60. * 60. / abs(seconds)\n",
    "            speeds.append(speed)"
   ]
  },
  {
   "cell_type": "markdown",
   "metadata": {},
   "source": [
    "Histogram of point-to-point speed before filtering"
   ]
  },
  {
   "cell_type": "code",
   "execution_count": 22,
   "metadata": {
    "collapsed": false
   },
   "outputs": [],
   "source": [
    "# plot histogram\n",
    "S = [100, 150, 200, 250, 500, 1000, 1236, 100000]\n",
    "if speed_filter == 1:\n",
    "    p2pspeeds = pd.Series(speeds)\n",
    "    plt.figure(figsize=[18,10])\n",
    "    for it in range(len(S)):\n",
    "        plt.subplot(4,2,it+1)\n",
    "        plt.ylabel('#point-pair')\n",
    "        plt.title('Speed < ' + str(S[it]) + ' km/h')\n",
    "        ax = p2pspeeds[p2pspeeds < S[it]].hist(bins=50)\n",
    "        ax.set_yscale('log')"
   ]
  },
  {
   "cell_type": "markdown",
   "metadata": {},
   "source": [
    "Drop the first/last point in a trajectories for case1/case2, drop enter trajectories for case3 and case4"
   ]
  },
  {
   "cell_type": "code",
   "execution_count": 23,
   "metadata": {
    "collapsed": false
   },
   "outputs": [],
   "source": [
    "if speed_filter == 1:\n",
    "    # raise an exception if assigning value to a copy (instead of the original data) of DataFrame\n",
    "    pd.set_option('mode.chained_assignment','raise') \n",
    "    traj_stats_new = traj_stats_new.copy()\n",
    "    traj_new = traj_new.copy()\n",
    "\n",
    "    indicator_traj = pd.Series(data=np.ones(traj_stats_new.shape[0], dtype=np.bool), index=traj_stats_new.index)\n",
    "    indicator_photo = pd.Series(data=np.ones(traj_new.shape[0], dtype=np.bool), index=traj_new.index)\n",
    "    cnt1 = 0\n",
    "    cnt2 = 0\n",
    "    cnt34 = 0\n",
    "    for i in traj_stats_new['Trajectory_ID'].index:\n",
    "        tid = traj_stats_new.loc[i, 'Trajectory_ID']\n",
    "        photos = traj_new[traj_new['Trajectory_ID'] == tid]\n",
    "        if photos.shape[0] <= 2:\n",
    "            if traj_stats_new.loc[i, 'Average_Speed(km/h)'] > maximum_speed: # drop the trajectory\n",
    "                indicator_traj.loc[i] = False\n",
    "                indicator_photo.loc[photos.index] = False\n",
    "            continue\n",
    "        idx1 = photos.index[0]\n",
    "        idx2 = photos.index[1]\n",
    "        idx3 = photos.index[-2]\n",
    "        idx4 = photos.index[-1]\n",
    "        d12 = generate_tables.calc_dist(photos.loc[idx1, 'Longitude'], photos.loc[idx1, 'Latitude'], \\\n",
    "                                        photos.loc[idx2, 'Longitude'], photos.loc[idx2, 'Latitude'])\n",
    "        d24 = generate_tables.calc_dist(photos.loc[idx2, 'Longitude'], photos.loc[idx2, 'Latitude'], \\\n",
    "                                        photos.loc[idx4, 'Longitude'], photos.loc[idx4, 'Latitude'])\n",
    "        t12 = abs((photos.loc[idx1, 'Timestamp'] - photos.loc[idx2, 'Timestamp']).total_seconds())\n",
    "        t24 = abs((photos.loc[idx2, 'Timestamp'] - photos.loc[idx4, 'Timestamp']).total_seconds())\n",
    "        # check case 1\n",
    "        if t12 == 0 or (d12 * 60. * 60. / abs(t12)) > maximum_speed:\n",
    "            if t24 == 0 or (d24 * 60. * 60. / abs(t24)) > maximum_speed: # drop the trajectory\n",
    "                indicator_traj.loc[i] = False\n",
    "                indicator_photo.loc[photos.index] = False\n",
    "                continue\n",
    "            else: # case 1, drop the first photo, update trajectory statistics\n",
    "                #traj_stats.ix[i]['Start_Time'] = photos.ix[idx2]['Timestamp'] # SettingWithCopyWarning\n",
    "                indicator_photo.loc[idx1] = False\n",
    "                traj_stats_new.loc[i, 'Start_Time'] = photos.loc[idx2, 'Timestamp']\n",
    "                traj_stats_new.loc[i, 'Travel_Distance(km)'] = d24\n",
    "                traj_stats_new.loc[i, 'Total_Time(min)'] = t24 / 60.\n",
    "                traj_stats_new.loc[i, 'Average_Speed(km/h)'] = d24 * 60. * 60. / t24\n",
    "                cnt1 += 1\n",
    "                continue\n",
    "        # check case 2\n",
    "        d34 = generate_tables.calc_dist(photos.loc[idx3, 'Longitude'], photos.loc[idx3, 'Latitude'], \\\n",
    "                                        photos.loc[idx4, 'Longitude'], photos.loc[idx4, 'Latitude'])\n",
    "        d13 = generate_tables.calc_dist(photos.loc[idx1, 'Longitude'], photos.loc[idx1, 'Latitude'], \\\n",
    "                                        photos.loc[idx3, 'Longitude'], photos.loc[idx3, 'Latitude'])\n",
    "        t34 = abs((photos.loc[idx3, 'Timestamp'] - photos.loc[idx4, 'Timestamp']).total_seconds())\n",
    "        t13 = abs((photos.loc[idx1, 'Timestamp'] - photos.loc[idx3, 'Timestamp']).total_seconds())\n",
    "        if t34 == 0 or (d34 * 60. * 60. / abs(t34)) > maximum_speed:\n",
    "            if t13 == 0 or (d13 * 60. * 60. / abs(t13)) > maximum_speed: # drop the trajectory\n",
    "                indicator_traj.loc[i] = False\n",
    "                indicator_photo.loc[photos.index] = False\n",
    "                continue\n",
    "            else: # case 2, drop the last photo, update trajectory statistics\n",
    "                #traj_stats.ix[i]['Travel_Distance(km)'] = d13 # SettingWithCopyWarning\n",
    "                indicator_photo.loc[idx4] = False\n",
    "                traj_stats_new.loc[i, 'Travel_Distance(km)'] = d13\n",
    "                traj_stats_new.loc[i, 'Total_Time(min)'] = d13 / 60.\n",
    "                traj_stats_new.loc[i, 'Average_Speed(km/h)'] = d13 * 60. * 60. / t13\n",
    "                cnt2 += 1\n",
    "                continue\n",
    "            \n",
    "        # case 3 or 4, drop trajectory\n",
    "        if traj_stats_new.loc[i, 'Average_Speed(km/h)'] > maximum_speed:\n",
    "            indicator_traj.loc[i] = False\n",
    "            indicator_photo.loc[photos.index] = False\n",
    "            cnt34 += 1\n",
    "    \n",
    "    print('Number of trajectories in case 1:', cnt1)\n",
    "    print('Number of trajectories in case 2:', cnt2)\n",
    "    print('Number of trajectories in case 3 & 4:', cnt34)\n",
    "\n",
    "    traj_new = traj_new[indicator_photo]\n",
    "    traj_stats_new = traj_stats_new[indicator_traj]"
   ]
  },
  {
   "cell_type": "markdown",
   "metadata": {},
   "source": [
    "Compute point-to-point speed after filtering"
   ]
  },
  {
   "cell_type": "code",
   "execution_count": 24,
   "metadata": {
    "collapsed": false
   },
   "outputs": [],
   "source": [
    "# compute point-to-point speed\n",
    "speeds_new = []\n",
    "if speed_filter == 1:\n",
    "    for tid in traj_stats_new['Trajectory_ID']:\n",
    "        photos = traj_new[traj_new['Trajectory_ID'] == tid]\n",
    "        if photos.shape[0] < 2: continue\n",
    "        for i in range(len(photos.index)-1):\n",
    "            idx1 = photos.index[i]\n",
    "            idx2 = photos.index[i+1]\n",
    "            dist = generate_tables.calc_dist(photos.loc[idx1, 'Longitude'], photos.loc[idx1, 'Latitude'], \\\n",
    "                                             photos.loc[idx2, 'Longitude'], photos.loc[idx2, 'Latitude'])\n",
    "            seconds = (photos.loc[idx1, 'Timestamp'] - photos.loc[idx2, 'Timestamp']).total_seconds()\n",
    "            if seconds == 0: continue\n",
    "            speed = dist * 60. * 60. / abs(seconds)\n",
    "            speeds_new.append(speed)"
   ]
  },
  {
   "cell_type": "markdown",
   "metadata": {},
   "source": [
    "### 3.4.3 Drop trajectory by sophisticated method\n"
   ]
  },
  {
   "cell_type": "code",
   "execution_count": 25,
   "metadata": {
    "collapsed": true
   },
   "outputs": [],
   "source": [
    "#if speed_filter == 2:"
   ]
  },
  {
   "cell_type": "markdown",
   "metadata": {},
   "source": [
    "# 4. Filtered Trajectory"
   ]
  },
  {
   "cell_type": "markdown",
   "metadata": {},
   "source": [
    "## 4.1. Basic Stats"
   ]
  },
  {
   "cell_type": "markdown",
   "metadata": {
    "collapsed": true
   },
   "source": [
    "More detail analysis will be included in `filckr_analysis.ipynb` and slides. Here we show simple stats from the final result."
   ]
  },
  {
   "cell_type": "code",
   "execution_count": 26,
   "metadata": {
    "collapsed": false
   },
   "outputs": [
    {
     "data": {
      "text/html": [
       "<div>\n",
       "<table border=\"1\" class=\"dataframe\">\n",
       "  <thead>\n",
       "    <tr style=\"text-align: right;\">\n",
       "      <th></th>\n",
       "      <th>Trajectory_ID</th>\n",
       "      <th>#Photo</th>\n",
       "      <th>Travel_Distance(km)</th>\n",
       "      <th>Total_Time(min)</th>\n",
       "      <th>Average_Speed(km/h)</th>\n",
       "    </tr>\n",
       "  </thead>\n",
       "  <tbody>\n",
       "    <tr>\n",
       "      <th>count</th>\n",
       "      <td>5096.000000</td>\n",
       "      <td>5096.000000</td>\n",
       "      <td>5096.000000</td>\n",
       "      <td>5096.000000</td>\n",
       "      <td>5096.000000</td>\n",
       "    </tr>\n",
       "    <tr>\n",
       "      <th>mean</th>\n",
       "      <td>13437.630298</td>\n",
       "      <td>12.245683</td>\n",
       "      <td>17.491332</td>\n",
       "      <td>237.949719</td>\n",
       "      <td>6.579735</td>\n",
       "    </tr>\n",
       "    <tr>\n",
       "      <th>std</th>\n",
       "      <td>7476.100647</td>\n",
       "      <td>22.019228</td>\n",
       "      <td>50.281598</td>\n",
       "      <td>212.770742</td>\n",
       "      <td>13.775661</td>\n",
       "    </tr>\n",
       "    <tr>\n",
       "      <th>min</th>\n",
       "      <td>7.000000</td>\n",
       "      <td>2.000000</td>\n",
       "      <td>0.500571</td>\n",
       "      <td>0.400000</td>\n",
       "      <td>0.043375</td>\n",
       "    </tr>\n",
       "    <tr>\n",
       "      <th>25%</th>\n",
       "      <td>6954.750000</td>\n",
       "      <td>3.000000</td>\n",
       "      <td>1.337506</td>\n",
       "      <td>71.425000</td>\n",
       "      <td>0.662980</td>\n",
       "    </tr>\n",
       "    <tr>\n",
       "      <th>50%</th>\n",
       "      <td>13494.000000</td>\n",
       "      <td>5.000000</td>\n",
       "      <td>3.757678</td>\n",
       "      <td>184.816667</td>\n",
       "      <td>1.708018</td>\n",
       "    </tr>\n",
       "    <tr>\n",
       "      <th>75%</th>\n",
       "      <td>19957.000000</td>\n",
       "      <td>12.000000</td>\n",
       "      <td>11.553428</td>\n",
       "      <td>353.175000</td>\n",
       "      <td>5.191270</td>\n",
       "    </tr>\n",
       "    <tr>\n",
       "      <th>max</th>\n",
       "      <td>26462.000000</td>\n",
       "      <td>379.000000</td>\n",
       "      <td>1007.089505</td>\n",
       "      <td>2488.683333</td>\n",
       "      <td>99.056659</td>\n",
       "    </tr>\n",
       "  </tbody>\n",
       "</table>\n",
       "</div>"
      ],
      "text/plain": [
       "       Trajectory_ID       #Photo  Travel_Distance(km)  Total_Time(min)  \\\n",
       "count    5096.000000  5096.000000          5096.000000      5096.000000   \n",
       "mean    13437.630298    12.245683            17.491332       237.949719   \n",
       "std      7476.100647    22.019228            50.281598       212.770742   \n",
       "min         7.000000     2.000000             0.500571         0.400000   \n",
       "25%      6954.750000     3.000000             1.337506        71.425000   \n",
       "50%     13494.000000     5.000000             3.757678       184.816667   \n",
       "75%     19957.000000    12.000000            11.553428       353.175000   \n",
       "max     26462.000000   379.000000          1007.089505      2488.683333   \n",
       "\n",
       "       Average_Speed(km/h)  \n",
       "count          5096.000000  \n",
       "mean              6.579735  \n",
       "std              13.775661  \n",
       "min               0.043375  \n",
       "25%               0.662980  \n",
       "50%               1.708018  \n",
       "75%               5.191270  \n",
       "max              99.056659  "
      ]
     },
     "execution_count": 26,
     "metadata": {},
     "output_type": "execute_result"
    }
   ],
   "source": [
    "traj_stats_new.describe()"
   ]
  },
  {
   "cell_type": "markdown",
   "metadata": {},
   "source": [
    "**Save final trajectories to the data folder**"
   ]
  },
  {
   "cell_type": "code",
   "execution_count": 27,
   "metadata": {
    "collapsed": false
   },
   "outputs": [],
   "source": [
    "file1 = os.path.join(data_dir + table1)\n",
    "file2 = os.path.join(data_dir + table2)\n",
    "traj_new.to_csv(file1, index=False)\n",
    "traj_stats_new.to_csv(file2, index=False)"
   ]
  },
  {
   "cell_type": "code",
   "execution_count": null,
   "metadata": {
    "collapsed": true
   },
   "outputs": [],
   "source": []
  }
 ],
 "metadata": {
  "kernelspec": {
   "display_name": "Python 3",
   "language": "python",
   "name": "python3"
  },
  "language_info": {
   "codemirror_mode": {
    "name": "ipython",
    "version": 3
   },
   "file_extension": ".py",
   "mimetype": "text/x-python",
   "name": "python",
   "nbconvert_exporter": "python",
   "pygments_lexer": "ipython3",
   "version": "3.4.3"
  }
 },
 "nbformat": 4,
 "nbformat_minor": 0
}
