{
 "cells": [
  {
   "cell_type": "markdown",
   "metadata": {},
   "source": [
    "# Generate Trajectories from Flickr Photos Taken in Melbourne"
   ]
  },
  {
   "cell_type": "markdown",
   "metadata": {},
   "source": [
    "[Table of Contents](#toc)\n",
    "1. [Load POI Data](#sec1)\n",
    "1. [Load Photo Data](#sec2)\n",
    "1. [Map Photos to POIs & Build Trajectories](#sec3)\n",
    "  1. [Approach I - Greedy](#sec3.1)\n",
    "  1. [Approach II - Dynamic Programming](#sec3.2)\n",
    "1. [Save Trajectory Data](#sec4)\n",
    "  1. [Compute Trajectory Statistics](#sec4.1)\n",
    "  1. [Filtering out Short Trajectories](#sec4.2)\n",
    "  1. [Filtering out Users with Few Trajectories](#sec4.3)"
   ]
  },
  {
   "cell_type": "code",
   "execution_count": 1,
   "metadata": {
    "collapsed": true
   },
   "outputs": [],
   "source": [
    "%matplotlib inline\n",
    "\n",
    "import os, sys, time\n",
    "import pandas as pd\n",
    "import numpy as np\n",
    "from datetime import datetime\n",
    "import matplotlib.pyplot as plt"
   ]
  },
  {
   "cell_type": "code",
   "execution_count": 2,
   "metadata": {
    "collapsed": true
   },
   "outputs": [],
   "source": [
    "def print_progress(cnt, total):\n",
    "    \"\"\"Display a progress bar\"\"\"\n",
    "    assert(cnt > 0 and total > 0 and cnt <= total)\n",
    "    length = 80\n",
    "    ratio = cnt / total\n",
    "    n = int(length * ratio)\n",
    "    sys.stdout.write('\\r[%-80s] %d%%' % ('-'*n, int(ratio*100)))\n",
    "    sys.stdout.flush()"
   ]
  },
  {
   "cell_type": "code",
   "execution_count": 3,
   "metadata": {
    "collapsed": true
   },
   "outputs": [],
   "source": [
    "data_dir = '../data'\n",
    "fpoi = os.path.join(data_dir, 'poi-Melb-0.csv')\n",
    "fpoi_new = os.path.join(data_dir, 'poi-Melb.csv')\n",
    "fphoto = os.path.join(data_dir, 'Melb_photos_bigbox.csv')\n",
    "ftraj_all = os.path.join(data_dir, 'traj-all-Melb.csv')\n",
    "ftraj_noshort = os.path.join(data_dir, 'traj-noshort-Melb.csv')\n",
    "ftraj_nofew = os.path.join(data_dir, 'traj-nofew-Melb.csv')"
   ]
  },
  {
   "cell_type": "markdown",
   "metadata": {},
   "source": [
    "<a id='sec1'></a>"
   ]
  },
  {
   "cell_type": "markdown",
   "metadata": {},
   "source": [
    "## 1. Load POI Data"
   ]
  },
  {
   "cell_type": "code",
   "execution_count": 4,
   "metadata": {
    "collapsed": false
   },
   "outputs": [
    {
     "data": {
      "text/html": [
       "<div>\n",
       "<table border=\"1\" class=\"dataframe\">\n",
       "  <thead>\n",
       "    <tr style=\"text-align: right;\">\n",
       "      <th></th>\n",
       "      <th>poiID</th>\n",
       "      <th>poiCat</th>\n",
       "      <th>poiLon</th>\n",
       "      <th>poiLat</th>\n",
       "    </tr>\n",
       "  </thead>\n",
       "  <tbody>\n",
       "    <tr>\n",
       "      <th>0</th>\n",
       "      <td>0</td>\n",
       "      <td>City precincts</td>\n",
       "      <td>144.96778</td>\n",
       "      <td>-37.82167</td>\n",
       "    </tr>\n",
       "    <tr>\n",
       "      <th>1</th>\n",
       "      <td>1</td>\n",
       "      <td>City precincts</td>\n",
       "      <td>144.94600</td>\n",
       "      <td>-37.81700</td>\n",
       "    </tr>\n",
       "    <tr>\n",
       "      <th>2</th>\n",
       "      <td>2</td>\n",
       "      <td>City precincts</td>\n",
       "      <td>144.97300</td>\n",
       "      <td>-37.81190</td>\n",
       "    </tr>\n",
       "    <tr>\n",
       "      <th>3</th>\n",
       "      <td>3</td>\n",
       "      <td>City precincts</td>\n",
       "      <td>144.96694</td>\n",
       "      <td>-37.79972</td>\n",
       "    </tr>\n",
       "    <tr>\n",
       "      <th>4</th>\n",
       "      <td>4</td>\n",
       "      <td>City precincts</td>\n",
       "      <td>144.96333</td>\n",
       "      <td>-37.80778</td>\n",
       "    </tr>\n",
       "  </tbody>\n",
       "</table>\n",
       "</div>"
      ],
      "text/plain": [
       "   poiID          poiCat     poiLon    poiLat\n",
       "0      0  City precincts  144.96778 -37.82167\n",
       "1      1  City precincts  144.94600 -37.81700\n",
       "2      2  City precincts  144.97300 -37.81190\n",
       "3      3  City precincts  144.96694 -37.79972\n",
       "4      4  City precincts  144.96333 -37.80778"
      ]
     },
     "execution_count": 4,
     "metadata": {},
     "output_type": "execute_result"
    }
   ],
   "source": [
    "poi_df = pd.read_csv(fpoi)\n",
    "poi_df.head()"
   ]
  },
  {
   "cell_type": "code",
   "execution_count": 5,
   "metadata": {
    "collapsed": false
   },
   "outputs": [],
   "source": [
    "poi_df.set_index('poiID', inplace=True)"
   ]
  },
  {
   "cell_type": "code",
   "execution_count": 6,
   "metadata": {
    "collapsed": false
   },
   "outputs": [
    {
     "name": "stdout",
     "output_type": "stream",
     "text": [
      "#POIs: 88\n"
     ]
    }
   ],
   "source": [
    "print('#POIs:', poi_df.shape[0])"
   ]
  },
  {
   "cell_type": "markdown",
   "metadata": {},
   "source": [
    "<a id='sec2'></a>"
   ]
  },
  {
   "cell_type": "markdown",
   "metadata": {},
   "source": [
    "## 2. Load Photo Data"
   ]
  },
  {
   "cell_type": "code",
   "execution_count": 7,
   "metadata": {
    "collapsed": false
   },
   "outputs": [
    {
     "data": {
      "text/html": [
       "<div>\n",
       "<table border=\"1\" class=\"dataframe\">\n",
       "  <thead>\n",
       "    <tr style=\"text-align: right;\">\n",
       "      <th></th>\n",
       "      <th>Photo_ID</th>\n",
       "      <th>User_ID</th>\n",
       "      <th>Timestamp</th>\n",
       "      <th>Longitude</th>\n",
       "      <th>Latitude</th>\n",
       "      <th>Accuracy</th>\n",
       "      <th>URL</th>\n",
       "      <th>Marker(photo=0 video=1)</th>\n",
       "    </tr>\n",
       "  </thead>\n",
       "  <tbody>\n",
       "    <tr>\n",
       "      <th>0</th>\n",
       "      <td>5703013770</td>\n",
       "      <td>25287507@N02</td>\n",
       "      <td>2011-05-09 19:19:58</td>\n",
       "      <td>144.604775</td>\n",
       "      <td>-37.878579</td>\n",
       "      <td>16</td>\n",
       "      <td>http://www.flickr.com/photos/25287507@N02/5703...</td>\n",
       "      <td>0</td>\n",
       "    </tr>\n",
       "    <tr>\n",
       "      <th>1</th>\n",
       "      <td>5653121597</td>\n",
       "      <td>59335517@N02</td>\n",
       "      <td>2011-04-10 13:27:37</td>\n",
       "      <td>145.033779</td>\n",
       "      <td>-37.822310</td>\n",
       "      <td>16</td>\n",
       "      <td>http://www.flickr.com/photos/59335517@N02/5653...</td>\n",
       "      <td>0</td>\n",
       "    </tr>\n",
       "    <tr>\n",
       "      <th>2</th>\n",
       "      <td>5522325184</td>\n",
       "      <td>26303188@N00</td>\n",
       "      <td>2011-03-13 20:44:24</td>\n",
       "      <td>144.981122</td>\n",
       "      <td>-37.824344</td>\n",
       "      <td>14</td>\n",
       "      <td>http://www.flickr.com/photos/26303188@N00/5522...</td>\n",
       "      <td>0</td>\n",
       "    </tr>\n",
       "    <tr>\n",
       "      <th>3</th>\n",
       "      <td>7978703060</td>\n",
       "      <td>82732068@N02</td>\n",
       "      <td>2012-07-14 12:29:43</td>\n",
       "      <td>145.947854</td>\n",
       "      <td>-38.479344</td>\n",
       "      <td>15</td>\n",
       "      <td>http://www.flickr.com/photos/82732068@N02/7978...</td>\n",
       "      <td>0</td>\n",
       "    </tr>\n",
       "    <tr>\n",
       "      <th>4</th>\n",
       "      <td>174030514</td>\n",
       "      <td>19677632@N00</td>\n",
       "      <td>2004-08-01 19:28:40</td>\n",
       "      <td>145.533485</td>\n",
       "      <td>-37.949003</td>\n",
       "      <td>12</td>\n",
       "      <td>http://www.flickr.com/photos/19677632@N00/1740...</td>\n",
       "      <td>0</td>\n",
       "    </tr>\n",
       "  </tbody>\n",
       "</table>\n",
       "</div>"
      ],
      "text/plain": [
       "     Photo_ID       User_ID           Timestamp   Longitude   Latitude  \\\n",
       "0  5703013770  25287507@N02 2011-05-09 19:19:58  144.604775 -37.878579   \n",
       "1  5653121597  59335517@N02 2011-04-10 13:27:37  145.033779 -37.822310   \n",
       "2  5522325184  26303188@N00 2011-03-13 20:44:24  144.981122 -37.824344   \n",
       "3  7978703060  82732068@N02 2012-07-14 12:29:43  145.947854 -38.479344   \n",
       "4   174030514  19677632@N00 2004-08-01 19:28:40  145.533485 -37.949003   \n",
       "\n",
       "   Accuracy                                                URL  \\\n",
       "0        16  http://www.flickr.com/photos/25287507@N02/5703...   \n",
       "1        16  http://www.flickr.com/photos/59335517@N02/5653...   \n",
       "2        14  http://www.flickr.com/photos/26303188@N00/5522...   \n",
       "3        15  http://www.flickr.com/photos/82732068@N02/7978...   \n",
       "4        12  http://www.flickr.com/photos/19677632@N00/1740...   \n",
       "\n",
       "   Marker(photo=0 video=1)  \n",
       "0                        0  \n",
       "1                        0  \n",
       "2                        0  \n",
       "3                        0  \n",
       "4                        0  "
      ]
     },
     "execution_count": 7,
     "metadata": {},
     "output_type": "execute_result"
    }
   ],
   "source": [
    "photo_df = pd.read_csv(fphoto, skipinitialspace=True, parse_dates=[2])\n",
    "photo_df.head()"
   ]
  },
  {
   "cell_type": "markdown",
   "metadata": {},
   "source": [
    "Remove photos with low accuracies (accuracy $< 16$)."
   ]
  },
  {
   "cell_type": "code",
   "execution_count": 8,
   "metadata": {
    "collapsed": false
   },
   "outputs": [
    {
     "name": "stdout",
     "output_type": "stream",
     "text": [
      "[16 14 15 12 11 13  8 10  9  3  5  7  6  4  1  2]\n",
      "[16]\n"
     ]
    }
   ],
   "source": [
    "print(photo_df['Accuracy'].unique())\n",
    "photo_df = photo_df[photo_df['Accuracy'] == 16]\n",
    "print(photo_df['Accuracy'].unique())"
   ]
  },
  {
   "cell_type": "markdown",
   "metadata": {},
   "source": [
    "Remove columns that will not be used."
   ]
  },
  {
   "cell_type": "code",
   "execution_count": 9,
   "metadata": {
    "collapsed": false
   },
   "outputs": [],
   "source": [
    "photo_df.drop(['Accuracy', 'URL', 'Marker(photo=0 video=1)'], axis=1, inplace=True)"
   ]
  },
  {
   "cell_type": "markdown",
   "metadata": {},
   "source": [
    "Convert datatime to unix epoch."
   ]
  },
  {
   "cell_type": "code",
   "execution_count": 10,
   "metadata": {
    "collapsed": true
   },
   "outputs": [],
   "source": [
    "photo_df['dateTaken'] = photo_df['Timestamp'].apply(lambda x: x.timestamp())\n",
    "photo_df.drop('Timestamp', axis=1, inplace=True)"
   ]
  },
  {
   "cell_type": "markdown",
   "metadata": {},
   "source": [
    "Rename columns."
   ]
  },
  {
   "cell_type": "code",
   "execution_count": 11,
   "metadata": {
    "collapsed": false
   },
   "outputs": [
    {
     "data": {
      "text/html": [
       "<div>\n",
       "<table border=\"1\" class=\"dataframe\">\n",
       "  <thead>\n",
       "    <tr style=\"text-align: right;\">\n",
       "      <th></th>\n",
       "      <th>photoID</th>\n",
       "      <th>userID</th>\n",
       "      <th>photoLon</th>\n",
       "      <th>photoLat</th>\n",
       "      <th>dateTaken</th>\n",
       "    </tr>\n",
       "  </thead>\n",
       "  <tbody>\n",
       "    <tr>\n",
       "      <th>0</th>\n",
       "      <td>5703013770</td>\n",
       "      <td>25287507@N02</td>\n",
       "      <td>144.604775</td>\n",
       "      <td>-37.878579</td>\n",
       "      <td>1304932798</td>\n",
       "    </tr>\n",
       "    <tr>\n",
       "      <th>1</th>\n",
       "      <td>5653121597</td>\n",
       "      <td>59335517@N02</td>\n",
       "      <td>145.033779</td>\n",
       "      <td>-37.822310</td>\n",
       "      <td>1302406057</td>\n",
       "    </tr>\n",
       "    <tr>\n",
       "      <th>5</th>\n",
       "      <td>9588963220</td>\n",
       "      <td>67774014@N00</td>\n",
       "      <td>144.965060</td>\n",
       "      <td>-37.815725</td>\n",
       "      <td>1377408461</td>\n",
       "    </tr>\n",
       "    <tr>\n",
       "      <th>9</th>\n",
       "      <td>6191232325</td>\n",
       "      <td>63488421@N08</td>\n",
       "      <td>144.666981</td>\n",
       "      <td>-37.922733</td>\n",
       "      <td>1316741616</td>\n",
       "    </tr>\n",
       "    <tr>\n",
       "      <th>10</th>\n",
       "      <td>6644759687</td>\n",
       "      <td>10559879@N00</td>\n",
       "      <td>144.961177</td>\n",
       "      <td>-37.812759</td>\n",
       "      <td>1325813367</td>\n",
       "    </tr>\n",
       "  </tbody>\n",
       "</table>\n",
       "</div>"
      ],
      "text/plain": [
       "       photoID        userID    photoLon   photoLat   dateTaken\n",
       "0   5703013770  25287507@N02  144.604775 -37.878579  1304932798\n",
       "1   5653121597  59335517@N02  145.033779 -37.822310  1302406057\n",
       "5   9588963220  67774014@N00  144.965060 -37.815725  1377408461\n",
       "9   6191232325  63488421@N08  144.666981 -37.922733  1316741616\n",
       "10  6644759687  10559879@N00  144.961177 -37.812759  1325813367"
      ]
     },
     "execution_count": 11,
     "metadata": {},
     "output_type": "execute_result"
    }
   ],
   "source": [
    "photo_df.rename(columns={'Photo_ID':'photoID', 'User_ID':'userID', 'Longitude':'photoLon', 'Latitude':'photoLat'}, \\\n",
    "                inplace=True)\n",
    "photo_df.head()"
   ]
  },
  {
   "cell_type": "code",
   "execution_count": 12,
   "metadata": {
    "collapsed": false
   },
   "outputs": [
    {
     "data": {
      "text/plain": [
       "(94142, 5)"
      ]
     },
     "execution_count": 12,
     "metadata": {},
     "output_type": "execute_result"
    }
   ],
   "source": [
    "photo_df.shape"
   ]
  },
  {
   "cell_type": "code",
   "execution_count": 13,
   "metadata": {
    "collapsed": false
   },
   "outputs": [
    {
     "name": "stdout",
     "output_type": "stream",
     "text": [
      "#Photos: 94142\n",
      "#Users: 1659\n"
     ]
    }
   ],
   "source": [
    "print('#Photos:', photo_df['photoID'].unique().shape[0])\n",
    "print('#Users:', photo_df['userID'].unique().shape[0])"
   ]
  },
  {
   "cell_type": "code",
   "execution_count": 14,
   "metadata": {
    "collapsed": false
   },
   "outputs": [
    {
     "data": {
      "text/html": [
       "<div>\n",
       "<table border=\"1\" class=\"dataframe\">\n",
       "  <thead>\n",
       "    <tr style=\"text-align: right;\">\n",
       "      <th></th>\n",
       "      <th>userID</th>\n",
       "      <th>photoLon</th>\n",
       "      <th>photoLat</th>\n",
       "      <th>dateTaken</th>\n",
       "      <th>poiID</th>\n",
       "      <th>trajID</th>\n",
       "    </tr>\n",
       "    <tr>\n",
       "      <th>photoID</th>\n",
       "      <th></th>\n",
       "      <th></th>\n",
       "      <th></th>\n",
       "      <th></th>\n",
       "      <th></th>\n",
       "      <th></th>\n",
       "    </tr>\n",
       "  </thead>\n",
       "  <tbody>\n",
       "    <tr>\n",
       "      <th>5703013770</th>\n",
       "      <td>25287507@N02</td>\n",
       "      <td>144.604775</td>\n",
       "      <td>-37.878579</td>\n",
       "      <td>1304932798</td>\n",
       "      <td>-1</td>\n",
       "      <td>-1</td>\n",
       "    </tr>\n",
       "    <tr>\n",
       "      <th>5653121597</th>\n",
       "      <td>59335517@N02</td>\n",
       "      <td>145.033779</td>\n",
       "      <td>-37.822310</td>\n",
       "      <td>1302406057</td>\n",
       "      <td>-1</td>\n",
       "      <td>-1</td>\n",
       "    </tr>\n",
       "    <tr>\n",
       "      <th>9588963220</th>\n",
       "      <td>67774014@N00</td>\n",
       "      <td>144.965060</td>\n",
       "      <td>-37.815725</td>\n",
       "      <td>1377408461</td>\n",
       "      <td>-1</td>\n",
       "      <td>-1</td>\n",
       "    </tr>\n",
       "    <tr>\n",
       "      <th>6191232325</th>\n",
       "      <td>63488421@N08</td>\n",
       "      <td>144.666981</td>\n",
       "      <td>-37.922733</td>\n",
       "      <td>1316741616</td>\n",
       "      <td>-1</td>\n",
       "      <td>-1</td>\n",
       "    </tr>\n",
       "    <tr>\n",
       "      <th>6644759687</th>\n",
       "      <td>10559879@N00</td>\n",
       "      <td>144.961177</td>\n",
       "      <td>-37.812759</td>\n",
       "      <td>1325813367</td>\n",
       "      <td>-1</td>\n",
       "      <td>-1</td>\n",
       "    </tr>\n",
       "  </tbody>\n",
       "</table>\n",
       "</div>"
      ],
      "text/plain": [
       "                  userID    photoLon   photoLat   dateTaken  poiID  trajID\n",
       "photoID                                                                   \n",
       "5703013770  25287507@N02  144.604775 -37.878579  1304932798     -1      -1\n",
       "5653121597  59335517@N02  145.033779 -37.822310  1302406057     -1      -1\n",
       "9588963220  67774014@N00  144.965060 -37.815725  1377408461     -1      -1\n",
       "6191232325  63488421@N08  144.666981 -37.922733  1316741616     -1      -1\n",
       "6644759687  10559879@N00  144.961177 -37.812759  1325813367     -1      -1"
      ]
     },
     "execution_count": 14,
     "metadata": {},
     "output_type": "execute_result"
    }
   ],
   "source": [
    "photo_df.set_index('photoID', inplace=True)\n",
    "photo_df['poiID'] = -1\n",
    "photo_df['trajID'] = -1\n",
    "photo_df.head()"
   ]
  },
  {
   "cell_type": "markdown",
   "metadata": {},
   "source": [
    "<a id='sec3'></a>"
   ]
  },
  {
   "cell_type": "markdown",
   "metadata": {},
   "source": [
    "## 3. Map Photos to POIs & Build Trajectories"
   ]
  },
  {
   "cell_type": "markdown",
   "metadata": {},
   "source": [
    "Generate travel history for each user from the photos taken by him/her."
   ]
  },
  {
   "cell_type": "code",
   "execution_count": 15,
   "metadata": {
    "collapsed": true
   },
   "outputs": [],
   "source": [
    "def calc_dist_vec(longitudes1, latitudes1, longitudes2, latitudes2):\n",
    "    \"\"\"Calculate the distance (unit: km) between two places on earth, vectorised\"\"\"\n",
    "    # convert degrees to radians\n",
    "    lng1 = np.radians(longitudes1)\n",
    "    lat1 = np.radians(latitudes1)\n",
    "    lng2 = np.radians(longitudes2)\n",
    "    lat2 = np.radians(latitudes2)\n",
    "    radius = 6371.0088 # mean earth radius, en.wikipedia.org/wiki/Earth_radius#Mean_radius\n",
    "\n",
    "    # The haversine formula, en.wikipedia.org/wiki/Great-circle_distance\n",
    "    dlng = np.fabs(lng1 - lng2)\n",
    "    dlat = np.fabs(lat1 - lat2)\n",
    "    dist =  2 * radius * np.arcsin( np.sqrt( \n",
    "                (np.sin(0.5*dlat))**2 + np.cos(lat1) * np.cos(lat2) * (np.sin(0.5*dlng))**2 ))\n",
    "    return dist"
   ]
  },
  {
   "cell_type": "markdown",
   "metadata": {},
   "source": [
    "Sanity check."
   ]
  },
  {
   "cell_type": "code",
   "execution_count": 16,
   "metadata": {
    "collapsed": false
   },
   "outputs": [
    {
     "data": {
      "text/plain": [
       "0.0"
      ]
     },
     "execution_count": 16,
     "metadata": {},
     "output_type": "execute_result"
    }
   ],
   "source": [
    "calc_dist_vec(poi_df.loc[0, 'poiLon'], poi_df.loc[0, 'poiLat'], poi_df.loc[0, 'poiLon'], poi_df.loc[0, 'poiLat'])"
   ]
  },
  {
   "cell_type": "markdown",
   "metadata": {},
   "source": [
    "Filtering out photos that leads to super fast speeds."
   ]
  },
  {
   "cell_type": "code",
   "execution_count": 17,
   "metadata": {
    "collapsed": true
   },
   "outputs": [],
   "source": [
    "SUPER_FAST = 150 / (60 * 60)  # 150 km/h"
   ]
  },
  {
   "cell_type": "code",
   "execution_count": 18,
   "metadata": {
    "collapsed": true
   },
   "outputs": [],
   "source": [
    "filter_tags = pd.Series(data=np.zeros(photo_df.shape[0], dtype=np.bool), index=photo_df.index)"
   ]
  },
  {
   "cell_type": "code",
   "execution_count": 19,
   "metadata": {
    "collapsed": false
   },
   "outputs": [
    {
     "name": "stdout",
     "output_type": "stream",
     "text": [
      "[--------------------------------------------------------------------------------] 100%"
     ]
    }
   ],
   "source": [
    "cnt = 0\n",
    "total = photo_df['userID'].unique().shape[0]\n",
    "for user in sorted(photo_df['userID'].unique().tolist()):\n",
    "    udf = photo_df[photo_df['userID'] == user].copy()\n",
    "    udf.sort_values(by='dateTaken', ascending=True, inplace=True)\n",
    "    udists = calc_dist_vec(udf['photoLon'][:-1].values, udf['photoLat'][:-1].values, \\\n",
    "                           udf['photoLon'][1: ].values, udf['photoLat'][1: ].values)\n",
    "    assert(udists.shape[0] == udf.shape[0]-1)\n",
    "    superfast = np.zeros(udf.shape[0]-1, dtype=np.bool)\n",
    "    for i in range(udf.shape[0]-1):\n",
    "        ix1 = udf.index[i]\n",
    "        ix2 = udf.index[i+1]\n",
    "        dtime = udf.loc[ix2, 'dateTaken'] - udf.loc[ix1, 'dateTaken']\n",
    "        assert(dtime >= 0)\n",
    "        if dtime == 0: superfast[i] = True\n",
    "        speed = udists[i] / dtime\n",
    "        if speed > SUPER_FAST: superfast[i] = True\n",
    "    for j in range(superfast.shape[0]-1):\n",
    "        if superfast[j] and superfast[j+1]:  # jx0-->SUPER_FAST-->jx-->SUPER_FAST-->jx1: remove photo jx\n",
    "            jx = udf.index[j+1]\n",
    "            filter_tags.loc[jx] = True\n",
    "    cnt += 1; print_progress(cnt, total)"
   ]
  },
  {
   "cell_type": "code",
   "execution_count": 20,
   "metadata": {
    "collapsed": false
   },
   "outputs": [],
   "source": [
    "for jx in filter_tags.index:\n",
    "    if filter_tags.loc[jx] == True:\n",
    "        photo_df.drop(jx, axis=0, inplace=True)"
   ]
  },
  {
   "cell_type": "code",
   "execution_count": 21,
   "metadata": {
    "collapsed": false
   },
   "outputs": [
    {
     "data": {
      "text/plain": [
       "(92758, 6)"
      ]
     },
     "execution_count": 21,
     "metadata": {},
     "output_type": "execute_result"
    }
   ],
   "source": [
    "photo_df.shape"
   ]
  },
  {
   "cell_type": "markdown",
   "metadata": {},
   "source": [
    "Distance between POIs."
   ]
  },
  {
   "cell_type": "code",
   "execution_count": 22,
   "metadata": {
    "collapsed": true
   },
   "outputs": [],
   "source": [
    "poi_distmat = pd.DataFrame(data=np.zeros((poi_df.shape[0], poi_df.shape[0]), dtype=np.float), \\\n",
    "                           index=poi_df.index, columns=poi_df.index)"
   ]
  },
  {
   "cell_type": "code",
   "execution_count": 23,
   "metadata": {
    "collapsed": true
   },
   "outputs": [],
   "source": [
    "for ix in poi_df.index:\n",
    "    poi_distmat.loc[ix] = calc_dist_vec(poi_df.loc[ix, 'poiLon'], poi_df.loc[ix, 'poiLat'], \\\n",
    "                                        poi_df['poiLon'], poi_df['poiLat'])"
   ]
  },
  {
   "cell_type": "markdown",
   "metadata": {},
   "source": [
    "Distance between photos and POIs."
   ]
  },
  {
   "cell_type": "code",
   "execution_count": 24,
   "metadata": {
    "collapsed": true
   },
   "outputs": [],
   "source": [
    "photo_poi_distmat = pd.DataFrame(data=np.zeros((photo_df.shape[0], poi_df.shape[0]), dtype=np.float), \\\n",
    "                                 index=photo_df.index, columns=poi_df.index)"
   ]
  },
  {
   "cell_type": "code",
   "execution_count": 25,
   "metadata": {
    "collapsed": false
   },
   "outputs": [
    {
     "name": "stdout",
     "output_type": "stream",
     "text": [
      "[--------------------------------------------------------------------------------] 100%"
     ]
    }
   ],
   "source": [
    "for i in range(photo_df.shape[0]):\n",
    "    ix = photo_df.index[i]\n",
    "    photo_poi_distmat.loc[ix] = calc_dist_vec(photo_df.loc[ix, 'photoLon'], photo_df.loc[ix, 'photoLat'], \\\n",
    "                                              poi_df['poiLon'], poi_df['poiLat'])\n",
    "    print_progress(i+1, photo_df.shape[0])"
   ]
  },
  {
   "cell_type": "markdown",
   "metadata": {},
   "source": [
    "\"Map a photo to a POI if their coordinates differ by $<200$m based on the Haversine formula\" according to the [IJCAI15 paper](https://www.nicta.com.au/pub-download/full/8557/)."
   ]
  },
  {
   "cell_type": "code",
   "execution_count": 26,
   "metadata": {
    "collapsed": true
   },
   "outputs": [],
   "source": [
    "DIST_MAX = 0.2  # 0.2km"
   ]
  },
  {
   "cell_type": "markdown",
   "metadata": {},
   "source": [
    "Time gap is $8$ hours according to the [IJCAI15 paper](https://www.nicta.com.au/pub-download/full/8557/)."
   ]
  },
  {
   "cell_type": "code",
   "execution_count": 27,
   "metadata": {
    "collapsed": true
   },
   "outputs": [],
   "source": [
    "TIME_GAP = 8 * 60 * 60  # 8 hours"
   ]
  },
  {
   "cell_type": "code",
   "execution_count": 28,
   "metadata": {
    "collapsed": true
   },
   "outputs": [],
   "source": [
    "users = sorted(photo_df['userID'].unique().tolist())"
   ]
  },
  {
   "cell_type": "markdown",
   "metadata": {},
   "source": [
    "<a id='sec3.1'></a>"
   ]
  },
  {
   "cell_type": "markdown",
   "metadata": {},
   "source": [
    "### 3.1 Map Photos to POIs: Approach I - Greedy"
   ]
  },
  {
   "cell_type": "markdown",
   "metadata": {},
   "source": [
    "Map photo to the closest POI."
   ]
  },
  {
   "cell_type": "code",
   "execution_count": 29,
   "metadata": {
    "collapsed": true
   },
   "outputs": [],
   "source": [
    "traj_greedy = photo_df.copy()"
   ]
  },
  {
   "cell_type": "code",
   "execution_count": 30,
   "metadata": {
    "collapsed": false
   },
   "outputs": [
    {
     "name": "stdout",
     "output_type": "stream",
     "text": [
      "[--------------------------------------------------------------------------------] 100%"
     ]
    }
   ],
   "source": [
    "cnt = 0\n",
    "for ix in traj_greedy.index:\n",
    "    min_ix = photo_poi_distmat.loc[ix].idxmin()\n",
    "    if photo_poi_distmat.loc[ix, min_ix] > DIST_MAX:  # photo is taken at position far from any POI, do NOT use it\n",
    "        pass\n",
    "    else:\n",
    "        traj_greedy.loc[ix, 'poiID'] = poi_df.index[min_ix]  # map photo to the closest POI\n",
    "        # all POIs that are very close to a photo are an option to map\n",
    "        #photo_df.loc[ix, 'poiID'] = str(poi_df.index[~(dists > dist_max)].tolist())\n",
    "    cnt += 1; print_progress(cnt, traj_greedy.shape[0])"
   ]
  },
  {
   "cell_type": "markdown",
   "metadata": {},
   "source": [
    "Build trajectories."
   ]
  },
  {
   "cell_type": "code",
   "execution_count": 31,
   "metadata": {
    "collapsed": true
   },
   "outputs": [],
   "source": [
    "traj_greedy = traj_greedy[traj_greedy['poiID'] != -1]"
   ]
  },
  {
   "cell_type": "code",
   "execution_count": 32,
   "metadata": {
    "collapsed": false
   },
   "outputs": [
    {
     "name": "stdout",
     "output_type": "stream",
     "text": [
      "[--------------------------------------------------------------------------------] 100%"
     ]
    }
   ],
   "source": [
    "tid = 0\n",
    "cnt = 0\n",
    "for user in users:\n",
    "    udf = traj_greedy[traj_greedy['userID'] == user].copy()\n",
    "    udf.sort_values(by='dateTaken', ascending=True, inplace=True)\n",
    "    if udf.shape[0] == 0: \n",
    "        cnt += 1; print_progress(cnt, len(users))\n",
    "        continue\n",
    "    \n",
    "    traj_greedy.loc[udf.index[0], 'trajID'] = tid\n",
    "    for i in range(1, udf.shape[0]):\n",
    "        ix1 = udf.index[i-1]\n",
    "        ix2 = udf.index[i]\n",
    "        if udf.loc[ix2, 'dateTaken'] - udf.loc[ix1, 'dateTaken'] > TIME_GAP:\n",
    "            tid += 1\n",
    "            traj_greedy.loc[ix2, 'trajID'] = tid\n",
    "        else:\n",
    "            traj_greedy.loc[ix2, 'trajID'] = tid\n",
    "    tid += 1  # for trajectories of the next user\n",
    "    cnt += 1; print_progress(cnt, len(users))"
   ]
  },
  {
   "cell_type": "markdown",
   "metadata": {},
   "source": [
    "<a id='sec3.2'></a>"
   ]
  },
  {
   "cell_type": "markdown",
   "metadata": {},
   "source": [
    "### 3.2 Map Photos to POIs: Approach II - Dynamic Programming"
   ]
  },
  {
   "cell_type": "markdown",
   "metadata": {},
   "source": [
    "Given a sequence of photos and a set of POIs, map the sequence of photos to the set of POI such that the total cost is minimised, i.e.,\n",
    "\n",
    "\\begin{equation}\n",
    "\\text{minimize} \\sum_i \\text{distance}(\\text{photo}_i, \\text{POI}_i) + \\alpha \\sum_i \\text{distance}(\\text{POI}_i, \\text{POI}_{i+1})\n",
    "\\end{equation}\n",
    "where $\\text{photo}_i$ is mapped to $\\text{POI}_i$, $\\alpha$ is a trade-off parameter."
   ]
  },
  {
   "cell_type": "code",
   "execution_count": 33,
   "metadata": {
    "collapsed": true
   },
   "outputs": [],
   "source": [
    "def decode_photo_seq(photo_seq, poi_distmat, photo_poi_distmat, DIST_MAX, ALPHA=1):\n",
    "    \"\"\"\n",
    "    Map a sequence of photos to a set of POI such that the total cost, i.e.\n",
    "    cost = sum(distance(photo_i, POI_i)) + sum(distance(POI_i, POI_{i+1})) \n",
    "    is minimised.\n",
    "    Implemented using DP.\n",
    "    \"\"\"\n",
    "    assert(len(photo_seq) > 0)\n",
    "    assert(DIST_MAX > 0)\n",
    "    \n",
    "    if len(photo_seq) == 1:  # only one POI in this sequence\n",
    "        ix = photo_seq[0]\n",
    "        assert(ix in photo_poi_distmat.index)\n",
    "        return [photo_poi_distmat.loc[ix].idxmin()]\n",
    "    \n",
    "    # set of POIs that are close to any photo in the input sequence of photos\n",
    "    poi_t = []\n",
    "    for jx in photo_seq:\n",
    "        poi_t = poi_t + poi_distmat.index[~(photo_poi_distmat.loc[jx] > DIST_MAX)].tolist()\n",
    "    columns = sorted(set(poi_t))\n",
    "    \n",
    "    # cost_df.iloc[i, j] stores the minimum cost of photo sequence [..., 'photo_i'] among all \n",
    "    # possible POI sequences end with 'POI_j', 'photo_i' was mapped to 'POI_j'\n",
    "    cost_df = pd.DataFrame(data=np.zeros((len(photo_seq), len(columns)), dtype=np.float), \\\n",
    "                           index=photo_seq, columns=columns)\n",
    "    \n",
    "    # trace_df.iloc[i, j] stores the (previous) 'POI_k' such that the cost of POI sequence \n",
    "    # [... --> 'POI_k' (prev POI) --> 'POI_j' (current POI)] is cost_df.iloc[i, j]\n",
    "    trace_df = pd.DataFrame(data=np.zeros((len(photo_seq), len(columns)), dtype=np.int), \\\n",
    "                            index=photo_seq, columns=columns)\n",
    "    # NO predecessor for the start POI\n",
    "    trace_df.iloc[0] = -1\n",
    "    \n",
    "    # costs for the first row are just the distances (or np.inf) from the first photo to all POIs\n",
    "    for kx in cost_df.columns:\n",
    "        ix = photo_seq[0]\n",
    "        dist = photo_poi_distmat.loc[ix, kx]\n",
    "        cost_df.loc[ix, kx] = np.inf if dist > DIST_MAX else dist\n",
    "    \n",
    "    # compute minimum costs recursively\n",
    "    for i in range(1, len(photo_seq)):\n",
    "        ix = cost_df.index[i]\n",
    "        prev = cost_df.index[i-1]\n",
    "        for jx in cost_df.columns:\n",
    "            # distance(photo_i, POI_j) + alpha * distance(POI_k, POI_j) + previous cost\n",
    "            # if distance(photo_i, POI_j) <= DIST_MAX else np.inf\n",
    "            costs = [np.inf if photo_poi_distmat.loc[ix, jx] > DIST_MAX else \\\n",
    "                     photo_poi_distmat.loc[ix, jx] + ALPHA * poi_distmat.loc[kx, jx] + cost_df.loc[prev, kx] \\\n",
    "                     for kx in cost_df.columns]\n",
    "            min_idx = np.argmin(costs)\n",
    "            cost_df.loc[ix, jx] = costs[min_idx]\n",
    "            trace_df.loc[ix, jx] = cost_df.columns[min_idx]\n",
    "    \n",
    "    # trace back\n",
    "    pN = cost_df.loc[cost_df.index[-1]].idxmin()  # the end POI\n",
    "    seq_reverse = [pN]  # sequence of POI in reverse order\n",
    "    row_idx = trace_df.shape[0] - 1  # trace back from the last row of trace_df\n",
    "    while (row_idx > 0):  # the first row are all -1\n",
    "        ix = trace_df.index[row_idx]\n",
    "        jx = seq_reverse[-1]\n",
    "        poi = trace_df.loc[ix, jx]\n",
    "        seq_reverse.append(poi)\n",
    "        row_idx -= 1\n",
    "        \n",
    "    return seq_reverse[::-1]  # reverse the sequence"
   ]
  },
  {
   "cell_type": "markdown",
   "metadata": {},
   "source": [
    "Build travel sequences and map photos to POIs."
   ]
  },
  {
   "cell_type": "code",
   "execution_count": 34,
   "metadata": {
    "collapsed": true
   },
   "outputs": [],
   "source": [
    "traj_dp = photo_df.copy()"
   ]
  },
  {
   "cell_type": "code",
   "execution_count": 35,
   "metadata": {
    "collapsed": true
   },
   "outputs": [],
   "source": [
    "ALPHA = 1"
   ]
  },
  {
   "cell_type": "code",
   "execution_count": 36,
   "metadata": {
    "collapsed": false,
    "scrolled": true
   },
   "outputs": [
    {
     "name": "stdout",
     "output_type": "stream",
     "text": [
      "[--------------------------------------------------------------------------------] 100%"
     ]
    }
   ],
   "source": [
    "tid = 0\n",
    "cnt = 0\n",
    "for user in users:\n",
    "    udf = traj_dp[traj_dp['userID'] == user].copy()\n",
    "    udf.sort_values(by='dateTaken', ascending=True, inplace=True)\n",
    "    \n",
    "    # filtering out photos that are far from all POIs\n",
    "    for ix in udf.index:\n",
    "        if photo_poi_distmat.loc[ix].min() > DIST_MAX:\n",
    "            udf.drop(ix, axis=0, inplace=True)\n",
    "            \n",
    "    if udf.shape[0] == 0: \n",
    "        cnt += 1; print_progress(cnt, len(users))\n",
    "        continue\n",
    "    \n",
    "    photo_seq = [udf.index[0]]\n",
    "    for i in range(1, udf.shape[0]):\n",
    "        ix1 = photo_seq[-1]\n",
    "        ix2 = udf.index[i]\n",
    "        if udf.loc[ix2, 'dateTaken'] - udf.loc[ix1, 'dateTaken'] > TIME_GAP:\n",
    "            assert(len(photo_seq) > 0)\n",
    "            poi_seq = decode_photo_seq(photo_seq, poi_distmat, photo_poi_distmat, DIST_MAX, ALPHA)\n",
    "            assert(len(poi_seq) == len(photo_seq))\n",
    "            for j in range(len(poi_seq)):\n",
    "                jx = photo_seq[j]\n",
    "                poi = poi_seq[j]\n",
    "                traj_dp.loc[jx, 'poiID'] = poi\n",
    "                traj_dp.loc[jx, 'trajID'] = tid\n",
    "            tid += 1\n",
    "            photo_seq.clear()\n",
    "            photo_seq.append(ix2)\n",
    "        else:\n",
    "            photo_seq.append(ix2)\n",
    "            \n",
    "    assert(len(photo_seq) > 0)\n",
    "    poi_seq = decode_photo_seq(photo_seq, poi_distmat, photo_poi_distmat, DIST_MAX, ALPHA)\n",
    "    assert(len(poi_seq) == len(photo_seq))\n",
    "    for j in range(len(poi_seq)):\n",
    "        jx = photo_seq[j]\n",
    "        poi = poi_seq[j]\n",
    "        traj_dp.loc[jx, 'poiID'] = poi\n",
    "        traj_dp.loc[jx, 'trajID'] = tid\n",
    "    tid += 1\n",
    "\n",
    "    cnt += 1; print_progress(cnt, len(users))"
   ]
  },
  {
   "cell_type": "markdown",
   "metadata": {},
   "source": [
    "Compute the total cost of trajectories."
   ]
  },
  {
   "cell_type": "code",
   "execution_count": 37,
   "metadata": {
    "collapsed": true
   },
   "outputs": [],
   "source": [
    "def calc_cost(traj_df, poi_distmat, photo_poi_distmat):\n",
    "    cost = 0\n",
    "    traj_df = traj_df[traj_df['poiID'] != -1]\n",
    "    for tid in sorted(traj_df['trajID'].unique().tolist()):\n",
    "        tdf = traj_df[traj_df['trajID'] == tid].copy()\n",
    "        tdf.sort_values(by='dateTaken', ascending=True, inplace=True)\n",
    "        cost += np.trace(photo_poi_distmat.loc[tdf.index, tdf['poiID']])\n",
    "        cost += np.trace(poi_distmat.loc[tdf['poiID'][:-1].values, tdf['poiID'][1:].values])\n",
    "    return cost"
   ]
  },
  {
   "cell_type": "code",
   "execution_count": 38,
   "metadata": {
    "collapsed": false
   },
   "outputs": [
    {
     "data": {
      "text/plain": [
       "3936.8923548191797"
      ]
     },
     "execution_count": 38,
     "metadata": {},
     "output_type": "execute_result"
    }
   ],
   "source": [
    "calc_cost(traj_greedy, poi_distmat, photo_poi_distmat)"
   ]
  },
  {
   "cell_type": "code",
   "execution_count": 39,
   "metadata": {
    "collapsed": false
   },
   "outputs": [
    {
     "data": {
      "text/plain": [
       "3824.619840492885"
      ]
     },
     "execution_count": 39,
     "metadata": {},
     "output_type": "execute_result"
    }
   ],
   "source": [
    "calc_cost(traj_dp, poi_distmat, photo_poi_distmat)"
   ]
  },
  {
   "cell_type": "code",
   "execution_count": 60,
   "metadata": {
    "collapsed": false
   },
   "outputs": [
    {
     "data": {
      "text/plain": [
       "5105"
      ]
     },
     "execution_count": 60,
     "metadata": {},
     "output_type": "execute_result"
    }
   ],
   "source": [
    "traj_greedy['trajID'].max()"
   ]
  },
  {
   "cell_type": "code",
   "execution_count": 61,
   "metadata": {
    "collapsed": false
   },
   "outputs": [
    {
     "data": {
      "text/plain": [
       "5105"
      ]
     },
     "execution_count": 61,
     "metadata": {},
     "output_type": "execute_result"
    }
   ],
   "source": [
    "traj_dp['trajID'].max()"
   ]
  },
  {
   "cell_type": "markdown",
   "metadata": {},
   "source": [
    "Compare trajectories interactively."
   ]
  },
  {
   "cell_type": "code",
   "execution_count": null,
   "metadata": {
    "collapsed": false
   },
   "outputs": [],
   "source": [
    "for tid in sorted(traj_dp['trajID'].unique().tolist()):\n",
    "    if tid == -1: continue\n",
    "    tdf1 = traj_dp[traj_dp['trajID'] == tid].copy()\n",
    "    tdf1.sort_values(by='dateTaken', ascending=True, inplace=True)\n",
    "    tdf2 = traj_greedy[traj_greedy['trajID'] == tid].copy()\n",
    "    tdf2.sort_values(by='dateTaken', ascending=True, inplace=True)\n",
    "    print(tdf1)\n",
    "    print(tdf2)\n",
    "    input('Press any key to continue...')"
   ]
  },
  {
   "cell_type": "markdown",
   "metadata": {},
   "source": [
    "<a id='sec4'></a>"
   ]
  },
  {
   "cell_type": "markdown",
   "metadata": {},
   "source": [
    "## 4. Save Trajectory Data"
   ]
  },
  {
   "cell_type": "markdown",
   "metadata": {},
   "source": [
    "Save trajectories and related POIs to files."
   ]
  },
  {
   "cell_type": "code",
   "execution_count": 66,
   "metadata": {
    "collapsed": true
   },
   "outputs": [],
   "source": [
    "visits = traj_greedy[traj_greedy['poiID'] != -1]\n",
    "#visits = traj_dp[traj_dp['poiID'] != -1]"
   ]
  },
  {
   "cell_type": "markdown",
   "metadata": {},
   "source": [
    "Save POIs to CSV file."
   ]
  },
  {
   "cell_type": "code",
   "execution_count": 67,
   "metadata": {
    "collapsed": true
   },
   "outputs": [],
   "source": [
    "poiix = sorted(visits['poiID'].unique().tolist())"
   ]
  },
  {
   "cell_type": "code",
   "execution_count": 68,
   "metadata": {
    "collapsed": true
   },
   "outputs": [],
   "source": [
    "poi_df.loc[poiix].to_csv(fpoi_new, index=True)"
   ]
  },
  {
   "cell_type": "markdown",
   "metadata": {},
   "source": [
    "<a id='sec4.1'></a>"
   ]
  },
  {
   "cell_type": "markdown",
   "metadata": {},
   "source": [
    "### 4.1 Compute Trajectory Statistics"
   ]
  },
  {
   "cell_type": "markdown",
   "metadata": {},
   "source": [
    "Compute trajectories information including simple statistics such as length (#POIs), POI start time, POI endtime, etc."
   ]
  },
  {
   "cell_type": "code",
   "execution_count": 69,
   "metadata": {
    "collapsed": true
   },
   "outputs": [],
   "source": [
    "def calc_traj_df(tid, visits):\n",
    "    \"\"\"Compute trajectories info, taking care of trajectories that contain sub-tours\"\"\"\n",
    "    traj_df = visits[visits['trajID'] == tid].copy()\n",
    "    traj_df.sort_values(by='dateTaken', ascending=True, inplace=True)\n",
    "    df_ = pd.DataFrame(columns=['poiID', 'startTime', 'endTime', '#photo'])\n",
    "    assert(traj_df.shape[0] > 0)\n",
    "    ix = traj_df.index[0]\n",
    "    j = 0\n",
    "    df_.loc[j] = [traj_df.loc[ix, 'poiID'], traj_df.loc[ix, 'dateTaken'], traj_df.loc[ix, 'dateTaken'], 1]\n",
    "    for i in range(1, traj_df.shape[0]):\n",
    "        ix = traj_df.index[i]\n",
    "        if traj_df.loc[ix, 'poiID'] == df_.loc[j, 'poiID']:\n",
    "            df_.loc[j, 'endTime'] = traj_df.loc[ix, 'dateTaken']\n",
    "            df_.loc[j, '#photo'] += 1\n",
    "        else:\n",
    "            j += 1\n",
    "            df_.loc[j] = [traj_df.loc[ix, 'poiID'], traj_df.loc[ix, 'dateTaken'], traj_df.loc[ix, 'dateTaken'], 1]\n",
    "    df_['userID'] = traj_df.loc[traj_df.index[0], 'userID']\n",
    "    df_['trajID'] = traj_df.loc[traj_df.index[0], 'trajID']\n",
    "    df_['trajLen'] = df_.shape[0]\n",
    "    return df_"
   ]
  },
  {
   "cell_type": "code",
   "execution_count": 70,
   "metadata": {
    "collapsed": false
   },
   "outputs": [
    {
     "data": {
      "text/html": [
       "<div>\n",
       "<table border=\"1\" class=\"dataframe\">\n",
       "  <thead>\n",
       "    <tr style=\"text-align: right;\">\n",
       "      <th></th>\n",
       "      <th>#photo</th>\n",
       "      <th>endTime</th>\n",
       "      <th>poiID</th>\n",
       "      <th>startTime</th>\n",
       "      <th>trajID</th>\n",
       "      <th>trajLen</th>\n",
       "      <th>userID</th>\n",
       "    </tr>\n",
       "  </thead>\n",
       "  <tbody>\n",
       "    <tr>\n",
       "      <th>0</th>\n",
       "      <td>1</td>\n",
       "      <td>1226726126</td>\n",
       "      <td>25</td>\n",
       "      <td>1226726126</td>\n",
       "      <td>0</td>\n",
       "      <td>1</td>\n",
       "      <td>10058801@N06</td>\n",
       "    </tr>\n",
       "    <tr>\n",
       "      <th>1</th>\n",
       "      <td>2</td>\n",
       "      <td>1205332541</td>\n",
       "      <td>58</td>\n",
       "      <td>1205332532</td>\n",
       "      <td>1</td>\n",
       "      <td>2</td>\n",
       "      <td>10087938@N02</td>\n",
       "    </tr>\n",
       "    <tr>\n",
       "      <th>2</th>\n",
       "      <td>2</td>\n",
       "      <td>1205342729</td>\n",
       "      <td>66</td>\n",
       "      <td>1205342722</td>\n",
       "      <td>1</td>\n",
       "      <td>2</td>\n",
       "      <td>10087938@N02</td>\n",
       "    </tr>\n",
       "    <tr>\n",
       "      <th>3</th>\n",
       "      <td>1</td>\n",
       "      <td>1205374109</td>\n",
       "      <td>59</td>\n",
       "      <td>1205374109</td>\n",
       "      <td>2</td>\n",
       "      <td>1</td>\n",
       "      <td>10087938@N02</td>\n",
       "    </tr>\n",
       "    <tr>\n",
       "      <th>4</th>\n",
       "      <td>1</td>\n",
       "      <td>1205417265</td>\n",
       "      <td>58</td>\n",
       "      <td>1205417265</td>\n",
       "      <td>3</td>\n",
       "      <td>1</td>\n",
       "      <td>10087938@N02</td>\n",
       "    </tr>\n",
       "  </tbody>\n",
       "</table>\n",
       "</div>"
      ],
      "text/plain": [
       "   #photo     endTime  poiID   startTime  trajID  trajLen        userID\n",
       "0       1  1226726126     25  1226726126       0        1  10058801@N06\n",
       "1       2  1205332541     58  1205332532       1        2  10087938@N02\n",
       "2       2  1205342729     66  1205342722       1        2  10087938@N02\n",
       "3       1  1205374109     59  1205374109       2        1  10087938@N02\n",
       "4       1  1205417265     58  1205417265       3        1  10087938@N02"
      ]
     },
     "execution_count": 70,
     "metadata": {},
     "output_type": "execute_result"
    }
   ],
   "source": [
    "traj_all = pd.DataFrame(columns=['userID', 'trajID', 'poiID', 'startTime', 'endTime', '#photo', 'trajLen'])\n",
    "for tid in sorted(visits['trajID'].unique().tolist()):\n",
    "    traj_df = calc_traj_df(tid, visits)\n",
    "    traj_all = traj_all.append(traj_df, ignore_index=True)\n",
    "traj_all.head()"
   ]
  },
  {
   "cell_type": "code",
   "execution_count": 71,
   "metadata": {
    "collapsed": false
   },
   "outputs": [
    {
     "data": {
      "text/plain": [
       "#photo       float64\n",
       "endTime      float64\n",
       "poiID        float64\n",
       "startTime    float64\n",
       "trajID       float64\n",
       "trajLen      float64\n",
       "userID        object\n",
       "dtype: object"
      ]
     },
     "execution_count": 71,
     "metadata": {},
     "output_type": "execute_result"
    }
   ],
   "source": [
    "traj_all.dtypes"
   ]
  },
  {
   "cell_type": "code",
   "execution_count": 72,
   "metadata": {
    "collapsed": true
   },
   "outputs": [],
   "source": [
    "int_cols = ['trajID', 'poiID', 'trajLen', 'startTime', 'endTime', '#photo']\n",
    "traj_all[int_cols] = traj_all[int_cols].astype(np.int, copy=False)"
   ]
  },
  {
   "cell_type": "markdown",
   "metadata": {},
   "source": [
    "Sanity check."
   ]
  },
  {
   "cell_type": "code",
   "execution_count": 73,
   "metadata": {
    "collapsed": false
   },
   "outputs": [
    {
     "name": "stdout",
     "output_type": "stream",
     "text": [
      "True\n",
      "True\n",
      "True\n"
     ]
    }
   ],
   "source": [
    "print(np.all(traj_all['trajLen'] >= 1))\n",
    "print(np.all(traj_all['#photo'] >= 1))\n",
    "print(np.all(traj_all['startTime'] <= traj_all['endTime']))"
   ]
  },
  {
   "cell_type": "code",
   "execution_count": 74,
   "metadata": {
    "collapsed": false
   },
   "outputs": [
    {
     "name": "stdout",
     "output_type": "stream",
     "text": [
      "(7671, 8)\n"
     ]
    },
    {
     "data": {
      "text/html": [
       "<div>\n",
       "<table border=\"1\" class=\"dataframe\">\n",
       "  <thead>\n",
       "    <tr style=\"text-align: right;\">\n",
       "      <th></th>\n",
       "      <th>#photo</th>\n",
       "      <th>endTime</th>\n",
       "      <th>poiID</th>\n",
       "      <th>startTime</th>\n",
       "      <th>trajID</th>\n",
       "      <th>trajLen</th>\n",
       "      <th>userID</th>\n",
       "      <th>poiDuration</th>\n",
       "    </tr>\n",
       "  </thead>\n",
       "  <tbody>\n",
       "    <tr>\n",
       "      <th>0</th>\n",
       "      <td>1</td>\n",
       "      <td>1226726126</td>\n",
       "      <td>25</td>\n",
       "      <td>1226726126</td>\n",
       "      <td>0</td>\n",
       "      <td>1</td>\n",
       "      <td>10058801@N06</td>\n",
       "      <td>0</td>\n",
       "    </tr>\n",
       "    <tr>\n",
       "      <th>1</th>\n",
       "      <td>2</td>\n",
       "      <td>1205332541</td>\n",
       "      <td>58</td>\n",
       "      <td>1205332532</td>\n",
       "      <td>1</td>\n",
       "      <td>2</td>\n",
       "      <td>10087938@N02</td>\n",
       "      <td>9</td>\n",
       "    </tr>\n",
       "    <tr>\n",
       "      <th>2</th>\n",
       "      <td>2</td>\n",
       "      <td>1205342729</td>\n",
       "      <td>66</td>\n",
       "      <td>1205342722</td>\n",
       "      <td>1</td>\n",
       "      <td>2</td>\n",
       "      <td>10087938@N02</td>\n",
       "      <td>7</td>\n",
       "    </tr>\n",
       "    <tr>\n",
       "      <th>3</th>\n",
       "      <td>1</td>\n",
       "      <td>1205374109</td>\n",
       "      <td>59</td>\n",
       "      <td>1205374109</td>\n",
       "      <td>2</td>\n",
       "      <td>1</td>\n",
       "      <td>10087938@N02</td>\n",
       "      <td>0</td>\n",
       "    </tr>\n",
       "    <tr>\n",
       "      <th>4</th>\n",
       "      <td>1</td>\n",
       "      <td>1205417265</td>\n",
       "      <td>58</td>\n",
       "      <td>1205417265</td>\n",
       "      <td>3</td>\n",
       "      <td>1</td>\n",
       "      <td>10087938@N02</td>\n",
       "      <td>0</td>\n",
       "    </tr>\n",
       "  </tbody>\n",
       "</table>\n",
       "</div>"
      ],
      "text/plain": [
       "   #photo     endTime  poiID   startTime  trajID  trajLen        userID  \\\n",
       "0       1  1226726126     25  1226726126       0        1  10058801@N06   \n",
       "1       2  1205332541     58  1205332532       1        2  10087938@N02   \n",
       "2       2  1205342729     66  1205342722       1        2  10087938@N02   \n",
       "3       1  1205374109     59  1205374109       2        1  10087938@N02   \n",
       "4       1  1205417265     58  1205417265       3        1  10087938@N02   \n",
       "\n",
       "   poiDuration  \n",
       "0            0  \n",
       "1            9  \n",
       "2            7  \n",
       "3            0  \n",
       "4            0  "
      ]
     },
     "execution_count": 74,
     "metadata": {},
     "output_type": "execute_result"
    }
   ],
   "source": [
    "traj_all['poiDuration'] = traj_all['endTime'] - traj_all['startTime']\n",
    "print(traj_all.shape)\n",
    "traj_all.head()"
   ]
  },
  {
   "cell_type": "code",
   "execution_count": 75,
   "metadata": {
    "collapsed": false
   },
   "outputs": [
    {
     "data": {
      "text/plain": [
       "#photo          int64\n",
       "endTime         int64\n",
       "poiID           int64\n",
       "startTime       int64\n",
       "trajID          int64\n",
       "trajLen         int64\n",
       "userID         object\n",
       "poiDuration     int64\n",
       "dtype: object"
      ]
     },
     "execution_count": 75,
     "metadata": {},
     "output_type": "execute_result"
    }
   ],
   "source": [
    "traj_all.dtypes"
   ]
  },
  {
   "cell_type": "markdown",
   "metadata": {},
   "source": [
    "Save trajectories and the associated stats to CSV files."
   ]
  },
  {
   "cell_type": "code",
   "execution_count": 76,
   "metadata": {
    "collapsed": true
   },
   "outputs": [],
   "source": [
    "traj_all.to_csv(ftraj_all, index=False)"
   ]
  },
  {
   "cell_type": "markdown",
   "metadata": {},
   "source": [
    "<a id='sec4.2'></a>"
   ]
  },
  {
   "cell_type": "markdown",
   "metadata": {},
   "source": [
    "### 4.2 Filtering out Short Trajectories"
   ]
  },
  {
   "cell_type": "markdown",
   "metadata": {},
   "source": [
    "Filtering out short trajectories, i.e., trajectories with only 1 or 2 POIs."
   ]
  },
  {
   "cell_type": "code",
   "execution_count": 77,
   "metadata": {
    "collapsed": false
   },
   "outputs": [
    {
     "name": "stdout",
     "output_type": "stream",
     "text": [
      "(2559, 8)\n"
     ]
    },
    {
     "data": {
      "text/html": [
       "<div>\n",
       "<table border=\"1\" class=\"dataframe\">\n",
       "  <thead>\n",
       "    <tr style=\"text-align: right;\">\n",
       "      <th></th>\n",
       "      <th>#photo</th>\n",
       "      <th>endTime</th>\n",
       "      <th>poiID</th>\n",
       "      <th>startTime</th>\n",
       "      <th>trajID</th>\n",
       "      <th>trajLen</th>\n",
       "      <th>userID</th>\n",
       "      <th>poiDuration</th>\n",
       "    </tr>\n",
       "  </thead>\n",
       "  <tbody>\n",
       "    <tr>\n",
       "      <th>5</th>\n",
       "      <td>2</td>\n",
       "      <td>1205511700</td>\n",
       "      <td>58</td>\n",
       "      <td>1205508764</td>\n",
       "      <td>4</td>\n",
       "      <td>3</td>\n",
       "      <td>10087938@N02</td>\n",
       "      <td>2936</td>\n",
       "    </tr>\n",
       "    <tr>\n",
       "      <th>6</th>\n",
       "      <td>22</td>\n",
       "      <td>1205514882</td>\n",
       "      <td>59</td>\n",
       "      <td>1205512653</td>\n",
       "      <td>4</td>\n",
       "      <td>3</td>\n",
       "      <td>10087938@N02</td>\n",
       "      <td>2229</td>\n",
       "    </tr>\n",
       "    <tr>\n",
       "      <th>7</th>\n",
       "      <td>1</td>\n",
       "      <td>1205538412</td>\n",
       "      <td>58</td>\n",
       "      <td>1205538412</td>\n",
       "      <td>4</td>\n",
       "      <td>3</td>\n",
       "      <td>10087938@N02</td>\n",
       "      <td>0</td>\n",
       "    </tr>\n",
       "    <tr>\n",
       "      <th>19</th>\n",
       "      <td>1</td>\n",
       "      <td>1188620918</td>\n",
       "      <td>81</td>\n",
       "      <td>1188620918</td>\n",
       "      <td>14</td>\n",
       "      <td>6</td>\n",
       "      <td>10195518@N02</td>\n",
       "      <td>0</td>\n",
       "    </tr>\n",
       "    <tr>\n",
       "      <th>20</th>\n",
       "      <td>1</td>\n",
       "      <td>1188621562</td>\n",
       "      <td>75</td>\n",
       "      <td>1188621562</td>\n",
       "      <td>14</td>\n",
       "      <td>6</td>\n",
       "      <td>10195518@N02</td>\n",
       "      <td>0</td>\n",
       "    </tr>\n",
       "  </tbody>\n",
       "</table>\n",
       "</div>"
      ],
      "text/plain": [
       "    #photo     endTime  poiID   startTime  trajID  trajLen        userID  \\\n",
       "5        2  1205511700     58  1205508764       4        3  10087938@N02   \n",
       "6       22  1205514882     59  1205512653       4        3  10087938@N02   \n",
       "7        1  1205538412     58  1205538412       4        3  10087938@N02   \n",
       "19       1  1188620918     81  1188620918      14        6  10195518@N02   \n",
       "20       1  1188621562     75  1188621562      14        6  10195518@N02   \n",
       "\n",
       "    poiDuration  \n",
       "5          2936  \n",
       "6          2229  \n",
       "7             0  \n",
       "19            0  \n",
       "20            0  "
      ]
     },
     "execution_count": 77,
     "metadata": {},
     "output_type": "execute_result"
    }
   ],
   "source": [
    "traj_noshort = traj_all[traj_all['trajLen'] >= 3].copy()\n",
    "print(traj_noshort.shape)\n",
    "traj_noshort.head()"
   ]
  },
  {
   "cell_type": "code",
   "execution_count": 78,
   "metadata": {
    "collapsed": false
   },
   "outputs": [
    {
     "data": {
      "text/plain": [
       "7374"
      ]
     },
     "execution_count": 78,
     "metadata": {},
     "output_type": "execute_result"
    }
   ],
   "source": [
    "traj_noshort['#photo'].sum()"
   ]
  },
  {
   "cell_type": "markdown",
   "metadata": {},
   "source": [
    "Save trajectories and the associated stats without short trajectories to CSV files."
   ]
  },
  {
   "cell_type": "code",
   "execution_count": 79,
   "metadata": {
    "collapsed": true
   },
   "outputs": [],
   "source": [
    "traj_noshort.to_csv(ftraj_noshort, index=False)"
   ]
  },
  {
   "cell_type": "markdown",
   "metadata": {},
   "source": [
    "<a id='sec4.3'></a>"
   ]
  },
  {
   "cell_type": "markdown",
   "metadata": {},
   "source": [
    "### 4.3 Filtering out Users with Few Trajectories"
   ]
  },
  {
   "cell_type": "markdown",
   "metadata": {},
   "source": [
    "Filtering out users (and related trajectories) with few trajectories, e.g. less than 5 trajectories."
   ]
  },
  {
   "cell_type": "code",
   "execution_count": 80,
   "metadata": {
    "collapsed": true
   },
   "outputs": [],
   "source": [
    "MIN_N = 5"
   ]
  },
  {
   "cell_type": "code",
   "execution_count": 81,
   "metadata": {
    "collapsed": true
   },
   "outputs": [],
   "source": [
    "user_list = []"
   ]
  },
  {
   "cell_type": "code",
   "execution_count": 82,
   "metadata": {
    "collapsed": true
   },
   "outputs": [],
   "source": [
    "for user in sorted(traj_all['userID'].unique().tolist()):\n",
    "    ntraj = traj_all[traj_all['userID'] == user]['trajID'].unique().shape[0]\n",
    "    if ntraj >= MIN_N:\n",
    "        user_list.append(user)"
   ]
  },
  {
   "cell_type": "code",
   "execution_count": 83,
   "metadata": {
    "collapsed": false
   },
   "outputs": [
    {
     "name": "stdout",
     "output_type": "stream",
     "text": [
      "(5223, 8)\n"
     ]
    },
    {
     "data": {
      "text/html": [
       "<div>\n",
       "<table border=\"1\" class=\"dataframe\">\n",
       "  <thead>\n",
       "    <tr style=\"text-align: right;\">\n",
       "      <th></th>\n",
       "      <th>#photo</th>\n",
       "      <th>endTime</th>\n",
       "      <th>poiID</th>\n",
       "      <th>startTime</th>\n",
       "      <th>trajID</th>\n",
       "      <th>trajLen</th>\n",
       "      <th>userID</th>\n",
       "      <th>poiDuration</th>\n",
       "    </tr>\n",
       "  </thead>\n",
       "  <tbody>\n",
       "    <tr>\n",
       "      <th>1</th>\n",
       "      <td>2</td>\n",
       "      <td>1205332541</td>\n",
       "      <td>58</td>\n",
       "      <td>1205332532</td>\n",
       "      <td>1</td>\n",
       "      <td>2</td>\n",
       "      <td>10087938@N02</td>\n",
       "      <td>9</td>\n",
       "    </tr>\n",
       "    <tr>\n",
       "      <th>2</th>\n",
       "      <td>2</td>\n",
       "      <td>1205342729</td>\n",
       "      <td>66</td>\n",
       "      <td>1205342722</td>\n",
       "      <td>1</td>\n",
       "      <td>2</td>\n",
       "      <td>10087938@N02</td>\n",
       "      <td>7</td>\n",
       "    </tr>\n",
       "    <tr>\n",
       "      <th>3</th>\n",
       "      <td>1</td>\n",
       "      <td>1205374109</td>\n",
       "      <td>59</td>\n",
       "      <td>1205374109</td>\n",
       "      <td>2</td>\n",
       "      <td>1</td>\n",
       "      <td>10087938@N02</td>\n",
       "      <td>0</td>\n",
       "    </tr>\n",
       "    <tr>\n",
       "      <th>4</th>\n",
       "      <td>1</td>\n",
       "      <td>1205417265</td>\n",
       "      <td>58</td>\n",
       "      <td>1205417265</td>\n",
       "      <td>3</td>\n",
       "      <td>1</td>\n",
       "      <td>10087938@N02</td>\n",
       "      <td>0</td>\n",
       "    </tr>\n",
       "    <tr>\n",
       "      <th>5</th>\n",
       "      <td>2</td>\n",
       "      <td>1205511700</td>\n",
       "      <td>58</td>\n",
       "      <td>1205508764</td>\n",
       "      <td>4</td>\n",
       "      <td>3</td>\n",
       "      <td>10087938@N02</td>\n",
       "      <td>2936</td>\n",
       "    </tr>\n",
       "  </tbody>\n",
       "</table>\n",
       "</div>"
      ],
      "text/plain": [
       "   #photo     endTime  poiID   startTime  trajID  trajLen        userID  \\\n",
       "1       2  1205332541     58  1205332532       1        2  10087938@N02   \n",
       "2       2  1205342729     66  1205342722       1        2  10087938@N02   \n",
       "3       1  1205374109     59  1205374109       2        1  10087938@N02   \n",
       "4       1  1205417265     58  1205417265       3        1  10087938@N02   \n",
       "5       2  1205511700     58  1205508764       4        3  10087938@N02   \n",
       "\n",
       "   poiDuration  \n",
       "1            9  \n",
       "2            7  \n",
       "3            0  \n",
       "4            0  \n",
       "5         2936  "
      ]
     },
     "execution_count": 83,
     "metadata": {},
     "output_type": "execute_result"
    }
   ],
   "source": [
    "traj_nofew = traj_all[traj_all['userID'].isin(user_list)].copy()\n",
    "print(traj_nofew.shape)\n",
    "traj_nofew.head()"
   ]
  },
  {
   "cell_type": "markdown",
   "metadata": {},
   "source": [
    "Save trajectories."
   ]
  },
  {
   "cell_type": "code",
   "execution_count": 84,
   "metadata": {
    "collapsed": true
   },
   "outputs": [],
   "source": [
    "traj_nofew.to_csv(ftraj_nofew, index=False)"
   ]
  },
  {
   "cell_type": "markdown",
   "metadata": {},
   "source": [
    "Sanity check."
   ]
  },
  {
   "cell_type": "code",
   "execution_count": 85,
   "metadata": {
    "collapsed": false
   },
   "outputs": [
    {
     "name": "stdout",
     "output_type": "stream",
     "text": [
      "Checking finished.\n"
     ]
    }
   ],
   "source": [
    "for user in sorted(traj_nofew['userID'].unique().tolist()):\n",
    "    udf = traj_nofew[traj_nofew['userID'] == user]\n",
    "    assert(udf['trajID'].unique().shape[0] >= MIN_N)\n",
    "print('Checking finished.')"
   ]
  }
 ],
 "metadata": {
  "kernelspec": {
   "display_name": "Python 3",
   "language": "python",
   "name": "python3"
  },
  "language_info": {
   "codemirror_mode": {
    "name": "ipython",
    "version": 3
   },
   "file_extension": ".py",
   "mimetype": "text/x-python",
   "name": "python",
   "nbconvert_exporter": "python",
   "pygments_lexer": "ipython3",
   "version": "3.5.1"
  }
 },
 "nbformat": 4,
 "nbformat_minor": 0
}
