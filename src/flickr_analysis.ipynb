{
 "cells": [
  {
   "cell_type": "markdown",
   "metadata": {},
   "source": [
    "# Trajectory Analysis "
   ]
  },
  {
   "cell_type": "markdown",
   "metadata": {},
   "source": [
    "In this notebook file, we will give a detail analysis of trajectories extracted from `trajectory_construction` notebook file.\n",
    "\n",
    "The analysis is based on two files `trajectory_photos.csv` and `trajectory_stats.csv`. The first file keeps the detail information about each point(photo/video) in each trajectory, and the second file keeps the detail statistics about each trajectory.\n",
    "\n",
    "And at the end of the notebook, we will show how to generate KML data which helps to plot trajectories on various map services (e.g. Google Map), and show some example of interesting trajectories on the Google Map."
   ]
  },
  {
   "cell_type": "markdown",
   "metadata": {},
   "source": [
    "## Table of Contents"
   ]
  },
  {
   "cell_type": "markdown",
   "metadata": {},
   "source": [
    "* [1. Basic data files](#1.-Basic-data-files)\n",
    "    * [1.1. Contents of trajectory table](#1.1.-Contents-of-trajectory-table)\n",
    "    * [1.2. Contents of trajectory statistics table](#1.2.-Contents-of-trajectory-statistics-table)\n",
    "* [2. Basic Statistics](#2.-Basic-Statistics)\n",
    "    * [2.1. Number of users, trajectories, and average trajectories per user](#2.1.-Number-of-users,-trajectories,-and-average-trajectories-per-user)\n",
    "    * [2.2. Min/Max/Median/Mean of each attribute](#2.2.-Min/Max/Median/Mean-of-each-attribute)\n",
    "    * [2.3 Number of Photos by year](#2.3-Number-of-Photos-by-year)\n",
    "* [3. Distributions](#3.-Distributions)\n",
    "    * [3.1. Bar chart: Accuracy of photos](#3.1.-Bar-chart:-Accuracy-of-photos)\n",
    "    * [3.2. Histogram: Travel time](#3.2.-Histogram:-Travel-time)\n",
    "    * [3.3. Histogram: Distances of trajectory](#3.3.-Histogram:-Distances-of-trajectory)\n",
    "    * [3.4. Histogram: Average Speed](#3.4.-Histogram:-Average-Speed)    \n",
    "* [4. Trajectory Visualization](#4.-Trajectory-Visualization)\n",
    "    * [4.1. Generating KML files with trajectory ID](#4.1.-Generating-KML-files-with-trajectory-ID)\n",
    "    * [4.2. Example of interesting trajectories](#4.2.-Example-of-interesting-trajectories)"
   ]
  },
  {
   "cell_type": "markdown",
   "metadata": {},
   "source": [
    "Before analyzing, we need to include some libraries."
   ]
  },
  {
   "cell_type": "code",
   "execution_count": 1,
   "metadata": {
    "collapsed": true,
    "slideshow": {
     "slide_type": "-"
    }
   },
   "outputs": [],
   "source": [
    "%matplotlib inline\n",
    "\n",
    "import os\n",
    "import matplotlib\n",
    "import pandas as pd\n",
    "import numpy as np\n",
    "import matplotlib.pyplot as plt\n",
    "\n",
    "today = pd.datetime.strftime(pd.datetime.today(),'%Y%m%d')"
   ]
  },
  {
   "cell_type": "markdown",
   "metadata": {},
   "source": [
    "# 1. Basic data files"
   ]
  },
  {
   "cell_type": "markdown",
   "metadata": {},
   "source": [
    "[Pandas](http://pandas.pydata.org/) provide various data analysis tools. We will load two trajectory table files using Pandas library."
   ]
  },
  {
   "cell_type": "code",
   "execution_count": 2,
   "metadata": {
    "collapsed": false,
    "slideshow": {
     "slide_type": "skip"
    }
   },
   "outputs": [],
   "source": [
    "# read data and convert timestamps\n",
    "data_dir = '../data/'\n",
    "photo_table = os.path.join(data_dir, 'trajectory_photos.csv')\n",
    "traj_table = os.path.join(data_dir, 'trajectory_stats.csv')\n",
    "traj = pd.read_csv(photo_table, delimiter=',', parse_dates=[3], skipinitialspace=True)\n",
    "traj_stats = pd.read_csv(traj_table, delimiter=',', parse_dates=[3], skipinitialspace=True)"
   ]
  },
  {
   "cell_type": "markdown",
   "metadata": {},
   "source": [
    "## 1.1. Contents of trajectory table"
   ]
  },
  {
   "cell_type": "markdown",
   "metadata": {},
   "source": [
    "The first table is from `trajectory-photos.csv` file.\n",
    "\n",
    "Here's five sample entries from the trajectory table. Each entry of trajectory table corresponds to single photo/video.\n",
    "\n",
    "The table consists of following attributes(columns):\n",
    "\n",
    "* `Trajectory_ID`: trajectory ID of entry (multiple entries belong to the same trajectory will have the same trajectory ID)\n",
    "* `Photo_ID`: Unique Photo ID of entry\n",
    "* `User_ID`: User ID\n",
    "* `Timestamp`: Timestamp of when the photo was taken\n",
    "* `Longitude`: Longitude of entry \n",
    "* `Latitude`: Latitude of entry\n",
    "* `Accuracy`: GPS Accuracy level (16 - the most accurate, 1 - the least accurate)\n",
    "* `Marker`: 0 if the entry is photo, 1 if the entry is video\n",
    "* `URL`: flickr URL to the entry"
   ]
  },
  {
   "cell_type": "code",
   "execution_count": 3,
   "metadata": {
    "collapsed": false,
    "slideshow": {
     "slide_type": "slide"
    }
   },
   "outputs": [
    {
     "data": {
      "text/html": [
       "<div>\n",
       "<table border=\"1\" class=\"dataframe\">\n",
       "  <thead>\n",
       "    <tr style=\"text-align: right;\">\n",
       "      <th></th>\n",
       "      <th>Trajectory_ID</th>\n",
       "      <th>Photo_ID</th>\n",
       "      <th>User_ID</th>\n",
       "      <th>Timestamp</th>\n",
       "      <th>Longitude</th>\n",
       "      <th>Latitude</th>\n",
       "      <th>Accuracy</th>\n",
       "      <th>Marker(photo=0 video=1)</th>\n",
       "      <th>URL</th>\n",
       "    </tr>\n",
       "  </thead>\n",
       "  <tbody>\n",
       "    <tr>\n",
       "      <th>0</th>\n",
       "      <td>7</td>\n",
       "      <td>2930292747</td>\n",
       "      <td>10058801@N06</td>\n",
       "      <td>2008-10-11 15:56:51</td>\n",
       "      <td>144.973418</td>\n",
       "      <td>-37.818564</td>\n",
       "      <td>15</td>\n",
       "      <td>0</td>\n",
       "      <td>http://www.flickr.com/photos/10058801@N06/2930...</td>\n",
       "    </tr>\n",
       "    <tr>\n",
       "      <th>1</th>\n",
       "      <td>7</td>\n",
       "      <td>2931152490</td>\n",
       "      <td>10058801@N06</td>\n",
       "      <td>2008-10-11 15:56:54</td>\n",
       "      <td>144.973418</td>\n",
       "      <td>-37.818564</td>\n",
       "      <td>15</td>\n",
       "      <td>0</td>\n",
       "      <td>http://www.flickr.com/photos/10058801@N06/2931...</td>\n",
       "    </tr>\n",
       "    <tr>\n",
       "      <th>2</th>\n",
       "      <td>7</td>\n",
       "      <td>2930292921</td>\n",
       "      <td>10058801@N06</td>\n",
       "      <td>2008-10-11 15:56:58</td>\n",
       "      <td>144.973418</td>\n",
       "      <td>-37.818564</td>\n",
       "      <td>15</td>\n",
       "      <td>0</td>\n",
       "      <td>http://www.flickr.com/photos/10058801@N06/2930...</td>\n",
       "    </tr>\n",
       "    <tr>\n",
       "      <th>3</th>\n",
       "      <td>7</td>\n",
       "      <td>2931152696</td>\n",
       "      <td>10058801@N06</td>\n",
       "      <td>2008-10-11 15:57:02</td>\n",
       "      <td>144.972259</td>\n",
       "      <td>-37.817971</td>\n",
       "      <td>15</td>\n",
       "      <td>0</td>\n",
       "      <td>http://www.flickr.com/photos/10058801@N06/2931...</td>\n",
       "    </tr>\n",
       "    <tr>\n",
       "      <th>4</th>\n",
       "      <td>7</td>\n",
       "      <td>2930293167</td>\n",
       "      <td>10058801@N06</td>\n",
       "      <td>2008-10-11 15:57:08</td>\n",
       "      <td>144.973075</td>\n",
       "      <td>-37.817302</td>\n",
       "      <td>15</td>\n",
       "      <td>0</td>\n",
       "      <td>http://www.flickr.com/photos/10058801@N06/2930...</td>\n",
       "    </tr>\n",
       "  </tbody>\n",
       "</table>\n",
       "</div>"
      ],
      "text/plain": [
       "   Trajectory_ID    Photo_ID       User_ID           Timestamp   Longitude  \\\n",
       "0              7  2930292747  10058801@N06 2008-10-11 15:56:51  144.973418   \n",
       "1              7  2931152490  10058801@N06 2008-10-11 15:56:54  144.973418   \n",
       "2              7  2930292921  10058801@N06 2008-10-11 15:56:58  144.973418   \n",
       "3              7  2931152696  10058801@N06 2008-10-11 15:57:02  144.972259   \n",
       "4              7  2930293167  10058801@N06 2008-10-11 15:57:08  144.973075   \n",
       "\n",
       "    Latitude  Accuracy  Marker(photo=0 video=1)  \\\n",
       "0 -37.818564        15                        0   \n",
       "1 -37.818564        15                        0   \n",
       "2 -37.818564        15                        0   \n",
       "3 -37.817971        15                        0   \n",
       "4 -37.817302        15                        0   \n",
       "\n",
       "                                                 URL  \n",
       "0  http://www.flickr.com/photos/10058801@N06/2930...  \n",
       "1  http://www.flickr.com/photos/10058801@N06/2931...  \n",
       "2  http://www.flickr.com/photos/10058801@N06/2930...  \n",
       "3  http://www.flickr.com/photos/10058801@N06/2931...  \n",
       "4  http://www.flickr.com/photos/10058801@N06/2930...  "
      ]
     },
     "execution_count": 3,
     "metadata": {},
     "output_type": "execute_result"
    }
   ],
   "source": [
    "traj.head()"
   ]
  },
  {
   "cell_type": "markdown",
   "metadata": {},
   "source": [
    "## 1.2. Contents of trajectory statistics table"
   ]
  },
  {
   "cell_type": "markdown",
   "metadata": {},
   "source": [
    "The second table is about statistics for each trajectory. Each entry of this table corresponds to single trajectory.\n",
    "\n",
    "This table consists of following attributes(columns):\n",
    "\n",
    "* `Trajectory_ID`: Unique trajectory ID\n",
    "* `User_ID`: User ID\n",
    "* `#Photo`: Number of photos in the trajectory\n",
    "* `Start_Time`: When the first photo was taken\n",
    "* `Travel_Distance(km)`: Sum of the distances between consecutive photos (Euclidean Distance)\n",
    "* `Total_Time(min)`: The time gap between the first photo and the last photo\n",
    "* `Average_Speed(km/h)`: Travel_Distances(km)/Total_Time(h)"
   ]
  },
  {
   "cell_type": "code",
   "execution_count": 4,
   "metadata": {
    "collapsed": false
   },
   "outputs": [
    {
     "data": {
      "text/html": [
       "<div>\n",
       "<table border=\"1\" class=\"dataframe\">\n",
       "  <thead>\n",
       "    <tr style=\"text-align: right;\">\n",
       "      <th></th>\n",
       "      <th>Trajectory_ID</th>\n",
       "      <th>User_ID</th>\n",
       "      <th>#Photo</th>\n",
       "      <th>Start_Time</th>\n",
       "      <th>Travel_Distance(km)</th>\n",
       "      <th>Total_Time(min)</th>\n",
       "      <th>Average_Speed(km/h)</th>\n",
       "    </tr>\n",
       "  </thead>\n",
       "  <tbody>\n",
       "    <tr>\n",
       "      <th>0</th>\n",
       "      <td>7</td>\n",
       "      <td>10058801@N06</td>\n",
       "      <td>19</td>\n",
       "      <td>2008-10-11 15:56:51</td>\n",
       "      <td>0.961212</td>\n",
       "      <td>71.366667</td>\n",
       "      <td>0.808119</td>\n",
       "    </tr>\n",
       "    <tr>\n",
       "      <th>1</th>\n",
       "      <td>10</td>\n",
       "      <td>10087938@N02</td>\n",
       "      <td>16</td>\n",
       "      <td>2008-03-13 01:35:32</td>\n",
       "      <td>0.781834</td>\n",
       "      <td>169.950000</td>\n",
       "      <td>0.276023</td>\n",
       "    </tr>\n",
       "    <tr>\n",
       "      <th>2</th>\n",
       "      <td>13</td>\n",
       "      <td>10087938@N02</td>\n",
       "      <td>25</td>\n",
       "      <td>2008-03-15 02:32:44</td>\n",
       "      <td>1.062079</td>\n",
       "      <td>494.133333</td>\n",
       "      <td>0.128963</td>\n",
       "    </tr>\n",
       "    <tr>\n",
       "      <th>3</th>\n",
       "      <td>19</td>\n",
       "      <td>10132296@N00</td>\n",
       "      <td>10</td>\n",
       "      <td>2011-08-13 03:05:24</td>\n",
       "      <td>1.223396</td>\n",
       "      <td>180.516667</td>\n",
       "      <td>0.406631</td>\n",
       "    </tr>\n",
       "    <tr>\n",
       "      <th>4</th>\n",
       "      <td>26</td>\n",
       "      <td>101884347@N06</td>\n",
       "      <td>5</td>\n",
       "      <td>2013-12-13 09:56:38</td>\n",
       "      <td>1.751772</td>\n",
       "      <td>489.733333</td>\n",
       "      <td>0.214619</td>\n",
       "    </tr>\n",
       "  </tbody>\n",
       "</table>\n",
       "</div>"
      ],
      "text/plain": [
       "   Trajectory_ID        User_ID  #Photo          Start_Time  \\\n",
       "0              7   10058801@N06      19 2008-10-11 15:56:51   \n",
       "1             10   10087938@N02      16 2008-03-13 01:35:32   \n",
       "2             13   10087938@N02      25 2008-03-15 02:32:44   \n",
       "3             19   10132296@N00      10 2011-08-13 03:05:24   \n",
       "4             26  101884347@N06       5 2013-12-13 09:56:38   \n",
       "\n",
       "   Travel_Distance(km)  Total_Time(min)  Average_Speed(km/h)  \n",
       "0             0.961212        71.366667             0.808119  \n",
       "1             0.781834       169.950000             0.276023  \n",
       "2             1.062079       494.133333             0.128963  \n",
       "3             1.223396       180.516667             0.406631  \n",
       "4             1.751772       489.733333             0.214619  "
      ]
     },
     "execution_count": 4,
     "metadata": {},
     "output_type": "execute_result"
    }
   ],
   "source": [
    "traj_stats.head()"
   ]
  },
  {
   "cell_type": "markdown",
   "metadata": {},
   "source": [
    "# 2. Basic Statistics"
   ]
  },
  {
   "cell_type": "markdown",
   "metadata": {},
   "source": [
    "## 2.1. Number of users, trajectories, and average trajectories per user"
   ]
  },
  {
   "cell_type": "code",
   "execution_count": 5,
   "metadata": {
    "collapsed": false,
    "slideshow": {
     "slide_type": "fragment"
    }
   },
   "outputs": [
    {
     "name": "stdout",
     "output_type": "stream",
     "text": [
      "# users : 977\n",
      "# trajectories : 4460\n",
      "Average trajectories per user : 4.564994882292733\n"
     ]
    }
   ],
   "source": [
    "num_user = traj_stats['User_ID'].unique().size\n",
    "num_traj = traj_stats['Trajectory_ID'].unique().size\n",
    "avg_traj_per_user = num_traj/num_user\n",
    "print('# users :', num_user)\n",
    "print('# trajectories :', num_traj)\n",
    "print('Average trajectories per user :', avg_traj_per_user)"
   ]
  },
  {
   "cell_type": "markdown",
   "metadata": {
    "slideshow": {
     "slide_type": "skip"
    }
   },
   "source": [
    "## 2.2. Min/Max/Median/Mean of each attribute"
   ]
  },
  {
   "cell_type": "code",
   "execution_count": 6,
   "metadata": {
    "collapsed": false,
    "slideshow": {
     "slide_type": "fragment"
    }
   },
   "outputs": [
    {
     "data": {
      "text/html": [
       "<div>\n",
       "<table border=\"1\" class=\"dataframe\">\n",
       "  <thead>\n",
       "    <tr style=\"text-align: right;\">\n",
       "      <th></th>\n",
       "      <th>#Photo</th>\n",
       "      <th>Average_Speed(km/h)</th>\n",
       "      <th>Total_Time(min)</th>\n",
       "      <th>Travel_Distance(km)</th>\n",
       "    </tr>\n",
       "  </thead>\n",
       "  <tbody>\n",
       "    <tr>\n",
       "      <th>min</th>\n",
       "      <td>2.000000</td>\n",
       "      <td>0.043375</td>\n",
       "      <td>0.001662</td>\n",
       "      <td>0.099699</td>\n",
       "    </tr>\n",
       "    <tr>\n",
       "      <th>max</th>\n",
       "      <td>379.000000</td>\n",
       "      <td>98.850612</td>\n",
       "      <td>1351.083333</td>\n",
       "      <td>867.034519</td>\n",
       "    </tr>\n",
       "    <tr>\n",
       "      <th>median</th>\n",
       "      <td>6.000000</td>\n",
       "      <td>1.340931</td>\n",
       "      <td>215.566667</td>\n",
       "      <td>4.352130</td>\n",
       "    </tr>\n",
       "    <tr>\n",
       "      <th>mean</th>\n",
       "      <td>13.079821</td>\n",
       "      <td>4.786399</td>\n",
       "      <td>259.316410</td>\n",
       "      <td>18.972181</td>\n",
       "    </tr>\n",
       "  </tbody>\n",
       "</table>\n",
       "</div>"
      ],
      "text/plain": [
       "            #Photo  Average_Speed(km/h)  Total_Time(min)  Travel_Distance(km)\n",
       "min       2.000000             0.043375         0.001662             0.099699\n",
       "max     379.000000            98.850612      1351.083333           867.034519\n",
       "median    6.000000             1.340931       215.566667             4.352130\n",
       "mean     13.079821             4.786399       259.316410            18.972181"
      ]
     },
     "execution_count": 6,
     "metadata": {},
     "output_type": "execute_result"
    }
   ],
   "source": [
    "basic_stats = pd.DataFrame([traj_stats.min(), traj_stats.max(), traj_stats.median(), traj_stats.mean()], \\\n",
    "                           index=['min','max', 'median', 'mean'])\n",
    "basic_stats.drop('Start_Time', axis=1, inplace=True)\n",
    "basic_stats.drop('Trajectory_ID', axis=1, inplace=True)\n",
    "basic_stats.drop('User_ID', axis=1, inplace=True)\n",
    "basic_stats"
   ]
  },
  {
   "cell_type": "markdown",
   "metadata": {},
   "source": [
    "## 2.3 Number of Photos by year"
   ]
  },
  {
   "cell_type": "markdown",
   "metadata": {},
   "source": [
    "Here's the bar chart that plots the number of photos taken by each year."
   ]
  },
  {
   "cell_type": "code",
   "execution_count": 7,
   "metadata": {
    "collapsed": false
   },
   "outputs": [],
   "source": [
    "yeardict = dict()\n",
    "for i in traj.index:\n",
    "    dt = traj.ix[i]['Timestamp']\n",
    "    if dt.year not in yeardict: yeardict[dt.year] = 1\n",
    "    else: yeardict[dt.year] += 1"
   ]
  },
  {
   "cell_type": "code",
   "execution_count": 8,
   "metadata": {
    "collapsed": false
   },
   "outputs": [
    {
     "data": {
      "text/plain": [
       "<Container object of 15 artists>"
      ]
     },
     "execution_count": 8,
     "metadata": {},
     "output_type": "execute_result"
    },
    {
     "data": {
      "image/png": "[encoded data removed]",
      "text/plain": [
       "<matplotlib.figure.Figure at 0x114f69668>"
      ]
     },
     "metadata": {},
     "output_type": "display_data"
    }
   ],
   "source": [
    "plt.figure(figsize=[9, 5])\n",
    "plt.xlabel('Year')\n",
    "plt.ylabel('#Photos')\n",
    "X = list(sorted(yeardict.keys()))\n",
    "Y = [yeardict[x] for x in X]\n",
    "plt.bar(X, Y, width=1)"
   ]
  },
  {
   "cell_type": "markdown",
   "metadata": {},
   "source": [
    "# 3. Distributions"
   ]
  },
  {
   "cell_type": "markdown",
   "metadata": {},
   "source": [
    "## 3.1. Bar chart: Accuracy of photos"
   ]
  },
  {
   "cell_type": "markdown",
   "metadata": {},
   "source": [
    "The original dataset provide the accuracy of geo-tag for each photo. Accuracy of 16 is the most accurate and the accuracy of 1 is the least accurate. (The default accuracy is set to 16 by Flickr when the user does not provide any accuracy information about photo.)\n",
    "\n",
    "Here's the [Description about accuracy in Tumblr API](https://www.flickr.com/services/api/flickr.photos.geo.setLocation.html)\n"
   ]
  },
  {
   "cell_type": "code",
   "execution_count": 9,
   "metadata": {
    "collapsed": false,
    "slideshow": {
     "slide_type": "skip"
    }
   },
   "outputs": [
    {
     "name": "stdout",
     "output_type": "stream",
     "text": [
      "Number and % of points at max accuracy (16) 33905 0.5831011591511024\n",
      "Number and % of points at accuracy >=12 56673 0.974667217005469\n"
     ]
    },
    {
     "data": {
      "text/plain": [
       "array([<matplotlib.axes._subplots.AxesSubplot object at 0x113395c18>], dtype=object)"
      ]
     },
     "execution_count": 9,
     "metadata": {},
     "output_type": "execute_result"
    },
    {
     "data": {
      "image/png": "[encoded data removed]",
      "text/plain": [
       "<matplotlib.figure.Figure at 0x1133b6a90>"
      ]
     },
     "metadata": {},
     "output_type": "display_data"
    }
   ],
   "source": [
    "print(\"Number and % of points at max accuracy (16)\", len(traj[traj['Accuracy']==16]), \\\n",
    "      1.*len(traj[traj['Accuracy']==16])/len(traj))\n",
    "print(\"Number and % of points at accuracy >=12\", len(traj[traj['Accuracy']>=11]), \\\n",
    "      1.*len(traj[traj['Accuracy']>=11])/len(traj))\n",
    "\n",
    "ax1 = plt.figure(figsize=[10,3]).add_subplot(111)\n",
    "traj.hist(column=['Accuracy'], bins=15, ax=ax1)"
   ]
  },
  {
   "cell_type": "markdown",
   "metadata": {},
   "source": [
    "## 3.2. Histogram: Travel time"
   ]
  },
  {
   "cell_type": "code",
   "execution_count": 10,
   "metadata": {
    "collapsed": false
   },
   "outputs": [
    {
     "data": {
      "text/plain": [
       "array([<matplotlib.axes._subplots.AxesSubplot object at 0x114f69550>], dtype=object)"
      ]
     },
     "execution_count": 10,
     "metadata": {},
     "output_type": "execute_result"
    },
    {
     "data": {
      "image/png": "[encoded data removed]",
      "text/plain": [
       "<matplotlib.figure.Figure at 0x1146bbcc0>"
      ]
     },
     "metadata": {},
     "output_type": "display_data"
    }
   ],
   "source": [
    "ax1 = plt.figure(figsize=[10,3]).add_subplot(111)\n",
    "traj_stats.hist(column='Total_Time(min)', bins=50, ax=ax1)"
   ]
  },
  {
   "cell_type": "markdown",
   "metadata": {},
   "source": [
    "## 3.3. Histogram: Distances of trajectory"
   ]
  },
  {
   "cell_type": "code",
   "execution_count": 11,
   "metadata": {
    "collapsed": false
   },
   "outputs": [
    {
     "data": {
      "text/plain": [
       "array([<matplotlib.axes._subplots.AxesSubplot object at 0x1146dd2e8>], dtype=object)"
      ]
     },
     "execution_count": 11,
     "metadata": {},
     "output_type": "execute_result"
    },
    {
     "data": {
      "image/png": "[encoded data removed]",
      "text/plain": [
       "<matplotlib.figure.Figure at 0x1131deeb8>"
      ]
     },
     "metadata": {},
     "output_type": "display_data"
    }
   ],
   "source": [
    "ax1 = plt.figure(figsize=[10,3]).add_subplot(111)\n",
    "traj_stats.hist(column='Travel_Distance(km)', bins=50, ax=ax1)"
   ]
  },
  {
   "cell_type": "markdown",
   "metadata": {},
   "source": [
    "## 3.4. Histogram: Average Speed"
   ]
  },
  {
   "cell_type": "code",
   "execution_count": 12,
   "metadata": {
    "collapsed": false
   },
   "outputs": [
    {
     "data": {
      "text/plain": [
       "array([<matplotlib.axes._subplots.AxesSubplot object at 0x1146c2b00>], dtype=object)"
      ]
     },
     "execution_count": 12,
     "metadata": {},
     "output_type": "execute_result"
    },
    {
     "data": {
      "image/png": "[encoded data removed]",
      "text/plain": [
       "<matplotlib.figure.Figure at 0x1137ecf28>"
      ]
     },
     "metadata": {},
     "output_type": "display_data"
    }
   ],
   "source": [
    "ax1 = plt.figure(figsize=[10,3]).add_subplot(111)\n",
    "traj_stats.hist(column='Average_Speed(km/h)', bins=50, ax=ax1)"
   ]
  },
  {
   "cell_type": "markdown",
   "metadata": {},
   "source": [
    "## 4. Trajectory Visualization"
   ]
  },
  {
   "cell_type": "markdown",
   "metadata": {},
   "source": [
    "[KML file](https://en.wikipedia.org/wiki/Keyhole_Markup_Language) is a useful tool to visualize trajectories on commercial map services such as Google Map. \n",
    "\n",
    "In this section, we provide how to generate KML files for visualize trajectories on the map of Melbourne."
   ]
  },
  {
   "cell_type": "markdown",
   "metadata": {},
   "source": [
    "### 4.1. Generating KML files with trajectory ID"
   ]
  },
  {
   "cell_type": "markdown",
   "metadata": {},
   "source": [
    "We implemented KML file generator in `traj_visualise.py` file. So let's first import that file."
   ]
  },
  {
   "cell_type": "code",
   "execution_count": 13,
   "metadata": {
    "collapsed": false,
    "slideshow": {
     "slide_type": "skip"
    }
   },
   "outputs": [],
   "source": [
    "import traj_visualise # for visualization on map"
   ]
  },
  {
   "cell_type": "markdown",
   "metadata": {},
   "source": [
    "`traj_visualise.gen_kml` function takes list of trajectories as an input and generate KML files for the list of trajectories."
   ]
  },
  {
   "cell_type": "markdown",
   "metadata": {},
   "source": [
    "```python\n",
    "def gen_kml(fname, traj_data, traj_stats, traj_id_list, traj_name_list=None)\n",
    "```\n",
    "\n",
    "* `fname`: output file path\n",
    "* `traj_data`: Trajectory table\n",
    "* `traj_stats`: Trajectory stat table\n",
    "* `traj_id_list`: List of trajectory IDs\n",
    "* `traj_name_list`: List of names for each trajectory in `traj_id_list`"
   ]
  },
  {
   "cell_type": "markdown",
   "metadata": {},
   "source": [
    "Upload the generated KML files to my Google map helps navigating trajectories over map."
   ]
  },
  {
   "cell_type": "markdown",
   "metadata": {},
   "source": [
    "### 4.2. Example of interesting trajectories"
   ]
  },
  {
   "cell_type": "markdown",
   "metadata": {},
   "source": [
    "In this section, we show statistics of some extreme cases in our dataset and plot these trajectories on Google map."
   ]
  },
  {
   "cell_type": "markdown",
   "metadata": {},
   "source": [
    "**Trajectory with the most number of photos:** [Link to Google Map](https://www.google.com/maps/d/viewer?mid=zbfVMoawlt38.k9zFmCKfuQ58)"
   ]
  },
  {
   "cell_type": "markdown",
   "metadata": {},
   "source": [
    "<img src=\"./img/most_photos.png\" style=\"width: 600px;\"/>"
   ]
  },
  {
   "cell_type": "code",
   "execution_count": 14,
   "metadata": {
    "collapsed": false
   },
   "outputs": [
    {
     "data": {
      "text/plain": [
       "Trajectory_ID                        17591\n",
       "User_ID                       67407461@N00\n",
       "#Photo                                 379\n",
       "Start_Time             2010-01-15 11:33:05\n",
       "Travel_Distance(km)               11.45493\n",
       "Total_Time(min)                      593.5\n",
       "Average_Speed(km/h)               1.158038\n",
       "Name: 2938, dtype: object"
      ]
     },
     "execution_count": 14,
     "metadata": {},
     "output_type": "execute_result"
    }
   ],
   "source": [
    "mostphoto_idx = traj_stats['#Photo'].idxmax()\n",
    "mostphoto_traj_id = traj_stats.ix[mostphoto_idx].Trajectory_ID\n",
    "\n",
    "output_file = '../data/most_photos.kml'\n",
    "traj_visualise.gen_kml(output_file, traj, traj_stats, [mostphoto_traj_id], ['The most number of photos'])\n",
    "traj_stats.ix[mostphoto_idx]"
   ]
  },
  {
   "cell_type": "markdown",
   "metadata": {},
   "source": [
    "**Trajectory with the longest travel time:** [Link to Google Map](https://www.google.com/maps/d/viewer?mid=zbfVMoawlt38.knIFp7fPCJX0)"
   ]
  },
  {
   "cell_type": "markdown",
   "metadata": {},
   "source": [
    "<img src=\"./img/longest_time.png\" style=\"width: 600px;\"/>"
   ]
  },
  {
   "cell_type": "code",
   "execution_count": 15,
   "metadata": {
    "collapsed": false
   },
   "outputs": [
    {
     "data": {
      "text/plain": [
       "Trajectory_ID                        18033\n",
       "User_ID                       68151423@N00\n",
       "#Photo                                  16\n",
       "Start_Time             2002-03-18 21:37:30\n",
       "Travel_Distance(km)                 864.76\n",
       "Total_Time(min)                   1351.083\n",
       "Average_Speed(km/h)               38.40296\n",
       "Name: 3017, dtype: object"
      ]
     },
     "execution_count": 15,
     "metadata": {},
     "output_type": "execute_result"
    }
   ],
   "source": [
    "time_idx = traj_stats['Total_Time(min)'].idxmax()\n",
    "time_traj_id = traj_stats.ix[time_idx].Trajectory_ID\n",
    "\n",
    "output_file = '../data/longest_time.kml'\n",
    "traj_visualise.gen_kml(output_file, traj, traj_stats, [time_traj_id], ['The longest travel time'])\n",
    "traj_stats.ix[time_idx]"
   ]
  },
  {
   "cell_type": "markdown",
   "metadata": {},
   "source": [
    "**Longest travel distance**: [Link to Google Map](https://drive.google.com/open?id=15nDAil1umZLszGL_rDlzW6TJtsE&usp=sharing)"
   ]
  },
  {
   "cell_type": "markdown",
   "metadata": {},
   "source": [
    "<img src=\"./img/longest_distance.png\" style=\"width: 600px;\"/>"
   ]
  },
  {
   "cell_type": "code",
   "execution_count": 16,
   "metadata": {
    "collapsed": false
   },
   "outputs": [
    {
     "data": {
      "text/plain": [
       "Trajectory_ID                        25668\n",
       "User_ID                       97867688@N00\n",
       "#Photo                                 117\n",
       "Start_Time             2004-11-04 19:54:08\n",
       "Travel_Distance(km)               867.0345\n",
       "Total_Time(min)                   541.2833\n",
       "Average_Speed(km/h)               96.10876\n",
       "Name: 4260, dtype: object"
      ]
     },
     "execution_count": 16,
     "metadata": {},
     "output_type": "execute_result"
    }
   ],
   "source": [
    "longest_idx = traj_stats['Travel_Distance(km)'].idxmax()\n",
    "longest_traj_id = traj_stats.ix[longest_idx].Trajectory_ID\n",
    "\n",
    "output_file = '../data/longest.kml'\n",
    "traj_visualise.gen_kml(output_file, traj, traj_stats, [longest_traj_id], ['longest_traj'])\n",
    "traj_stats.ix[longest_idx]"
   ]
  },
  {
   "cell_type": "markdown",
   "metadata": {},
   "source": [
    "**Fastest trajectory**: [Link to Google Map](https://drive.google.com/open?id=1KrKPR0on5M4GySGCVX--Za2GZeU&usp=sharing)"
   ]
  },
  {
   "cell_type": "markdown",
   "metadata": {},
   "source": [
    "<img src=\"./img/fastest_speed.png\" style=\"width: 600px;\"/>"
   ]
  },
  {
   "cell_type": "code",
   "execution_count": 17,
   "metadata": {
    "collapsed": false
   },
   "outputs": [
    {
     "data": {
      "text/plain": [
       "Trajectory_ID                         7444\n",
       "User_ID                       32005048@N06\n",
       "#Photo                                  82\n",
       "Start_Time             2011-08-24 09:53:16\n",
       "Travel_Distance(km)               182.7089\n",
       "Total_Time(min)                      110.9\n",
       "Average_Speed(km/h)               98.85061\n",
       "Name: 1199, dtype: object"
      ]
     },
     "execution_count": 17,
     "metadata": {},
     "output_type": "execute_result"
    }
   ],
   "source": [
    "fastest_idx = traj_stats['Average_Speed(km/h)'].idxmax()\n",
    "fastest_traj_id = traj_stats.ix[fastest_idx].Trajectory_ID\n",
    "\n",
    "output_file = '../data/fastest.kml'\n",
    "traj_visualise.gen_kml(output_file, traj, traj_stats, [fastest_traj_id], ['fastest_traj'])\n",
    "traj_stats.ix[fastest_idx]"
   ]
  }
 ],
 "metadata": {
  "kernelspec": {
   "display_name": "Python 3",
   "language": "python",
   "name": "python3"
  },
  "language_info": {
   "codemirror_mode": {
    "name": "ipython",
    "version": 3
   },
   "file_extension": ".py",
   "mimetype": "text/x-python",
   "name": "python",
   "nbconvert_exporter": "python",
   "pygments_lexer": "ipython3",
   "version": "3.4.3"
  }
 },
 "nbformat": 4,
 "nbformat_minor": 0
}
