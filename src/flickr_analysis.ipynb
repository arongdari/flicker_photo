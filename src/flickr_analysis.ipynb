{
 "cells": [
  {
   "cell_type": "code",
   "execution_count": 1,
   "metadata": {
    "collapsed": false,
    "slideshow": {
     "slide_type": "skip"
    }
   },
   "outputs": [],
   "source": [
    "%matplotlib inline\n",
    "\n",
    "import os\n",
    "import matplotlib\n",
    "import pandas as pd\n",
    "import numpy as np\n",
    "import matplotlib.pyplot as plt\n",
    "\n",
    "today = pd.datetime.strftime(pd.datetime.today(),'%Y%m%d')"
   ]
  },
  {
   "cell_type": "code",
   "execution_count": 2,
   "metadata": {
    "collapsed": false,
    "slideshow": {
     "slide_type": "skip"
    }
   },
   "outputs": [],
   "source": [
    "import traj_visualise\n",
    "#from visualise import gen_kml"
   ]
  },
  {
   "cell_type": "code",
   "execution_count": 3,
   "metadata": {
    "collapsed": false,
    "slideshow": {
     "slide_type": "skip"
    }
   },
   "outputs": [
    {
     "data": {
      "text/plain": [
       "' not using this to visualize\\nfrom mpl_toolkits.basemap import Basemap\\n'"
      ]
     },
     "execution_count": 3,
     "metadata": {},
     "output_type": "execute_result"
    }
   ],
   "source": [
    "\"\"\" not using this to visualize\n",
    "from mpl_toolkits.basemap import Basemap\n",
    "\"\"\""
   ]
  },
  {
   "cell_type": "code",
   "execution_count": 4,
   "metadata": {
    "collapsed": false,
    "slideshow": {
     "slide_type": "skip"
    }
   },
   "outputs": [],
   "source": [
    "# read data and convert timestamps\n",
    "data_dir = '../data/'\n",
    "photo_table = os.path.join(data_dir, 'Melb-table1.csv')\n",
    "traj_table = os.path.join(data_dir, 'Melb-table2.csv')\n",
    "traj = pd.read_csv(photo_table, delimiter=',', parse_dates=[3], skipinitialspace=True)\n",
    "traj_stats = pd.read_csv(traj_table, delimiter=',', parse_dates=[3,5], skipinitialspace=True)\n",
    "traj_stats['Total_Time(HH:MM:SS)'] = traj_stats['Total_Time(HH:MM:SS)'] - pd.to_datetime(today) \n",
    "#convert datetime to time delta\n",
    "traj_stats['Total_Time(HH:MM:SS)'] = traj_stats['Total_Time(HH:MM:SS)'].astype('timedelta64[m]')\n",
    "traj_stats.rename(columns={'Total_Time(HH:MM:SS)':'Total_Time(min)'}, inplace=True)"
   ]
  },
  {
   "cell_type": "code",
   "execution_count": 5,
   "metadata": {
    "collapsed": false,
    "slideshow": {
     "slide_type": "slide"
    }
   },
   "outputs": [
    {
     "data": {
      "text/html": [
       "<div>\n",
       "<table border=\"1\" class=\"dataframe\">\n",
       "  <thead>\n",
       "    <tr style=\"text-align: right;\">\n",
       "      <th></th>\n",
       "      <th>Trajectory_ID</th>\n",
       "      <th>Photo_ID</th>\n",
       "      <th>User_ID</th>\n",
       "      <th>Timestamp</th>\n",
       "      <th>Longitude</th>\n",
       "      <th>Latitude</th>\n",
       "      <th>Accuracy</th>\n",
       "      <th>Marker(photo=0</th>\n",
       "      <th>video=1)</th>\n",
       "      <th>URL</th>\n",
       "    </tr>\n",
       "  </thead>\n",
       "  <tbody>\n",
       "    <tr>\n",
       "      <th>0</th>\n",
       "      <td>0</td>\n",
       "      <td>4581420457</td>\n",
       "      <td>10033564@N03</td>\n",
       "      <td>2010-05-03 16:49:44</td>\n",
       "      <td>144.965286</td>\n",
       "      <td>-37.813581</td>\n",
       "      <td>11</td>\n",
       "      <td>0</td>\n",
       "      <td>http://www.flickr.com/photos/10033564@N03/4581...</td>\n",
       "      <td>NaN</td>\n",
       "    </tr>\n",
       "    <tr>\n",
       "      <th>1</th>\n",
       "      <td>0</td>\n",
       "      <td>4582049864</td>\n",
       "      <td>10033564@N03</td>\n",
       "      <td>2010-05-03 17:12:37</td>\n",
       "      <td>144.965286</td>\n",
       "      <td>-37.813581</td>\n",
       "      <td>11</td>\n",
       "      <td>0</td>\n",
       "      <td>http://www.flickr.com/photos/10033564@N03/4582...</td>\n",
       "      <td>NaN</td>\n",
       "    </tr>\n",
       "    <tr>\n",
       "      <th>2</th>\n",
       "      <td>0</td>\n",
       "      <td>4581421585</td>\n",
       "      <td>10033564@N03</td>\n",
       "      <td>2010-05-03 17:39:01</td>\n",
       "      <td>144.965286</td>\n",
       "      <td>-37.813581</td>\n",
       "      <td>11</td>\n",
       "      <td>0</td>\n",
       "      <td>http://www.flickr.com/photos/10033564@N03/4581...</td>\n",
       "      <td>NaN</td>\n",
       "    </tr>\n",
       "    <tr>\n",
       "      <th>3</th>\n",
       "      <td>0</td>\n",
       "      <td>4582050898</td>\n",
       "      <td>10033564@N03</td>\n",
       "      <td>2010-05-03 17:39:27</td>\n",
       "      <td>144.965286</td>\n",
       "      <td>-37.813581</td>\n",
       "      <td>11</td>\n",
       "      <td>0</td>\n",
       "      <td>http://www.flickr.com/photos/10033564@N03/4582...</td>\n",
       "      <td>NaN</td>\n",
       "    </tr>\n",
       "    <tr>\n",
       "      <th>4</th>\n",
       "      <td>1</td>\n",
       "      <td>4582051334</td>\n",
       "      <td>10033564@N03</td>\n",
       "      <td>2010-05-04 08:33:23</td>\n",
       "      <td>144.965286</td>\n",
       "      <td>-37.813581</td>\n",
       "      <td>11</td>\n",
       "      <td>0</td>\n",
       "      <td>http://www.flickr.com/photos/10033564@N03/4582...</td>\n",
       "      <td>NaN</td>\n",
       "    </tr>\n",
       "  </tbody>\n",
       "</table>\n",
       "</div>"
      ],
      "text/plain": [
       "   Trajectory_ID    Photo_ID       User_ID           Timestamp   Longitude  \\\n",
       "0              0  4581420457  10033564@N03 2010-05-03 16:49:44  144.965286   \n",
       "1              0  4582049864  10033564@N03 2010-05-03 17:12:37  144.965286   \n",
       "2              0  4581421585  10033564@N03 2010-05-03 17:39:01  144.965286   \n",
       "3              0  4582050898  10033564@N03 2010-05-03 17:39:27  144.965286   \n",
       "4              1  4582051334  10033564@N03 2010-05-04 08:33:23  144.965286   \n",
       "\n",
       "    Latitude  Accuracy  Marker(photo=0  \\\n",
       "0 -37.813581        11               0   \n",
       "1 -37.813581        11               0   \n",
       "2 -37.813581        11               0   \n",
       "3 -37.813581        11               0   \n",
       "4 -37.813581        11               0   \n",
       "\n",
       "                                            video=1)  URL  \n",
       "0  http://www.flickr.com/photos/10033564@N03/4581...  NaN  \n",
       "1  http://www.flickr.com/photos/10033564@N03/4582...  NaN  \n",
       "2  http://www.flickr.com/photos/10033564@N03/4581...  NaN  \n",
       "3  http://www.flickr.com/photos/10033564@N03/4582...  NaN  \n",
       "4  http://www.flickr.com/photos/10033564@N03/4582...  NaN  "
      ]
     },
     "execution_count": 5,
     "metadata": {},
     "output_type": "execute_result"
    }
   ],
   "source": [
    "\n",
    "traj.head()"
   ]
  },
  {
   "cell_type": "code",
   "execution_count": 6,
   "metadata": {
    "collapsed": false,
    "slideshow": {
     "slide_type": "fragment"
    }
   },
   "outputs": [
    {
     "data": {
      "text/plain": [
       "count    162607.000000\n",
       "mean       9734.739716\n",
       "std        5366.077713\n",
       "min           0.000000\n",
       "25%        4518.000000\n",
       "50%       10003.000000\n",
       "75%       14639.000000\n",
       "max       19249.000000\n",
       "Name: Trajectory_ID, dtype: float64"
      ]
     },
     "execution_count": 6,
     "metadata": {},
     "output_type": "execute_result"
    }
   ],
   "source": [
    "traj['Trajectory_ID'].describe()"
   ]
  },
  {
   "cell_type": "code",
   "execution_count": 7,
   "metadata": {
    "collapsed": false,
    "slideshow": {
     "slide_type": "skip"
    }
   },
   "outputs": [
    {
     "name": "stdout",
     "output_type": "stream",
     "text": [
      "number and % of points at max accuracy (16) 76009 0.46743990111126826\n",
      "number and % of points at accuracy >=12 153962 0.9468350071030153\n"
     ]
    },
    {
     "data": {
      "text/plain": [
       "array([<matplotlib.axes._subplots.AxesSubplot object at 0x10bec89b0>], dtype=object)"
      ]
     },
     "execution_count": 7,
     "metadata": {},
     "output_type": "execute_result"
    },
    {
     "data": {
      "image/png": "[encoded data removed]",
      "text/plain": [
       "<matplotlib.figure.Figure at 0x10bec8278>"
      ]
     },
     "metadata": {},
     "output_type": "display_data"
    }
   ],
   "source": [
    "#print traj['Accuracy'].describe()\n",
    "print(\"number and % of points at max accuracy (16)\", len(traj[traj['Accuracy']==16]), 1.*len(traj[traj['Accuracy']==16])/len(traj))\n",
    "print(\"number and % of points at accuracy >=12\", len(traj[traj['Accuracy']>=11]), 1.*len(traj[traj['Accuracy']>=11])/len(traj))\n",
    "\n",
    "ax1 = plt.figure(figsize=[10,3]).add_subplot(111)\n",
    "#plt.rcParams[\"figure.figsize\"] = [10,3]\n",
    "traj.hist(column=['Accuracy'], bins=15, ax=ax1)"
   ]
  },
  {
   "cell_type": "code",
   "execution_count": 8,
   "metadata": {
    "collapsed": false,
    "slideshow": {
     "slide_type": "skip"
    }
   },
   "outputs": [
    {
     "data": {
      "text/html": [
       "<div>\n",
       "<table border=\"1\" class=\"dataframe\">\n",
       "  <thead>\n",
       "    <tr style=\"text-align: right;\">\n",
       "      <th></th>\n",
       "      <th>Trajectory_ID</th>\n",
       "      <th>User_ID</th>\n",
       "      <th>#Photo</th>\n",
       "      <th>Start_Time</th>\n",
       "      <th>Travel_Distance(km)</th>\n",
       "      <th>Total_Time(min)</th>\n",
       "      <th>Average_Speed(km/h)</th>\n",
       "    </tr>\n",
       "  </thead>\n",
       "  <tbody>\n",
       "    <tr>\n",
       "      <th>0</th>\n",
       "      <td>0</td>\n",
       "      <td>10033564@N03</td>\n",
       "      <td>4</td>\n",
       "      <td>2010-05-03 16:49:44</td>\n",
       "      <td>0</td>\n",
       "      <td>49</td>\n",
       "      <td>0</td>\n",
       "    </tr>\n",
       "    <tr>\n",
       "      <th>1</th>\n",
       "      <td>1</td>\n",
       "      <td>10033564@N03</td>\n",
       "      <td>18</td>\n",
       "      <td>2010-05-04 08:33:23</td>\n",
       "      <td>0</td>\n",
       "      <td>631</td>\n",
       "      <td>0</td>\n",
       "    </tr>\n",
       "    <tr>\n",
       "      <th>2</th>\n",
       "      <td>2</td>\n",
       "      <td>10033564@N03</td>\n",
       "      <td>17</td>\n",
       "      <td>2010-05-05 10:06:12</td>\n",
       "      <td>0</td>\n",
       "      <td>207</td>\n",
       "      <td>0</td>\n",
       "    </tr>\n",
       "    <tr>\n",
       "      <th>3</th>\n",
       "      <td>3</td>\n",
       "      <td>10039304@N05</td>\n",
       "      <td>1</td>\n",
       "      <td>2011-04-09 11:12:16</td>\n",
       "      <td>0</td>\n",
       "      <td>0</td>\n",
       "      <td>0</td>\n",
       "    </tr>\n",
       "    <tr>\n",
       "      <th>4</th>\n",
       "      <td>4</td>\n",
       "      <td>10058801@N06</td>\n",
       "      <td>4</td>\n",
       "      <td>2008-05-11 22:34:56</td>\n",
       "      <td>0</td>\n",
       "      <td>9</td>\n",
       "      <td>0</td>\n",
       "    </tr>\n",
       "  </tbody>\n",
       "</table>\n",
       "</div>"
      ],
      "text/plain": [
       "   Trajectory_ID       User_ID  #Photo          Start_Time  \\\n",
       "0              0  10033564@N03       4 2010-05-03 16:49:44   \n",
       "1              1  10033564@N03      18 2010-05-04 08:33:23   \n",
       "2              2  10033564@N03      17 2010-05-05 10:06:12   \n",
       "3              3  10039304@N05       1 2011-04-09 11:12:16   \n",
       "4              4  10058801@N06       4 2008-05-11 22:34:56   \n",
       "\n",
       "   Travel_Distance(km)  Total_Time(min)  Average_Speed(km/h)  \n",
       "0                    0               49                    0  \n",
       "1                    0              631                    0  \n",
       "2                    0              207                    0  \n",
       "3                    0                0                    0  \n",
       "4                    0                9                    0  "
      ]
     },
     "execution_count": 8,
     "metadata": {},
     "output_type": "execute_result"
    }
   ],
   "source": [
    "traj_stats.head()"
   ]
  },
  {
   "cell_type": "code",
   "execution_count": 9,
   "metadata": {
    "collapsed": false,
    "slideshow": {
     "slide_type": "slide"
    }
   },
   "outputs": [
    {
     "data": {
      "text/html": [
       "<div>\n",
       "<table border=\"1\" class=\"dataframe\">\n",
       "  <thead>\n",
       "    <tr style=\"text-align: right;\">\n",
       "      <th></th>\n",
       "      <th>Trajectory_ID</th>\n",
       "      <th>User_ID</th>\n",
       "      <th>#Photo</th>\n",
       "      <th>Start_Time</th>\n",
       "      <th>Travel_Distance(km)</th>\n",
       "      <th>Total_Time(min)</th>\n",
       "      <th>Average_Speed(km/h)</th>\n",
       "    </tr>\n",
       "  </thead>\n",
       "  <tbody>\n",
       "    <tr>\n",
       "      <th>19245</th>\n",
       "      <td>19245</td>\n",
       "      <td>9989843@N07</td>\n",
       "      <td>25</td>\n",
       "      <td>2010-05-30 08:49:57</td>\n",
       "      <td>129.273375</td>\n",
       "      <td>901</td>\n",
       "      <td>8.603408</td>\n",
       "    </tr>\n",
       "    <tr>\n",
       "      <th>19246</th>\n",
       "      <td>19246</td>\n",
       "      <td>9989843@N07</td>\n",
       "      <td>20</td>\n",
       "      <td>2010-06-10 18:53:29</td>\n",
       "      <td>0.000000</td>\n",
       "      <td>152</td>\n",
       "      <td>0.000000</td>\n",
       "    </tr>\n",
       "    <tr>\n",
       "      <th>19247</th>\n",
       "      <td>19247</td>\n",
       "      <td>9989843@N07</td>\n",
       "      <td>9</td>\n",
       "      <td>2010-06-14 17:45:57</td>\n",
       "      <td>0.000000</td>\n",
       "      <td>307</td>\n",
       "      <td>0.000000</td>\n",
       "    </tr>\n",
       "    <tr>\n",
       "      <th>19248</th>\n",
       "      <td>19248</td>\n",
       "      <td>9989843@N07</td>\n",
       "      <td>46</td>\n",
       "      <td>2010-06-18 20:03:48</td>\n",
       "      <td>0.000000</td>\n",
       "      <td>167</td>\n",
       "      <td>0.000000</td>\n",
       "    </tr>\n",
       "    <tr>\n",
       "      <th>19249</th>\n",
       "      <td>19249</td>\n",
       "      <td>99971580@N00</td>\n",
       "      <td>1</td>\n",
       "      <td>2006-11-22 10:35:58</td>\n",
       "      <td>0.000000</td>\n",
       "      <td>0</td>\n",
       "      <td>0.000000</td>\n",
       "    </tr>\n",
       "  </tbody>\n",
       "</table>\n",
       "</div>"
      ],
      "text/plain": [
       "       Trajectory_ID       User_ID  #Photo          Start_Time  \\\n",
       "19245          19245   9989843@N07      25 2010-05-30 08:49:57   \n",
       "19246          19246   9989843@N07      20 2010-06-10 18:53:29   \n",
       "19247          19247   9989843@N07       9 2010-06-14 17:45:57   \n",
       "19248          19248   9989843@N07      46 2010-06-18 20:03:48   \n",
       "19249          19249  99971580@N00       1 2006-11-22 10:35:58   \n",
       "\n",
       "       Travel_Distance(km)  Total_Time(min)  Average_Speed(km/h)  \n",
       "19245           129.273375              901             8.603408  \n",
       "19246             0.000000              152             0.000000  \n",
       "19247             0.000000              307             0.000000  \n",
       "19248             0.000000              167             0.000000  \n",
       "19249             0.000000                0             0.000000  "
      ]
     },
     "execution_count": 9,
     "metadata": {},
     "output_type": "execute_result"
    }
   ],
   "source": [
    "traj_stats.tail()"
   ]
  },
  {
   "cell_type": "markdown",
   "metadata": {
    "slideshow": {
     "slide_type": "slide"
    }
   },
   "source": [
    "## Number of users, trajectories, and average trajectories per user"
   ]
  },
  {
   "cell_type": "code",
   "execution_count": 10,
   "metadata": {
    "collapsed": false,
    "slideshow": {
     "slide_type": "fragment"
    }
   },
   "outputs": [
    {
     "name": "stdout",
     "output_type": "stream",
     "text": [
      "# users : 2458\n",
      "# trajectories : 19250\n",
      "Average trajectories per user : 7.831570382424736\n"
     ]
    }
   ],
   "source": [
    "num_user = traj_stats['User_ID'].unique().size\n",
    "num_traj = traj_stats['Trajectory_ID'].unique().size\n",
    "avg_traj_per_user = num_traj/num_user\n",
    "print('# users :', num_user)\n",
    "print('# trajectories :', num_traj)\n",
    "print('Average trajectories per user :', avg_traj_per_user)"
   ]
  },
  {
   "cell_type": "markdown",
   "metadata": {
    "slideshow": {
     "slide_type": "skip"
    }
   },
   "source": [
    "## Compute Simple Stats"
   ]
  },
  {
   "cell_type": "code",
   "execution_count": 11,
   "metadata": {
    "collapsed": false,
    "slideshow": {
     "slide_type": "fragment"
    }
   },
   "outputs": [
    {
     "data": {
      "text/html": [
       "<div>\n",
       "<table border=\"1\" class=\"dataframe\">\n",
       "  <thead>\n",
       "    <tr style=\"text-align: right;\">\n",
       "      <th></th>\n",
       "      <th>#Photo</th>\n",
       "      <th>Average_Speed(km/h)</th>\n",
       "      <th>Total_Time(min)</th>\n",
       "      <th>Travel_Distance(km)</th>\n",
       "    </tr>\n",
       "  </thead>\n",
       "  <tbody>\n",
       "    <tr>\n",
       "      <th>min</th>\n",
       "      <td>1.000000</td>\n",
       "      <td>0.000000</td>\n",
       "      <td>0.000000</td>\n",
       "      <td>0.000000</td>\n",
       "    </tr>\n",
       "    <tr>\n",
       "      <th>max</th>\n",
       "      <td>1340.000000</td>\n",
       "      <td>332151.344536</td>\n",
       "      <td>1411.000000</td>\n",
       "      <td>366.809744</td>\n",
       "    </tr>\n",
       "    <tr>\n",
       "      <th>median</th>\n",
       "      <td>3.000000</td>\n",
       "      <td>0.039019</td>\n",
       "      <td>95.000000</td>\n",
       "      <td>0.074131</td>\n",
       "    </tr>\n",
       "    <tr>\n",
       "      <th>mean</th>\n",
       "      <td>8.447169</td>\n",
       "      <td>82.280115</td>\n",
       "      <td>187.466442</td>\n",
       "      <td>13.198710</td>\n",
       "    </tr>\n",
       "  </tbody>\n",
       "</table>\n",
       "</div>"
      ],
      "text/plain": [
       "             #Photo  Average_Speed(km/h)  Total_Time(min)  Travel_Distance(km)\n",
       "min        1.000000             0.000000         0.000000             0.000000\n",
       "max     1340.000000        332151.344536      1411.000000           366.809744\n",
       "median     3.000000             0.039019        95.000000             0.074131\n",
       "mean       8.447169            82.280115       187.466442            13.198710"
      ]
     },
     "execution_count": 11,
     "metadata": {},
     "output_type": "execute_result"
    }
   ],
   "source": [
    "basic_stats = pd.DataFrame([traj_stats.min(), traj_stats.max(), traj_stats.median(), traj_stats.mean()], \\\n",
    "                           index=['min','max', 'median', 'mean'])\n",
    "basic_stats.drop('Start_Time', axis=1, inplace=True)\n",
    "basic_stats.drop('Trajectory_ID', axis=1, inplace=True)\n",
    "basic_stats.drop('User_ID', axis=1, inplace=True)\n",
    "basic_stats"
   ]
  },
  {
   "cell_type": "markdown",
   "metadata": {},
   "source": [
    "## Remove the trajectories with only one photo\n",
    "In the following analysis, we only consider the trajectories with at least 2 photos."
   ]
  },
  {
   "cell_type": "code",
   "execution_count": 12,
   "metadata": {
    "collapsed": false,
    "scrolled": true
   },
   "outputs": [
    {
     "data": {
      "text/html": [
       "<div>\n",
       "<table border=\"1\" class=\"dataframe\">\n",
       "  <thead>\n",
       "    <tr style=\"text-align: right;\">\n",
       "      <th></th>\n",
       "      <th>Trajectory_ID</th>\n",
       "      <th>User_ID</th>\n",
       "      <th>#Photo</th>\n",
       "      <th>Start_Time</th>\n",
       "      <th>Travel_Distance(km)</th>\n",
       "      <th>Total_Time(min)</th>\n",
       "      <th>Average_Speed(km/h)</th>\n",
       "    </tr>\n",
       "  </thead>\n",
       "  <tbody>\n",
       "    <tr>\n",
       "      <th>0</th>\n",
       "      <td>0</td>\n",
       "      <td>10033564@N03</td>\n",
       "      <td>4</td>\n",
       "      <td>2010-05-03 16:49:44</td>\n",
       "      <td>0</td>\n",
       "      <td>49</td>\n",
       "      <td>0</td>\n",
       "    </tr>\n",
       "    <tr>\n",
       "      <th>1</th>\n",
       "      <td>1</td>\n",
       "      <td>10033564@N03</td>\n",
       "      <td>18</td>\n",
       "      <td>2010-05-04 08:33:23</td>\n",
       "      <td>0</td>\n",
       "      <td>631</td>\n",
       "      <td>0</td>\n",
       "    </tr>\n",
       "    <tr>\n",
       "      <th>2</th>\n",
       "      <td>2</td>\n",
       "      <td>10033564@N03</td>\n",
       "      <td>17</td>\n",
       "      <td>2010-05-05 10:06:12</td>\n",
       "      <td>0</td>\n",
       "      <td>207</td>\n",
       "      <td>0</td>\n",
       "    </tr>\n",
       "    <tr>\n",
       "      <th>4</th>\n",
       "      <td>4</td>\n",
       "      <td>10058801@N06</td>\n",
       "      <td>4</td>\n",
       "      <td>2008-05-11 22:34:56</td>\n",
       "      <td>0</td>\n",
       "      <td>9</td>\n",
       "      <td>0</td>\n",
       "    </tr>\n",
       "    <tr>\n",
       "      <th>5</th>\n",
       "      <td>5</td>\n",
       "      <td>10058801@N06</td>\n",
       "      <td>2</td>\n",
       "      <td>2008-09-26 22:02:47</td>\n",
       "      <td>0</td>\n",
       "      <td>0</td>\n",
       "      <td>0</td>\n",
       "    </tr>\n",
       "  </tbody>\n",
       "</table>\n",
       "</div>"
      ],
      "text/plain": [
       "   Trajectory_ID       User_ID  #Photo          Start_Time  \\\n",
       "0              0  10033564@N03       4 2010-05-03 16:49:44   \n",
       "1              1  10033564@N03      18 2010-05-04 08:33:23   \n",
       "2              2  10033564@N03      17 2010-05-05 10:06:12   \n",
       "4              4  10058801@N06       4 2008-05-11 22:34:56   \n",
       "5              5  10058801@N06       2 2008-09-26 22:02:47   \n",
       "\n",
       "   Travel_Distance(km)  Total_Time(min)  Average_Speed(km/h)  \n",
       "0                    0               49                    0  \n",
       "1                    0              631                    0  \n",
       "2                    0              207                    0  \n",
       "4                    0                9                    0  \n",
       "5                    0                0                    0  "
      ]
     },
     "execution_count": 12,
     "metadata": {},
     "output_type": "execute_result"
    }
   ],
   "source": [
    "traj_stats_new = traj_stats[traj_stats['#Photo']>1]\n",
    "traj_stats_new.head()"
   ]
  },
  {
   "cell_type": "code",
   "execution_count": 13,
   "metadata": {
    "collapsed": false
   },
   "outputs": [
    {
     "data": {
      "text/html": [
       "<div>\n",
       "<table border=\"1\" class=\"dataframe\">\n",
       "  <thead>\n",
       "    <tr style=\"text-align: right;\">\n",
       "      <th></th>\n",
       "      <th>Trajectory_ID</th>\n",
       "      <th>#Photo</th>\n",
       "      <th>Travel_Distance(km)</th>\n",
       "      <th>Total_Time(min)</th>\n",
       "      <th>Average_Speed(km/h)</th>\n",
       "    </tr>\n",
       "  </thead>\n",
       "  <tbody>\n",
       "    <tr>\n",
       "      <th>count</th>\n",
       "      <td>13767.000000</td>\n",
       "      <td>13767.000000</td>\n",
       "      <td>13767.000000</td>\n",
       "      <td>13767.000000</td>\n",
       "      <td>13767.000000</td>\n",
       "    </tr>\n",
       "    <tr>\n",
       "      <th>mean</th>\n",
       "      <td>9594.783758</td>\n",
       "      <td>11.413162</td>\n",
       "      <td>18.455377</td>\n",
       "      <td>262.128932</td>\n",
       "      <td>115.049918</td>\n",
       "    </tr>\n",
       "    <tr>\n",
       "      <th>std</th>\n",
       "      <td>5530.398096</td>\n",
       "      <td>25.547291</td>\n",
       "      <td>44.521753</td>\n",
       "      <td>223.910445</td>\n",
       "      <td>3776.757839</td>\n",
       "    </tr>\n",
       "    <tr>\n",
       "      <th>min</th>\n",
       "      <td>0.000000</td>\n",
       "      <td>2.000000</td>\n",
       "      <td>0.000000</td>\n",
       "      <td>0.000000</td>\n",
       "      <td>0.000000</td>\n",
       "    </tr>\n",
       "    <tr>\n",
       "      <th>25%</th>\n",
       "      <td>4805.500000</td>\n",
       "      <td>3.000000</td>\n",
       "      <td>0.004673</td>\n",
       "      <td>64.000000</td>\n",
       "      <td>0.000927</td>\n",
       "    </tr>\n",
       "    <tr>\n",
       "      <th>50%</th>\n",
       "      <td>9550.000000</td>\n",
       "      <td>4.000000</td>\n",
       "      <td>1.259807</td>\n",
       "      <td>224.000000</td>\n",
       "      <td>0.441300</td>\n",
       "    </tr>\n",
       "    <tr>\n",
       "      <th>75%</th>\n",
       "      <td>14431.500000</td>\n",
       "      <td>10.000000</td>\n",
       "      <td>9.489311</td>\n",
       "      <td>408.000000</td>\n",
       "      <td>2.959078</td>\n",
       "    </tr>\n",
       "    <tr>\n",
       "      <th>max</th>\n",
       "      <td>19248.000000</td>\n",
       "      <td>1340.000000</td>\n",
       "      <td>366.809744</td>\n",
       "      <td>1411.000000</td>\n",
       "      <td>332151.344536</td>\n",
       "    </tr>\n",
       "  </tbody>\n",
       "</table>\n",
       "</div>"
      ],
      "text/plain": [
       "       Trajectory_ID        #Photo  Travel_Distance(km)  Total_Time(min)  \\\n",
       "count   13767.000000  13767.000000         13767.000000     13767.000000   \n",
       "mean     9594.783758     11.413162            18.455377       262.128932   \n",
       "std      5530.398096     25.547291            44.521753       223.910445   \n",
       "min         0.000000      2.000000             0.000000         0.000000   \n",
       "25%      4805.500000      3.000000             0.004673        64.000000   \n",
       "50%      9550.000000      4.000000             1.259807       224.000000   \n",
       "75%     14431.500000     10.000000             9.489311       408.000000   \n",
       "max     19248.000000   1340.000000           366.809744      1411.000000   \n",
       "\n",
       "       Average_Speed(km/h)  \n",
       "count         13767.000000  \n",
       "mean            115.049918  \n",
       "std            3776.757839  \n",
       "min               0.000000  \n",
       "25%               0.000927  \n",
       "50%               0.441300  \n",
       "75%               2.959078  \n",
       "max          332151.344536  "
      ]
     },
     "execution_count": 13,
     "metadata": {},
     "output_type": "execute_result"
    }
   ],
   "source": [
    "traj_stats_new.describe()"
   ]
  },
  {
   "cell_type": "markdown",
   "metadata": {},
   "source": [
    "## Remove the trajectories with zero distance"
   ]
  },
  {
   "cell_type": "code",
   "execution_count": 14,
   "metadata": {
    "collapsed": false,
    "scrolled": true
   },
   "outputs": [
    {
     "data": {
      "text/html": [
       "<div>\n",
       "<table border=\"1\" class=\"dataframe\">\n",
       "  <thead>\n",
       "    <tr style=\"text-align: right;\">\n",
       "      <th></th>\n",
       "      <th>Trajectory_ID</th>\n",
       "      <th>User_ID</th>\n",
       "      <th>#Photo</th>\n",
       "      <th>Start_Time</th>\n",
       "      <th>Travel_Distance(km)</th>\n",
       "      <th>Total_Time(min)</th>\n",
       "      <th>Average_Speed(km/h)</th>\n",
       "    </tr>\n",
       "  </thead>\n",
       "  <tbody>\n",
       "    <tr>\n",
       "      <th>7</th>\n",
       "      <td>7</td>\n",
       "      <td>10058801@N06</td>\n",
       "      <td>19</td>\n",
       "      <td>2008-10-11 15:56:41</td>\n",
       "      <td>0.776109</td>\n",
       "      <td>71</td>\n",
       "      <td>0.650977</td>\n",
       "    </tr>\n",
       "    <tr>\n",
       "      <th>8</th>\n",
       "      <td>8</td>\n",
       "      <td>10058801@N06</td>\n",
       "      <td>5</td>\n",
       "      <td>2008-11-15 16:15:26</td>\n",
       "      <td>15.874448</td>\n",
       "      <td>1</td>\n",
       "      <td>804.901578</td>\n",
       "    </tr>\n",
       "    <tr>\n",
       "      <th>9</th>\n",
       "      <td>9</td>\n",
       "      <td>10058801@N06</td>\n",
       "      <td>2</td>\n",
       "      <td>2010-05-09 12:30:59</td>\n",
       "      <td>6.247454</td>\n",
       "      <td>0</td>\n",
       "      <td>2811.354171</td>\n",
       "    </tr>\n",
       "    <tr>\n",
       "      <th>10</th>\n",
       "      <td>10</td>\n",
       "      <td>10087938@N02</td>\n",
       "      <td>16</td>\n",
       "      <td>2008-03-13 01:35:32</td>\n",
       "      <td>0.276983</td>\n",
       "      <td>169</td>\n",
       "      <td>0.097788</td>\n",
       "    </tr>\n",
       "    <tr>\n",
       "      <th>12</th>\n",
       "      <td>12</td>\n",
       "      <td>10087938@N02</td>\n",
       "      <td>26</td>\n",
       "      <td>2008-03-14 01:07:45</td>\n",
       "      <td>0.241673</td>\n",
       "      <td>579</td>\n",
       "      <td>0.025039</td>\n",
       "    </tr>\n",
       "  </tbody>\n",
       "</table>\n",
       "</div>"
      ],
      "text/plain": [
       "    Trajectory_ID       User_ID  #Photo          Start_Time  \\\n",
       "7               7  10058801@N06      19 2008-10-11 15:56:41   \n",
       "8               8  10058801@N06       5 2008-11-15 16:15:26   \n",
       "9               9  10058801@N06       2 2010-05-09 12:30:59   \n",
       "10             10  10087938@N02      16 2008-03-13 01:35:32   \n",
       "12             12  10087938@N02      26 2008-03-14 01:07:45   \n",
       "\n",
       "    Travel_Distance(km)  Total_Time(min)  Average_Speed(km/h)  \n",
       "7              0.776109               71             0.650977  \n",
       "8             15.874448                1           804.901578  \n",
       "9              6.247454                0          2811.354171  \n",
       "10             0.276983              169             0.097788  \n",
       "12             0.241673              579             0.025039  "
      ]
     },
     "execution_count": 14,
     "metadata": {},
     "output_type": "execute_result"
    }
   ],
   "source": [
    "traj_stats3 = traj_stats_new[traj_stats_new['Travel_Distance(km)']>1e-4]\n",
    "traj_stats3.head()"
   ]
  },
  {
   "cell_type": "code",
   "execution_count": 15,
   "metadata": {
    "collapsed": false
   },
   "outputs": [
    {
     "name": "stdout",
     "output_type": "stream",
     "text": [
      "    Trajectory_ID    Photo_ID       User_ID           Timestamp   Longitude  \\\n",
      "70              8  3030768283  10058801@N06 2008-11-15 16:15:26  144.959278   \n",
      "71              8  3030768441  10058801@N06 2008-11-15 16:16:21  144.828139   \n",
      "72              8  3031607362  10058801@N06 2008-11-15 16:16:25  144.831948   \n",
      "73              8  3030768591  10058801@N06 2008-11-15 16:16:29  144.831948   \n",
      "74              8  3031607236  10058801@N06 2008-11-15 16:16:37  144.834609   \n",
      "\n",
      "     Latitude  Accuracy  Marker(photo=0  \\\n",
      "70 -37.821959        16               0   \n",
      "71 -37.719354        16               0   \n",
      "72 -37.717716        16               0   \n",
      "73 -37.717716        16               0   \n",
      "74 -37.718666        16               0   \n",
      "\n",
      "                                             video=1)  URL  \n",
      "70  http://www.flickr.com/photos/10058801@N06/3030...  NaN  \n",
      "71  http://www.flickr.com/photos/10058801@N06/3030...  NaN  \n",
      "72  http://www.flickr.com/photos/10058801@N06/3031...  NaN  \n",
      "73  http://www.flickr.com/photos/10058801@N06/3030...  NaN  \n",
      "74  http://www.flickr.com/photos/10058801@N06/3031...  NaN  \n",
      "\n",
      "    Trajectory_ID    Photo_ID       User_ID           Timestamp   Longitude  \\\n",
      "75              9  4590212785  10058801@N06 2010-05-09 12:30:59  144.961423   \n",
      "76              9  4590833662  10058801@N06 2010-05-09 12:31:07  144.919238   \n",
      "\n",
      "     Latitude  Accuracy  Marker(photo=0  \\\n",
      "75 -37.811207        14               0   \n",
      "76 -37.765982        14               0   \n",
      "\n",
      "                                             video=1)  URL  \n",
      "75  http://www.flickr.com/photos/10058801@N06/4590...  NaN  \n",
      "76  http://www.flickr.com/photos/10058801@N06/4590...  NaN  \n"
     ]
    }
   ],
   "source": [
    "# look at what is happening with those extreme speed\n",
    "print(traj.loc[traj['Trajectory_ID'] == 8])\n",
    "print() \n",
    "print(traj.loc[traj['Trajectory_ID'] == 9])"
   ]
  },
  {
   "cell_type": "code",
   "execution_count": 16,
   "metadata": {
    "collapsed": false
   },
   "outputs": [
    {
     "data": {
      "image/png": "[encoded data removed]",
      "text/plain": [
       "<matplotlib.figure.Figure at 0x112553d30>"
      ]
     },
     "metadata": {},
     "output_type": "display_data"
    }
   ],
   "source": [
    "# plot the distribution of speed\n",
    "ax3 = traj_stats3.hist(column=['Total_Time(min)', '#Photo', 'Travel_Distance(km)', 'Average_Speed(km/h)'], \n",
    "                       figsize=[12,4], bins=20)\n",
    "ax3[0][0].set_yscale('log')\n",
    "ax3[0][1].set_yscale('log')\n",
    "ax3[1][1].set_yscale('log')"
   ]
  },
  {
   "cell_type": "markdown",
   "metadata": {},
   "source": [
    "## clearly speed distribution is out of wack"
   ]
  },
  {
   "cell_type": "code",
   "execution_count": 17,
   "metadata": {
    "collapsed": false
   },
   "outputs": [
    {
     "name": "stdout",
     "output_type": "stream",
     "text": [
      "10202 <-- 10407 <-- 13767\n"
     ]
    },
    {
     "data": {
      "text/html": [
       "<div>\n",
       "<table border=\"1\" class=\"dataframe\">\n",
       "  <thead>\n",
       "    <tr style=\"text-align: right;\">\n",
       "      <th></th>\n",
       "      <th>Trajectory_ID</th>\n",
       "      <th>User_ID</th>\n",
       "      <th>#Photo</th>\n",
       "      <th>Start_Time</th>\n",
       "      <th>Travel_Distance(km)</th>\n",
       "      <th>Total_Time(min)</th>\n",
       "      <th>Average_Speed(km/h)</th>\n",
       "    </tr>\n",
       "  </thead>\n",
       "  <tbody>\n",
       "    <tr>\n",
       "      <th>7</th>\n",
       "      <td>7</td>\n",
       "      <td>10058801@N06</td>\n",
       "      <td>19</td>\n",
       "      <td>2008-10-11 15:56:41</td>\n",
       "      <td>0.776109</td>\n",
       "      <td>71</td>\n",
       "      <td>0.650977</td>\n",
       "    </tr>\n",
       "    <tr>\n",
       "      <th>10</th>\n",
       "      <td>10</td>\n",
       "      <td>10087938@N02</td>\n",
       "      <td>16</td>\n",
       "      <td>2008-03-13 01:35:32</td>\n",
       "      <td>0.276983</td>\n",
       "      <td>169</td>\n",
       "      <td>0.097788</td>\n",
       "    </tr>\n",
       "    <tr>\n",
       "      <th>12</th>\n",
       "      <td>12</td>\n",
       "      <td>10087938@N02</td>\n",
       "      <td>26</td>\n",
       "      <td>2008-03-14 01:07:45</td>\n",
       "      <td>0.241673</td>\n",
       "      <td>579</td>\n",
       "      <td>0.025039</td>\n",
       "    </tr>\n",
       "    <tr>\n",
       "      <th>13</th>\n",
       "      <td>13</td>\n",
       "      <td>10087938@N02</td>\n",
       "      <td>4</td>\n",
       "      <td>2008-03-15 21:09:24</td>\n",
       "      <td>0.175133</td>\n",
       "      <td>322</td>\n",
       "      <td>0.032583</td>\n",
       "    </tr>\n",
       "    <tr>\n",
       "      <th>16</th>\n",
       "      <td>16</td>\n",
       "      <td>100895643@N03</td>\n",
       "      <td>5</td>\n",
       "      <td>2014-01-28 15:00:48</td>\n",
       "      <td>1.215878</td>\n",
       "      <td>1</td>\n",
       "      <td>39.433866</td>\n",
       "    </tr>\n",
       "  </tbody>\n",
       "</table>\n",
       "</div>"
      ],
      "text/plain": [
       "    Trajectory_ID        User_ID  #Photo          Start_Time  \\\n",
       "7               7   10058801@N06      19 2008-10-11 15:56:41   \n",
       "10             10   10087938@N02      16 2008-03-13 01:35:32   \n",
       "12             12   10087938@N02      26 2008-03-14 01:07:45   \n",
       "13             13   10087938@N02       4 2008-03-15 21:09:24   \n",
       "16             16  100895643@N03       5 2014-01-28 15:00:48   \n",
       "\n",
       "    Travel_Distance(km)  Total_Time(min)  Average_Speed(km/h)  \n",
       "7              0.776109               71             0.650977  \n",
       "10             0.276983              169             0.097788  \n",
       "12             0.241673              579             0.025039  \n",
       "13             0.175133              322             0.032583  \n",
       "16             1.215878                1            39.433866  "
      ]
     },
     "execution_count": 17,
     "metadata": {},
     "output_type": "execute_result"
    }
   ],
   "source": [
    "# remove those with improbable speed\n",
    "traj_stats4 = traj_stats3[traj_stats3['Average_Speed(km/h)']<=150]\n",
    "print(len(traj_stats4), \"<--\",  len(traj_stats3) , \"<--\" , len(traj_stats_new))\n",
    "\n",
    "traj_stats4.head()"
   ]
  },
  {
   "cell_type": "code",
   "execution_count": 18,
   "metadata": {
    "collapsed": false
   },
   "outputs": [
    {
     "data": {
      "text/html": [
       "<div>\n",
       "<table border=\"1\" class=\"dataframe\">\n",
       "  <thead>\n",
       "    <tr style=\"text-align: right;\">\n",
       "      <th></th>\n",
       "      <th>Trajectory_ID</th>\n",
       "      <th>User_ID</th>\n",
       "      <th>#Photo</th>\n",
       "      <th>Start_Time</th>\n",
       "      <th>Travel_Distance(km)</th>\n",
       "      <th>Total_Time(min)</th>\n",
       "      <th>Average_Speed(km/h)</th>\n",
       "    </tr>\n",
       "  </thead>\n",
       "  <tbody>\n",
       "    <tr>\n",
       "      <th>19236</th>\n",
       "      <td>19236</td>\n",
       "      <td>99837685@N00</td>\n",
       "      <td>8</td>\n",
       "      <td>2005-06-18 09:24:11</td>\n",
       "      <td>6.287555</td>\n",
       "      <td>634</td>\n",
       "      <td>0.594131</td>\n",
       "    </tr>\n",
       "    <tr>\n",
       "      <th>19237</th>\n",
       "      <td>19237</td>\n",
       "      <td>99837685@N00</td>\n",
       "      <td>9</td>\n",
       "      <td>2007-01-13 11:17:55</td>\n",
       "      <td>1.326054</td>\n",
       "      <td>439</td>\n",
       "      <td>0.181134</td>\n",
       "    </tr>\n",
       "    <tr>\n",
       "      <th>19240</th>\n",
       "      <td>19240</td>\n",
       "      <td>99837685@N00</td>\n",
       "      <td>4</td>\n",
       "      <td>2009-02-15 11:02:10</td>\n",
       "      <td>2.274462</td>\n",
       "      <td>92</td>\n",
       "      <td>1.477723</td>\n",
       "    </tr>\n",
       "    <tr>\n",
       "      <th>19244</th>\n",
       "      <td>19244</td>\n",
       "      <td>9989843@N07</td>\n",
       "      <td>63</td>\n",
       "      <td>2010-05-08 10:43:05</td>\n",
       "      <td>0.671239</td>\n",
       "      <td>382</td>\n",
       "      <td>0.105421</td>\n",
       "    </tr>\n",
       "    <tr>\n",
       "      <th>19245</th>\n",
       "      <td>19245</td>\n",
       "      <td>9989843@N07</td>\n",
       "      <td>25</td>\n",
       "      <td>2010-05-30 08:49:57</td>\n",
       "      <td>129.273375</td>\n",
       "      <td>901</td>\n",
       "      <td>8.603408</td>\n",
       "    </tr>\n",
       "  </tbody>\n",
       "</table>\n",
       "</div>"
      ],
      "text/plain": [
       "       Trajectory_ID       User_ID  #Photo          Start_Time  \\\n",
       "19236          19236  99837685@N00       8 2005-06-18 09:24:11   \n",
       "19237          19237  99837685@N00       9 2007-01-13 11:17:55   \n",
       "19240          19240  99837685@N00       4 2009-02-15 11:02:10   \n",
       "19244          19244   9989843@N07      63 2010-05-08 10:43:05   \n",
       "19245          19245   9989843@N07      25 2010-05-30 08:49:57   \n",
       "\n",
       "       Travel_Distance(km)  Total_Time(min)  Average_Speed(km/h)  \n",
       "19236             6.287555              634             0.594131  \n",
       "19237             1.326054              439             0.181134  \n",
       "19240             2.274462               92             1.477723  \n",
       "19244             0.671239              382             0.105421  \n",
       "19245           129.273375              901             8.603408  "
      ]
     },
     "execution_count": 18,
     "metadata": {},
     "output_type": "execute_result"
    }
   ],
   "source": [
    "traj_stats4.tail()"
   ]
  },
  {
   "cell_type": "code",
   "execution_count": 19,
   "metadata": {
    "collapsed": false
   },
   "outputs": [
    {
     "data": {
      "image/png": "[encoded data removed]",
      "text/plain": [
       "<matplotlib.figure.Figure at 0x106263198>"
      ]
     },
     "metadata": {},
     "output_type": "display_data"
    }
   ],
   "source": [
    "ax4 = traj_stats4.hist(column=['Total_Time(min)', '#Photo', 'Travel_Distance(km)', 'Average_Speed(km/h)'], \n",
    "                       figsize=[12,4], bins=20)\n",
    "\n",
    "ax4[0][0].set_yscale('log'), ax4[0][0].autoscale(tight=True)\n",
    "ax4[0][1].set_yscale('log'), ax4[0][1].autoscale(tight=True)\n",
    "ax4[1][1].set_yscale('log'), ax4[1][1].autoscale(tight=True)\n",
    "ax4[1][0].autoscale(tight=True)\n",
    "#ax4[1].set_yscale('log')"
   ]
  },
  {
   "cell_type": "code",
   "execution_count": 20,
   "metadata": {
    "collapsed": false
   },
   "outputs": [
    {
     "data": {
      "text/html": [
       "<div>\n",
       "<table border=\"1\" class=\"dataframe\">\n",
       "  <thead>\n",
       "    <tr style=\"text-align: right;\">\n",
       "      <th></th>\n",
       "      <th>Trajectory_ID</th>\n",
       "      <th>#Photo</th>\n",
       "      <th>Travel_Distance(km)</th>\n",
       "      <th>Total_Time(min)</th>\n",
       "      <th>Average_Speed(km/h)</th>\n",
       "    </tr>\n",
       "  </thead>\n",
       "  <tbody>\n",
       "    <tr>\n",
       "      <th>count</th>\n",
       "      <td>10202.000000</td>\n",
       "      <td>10202.000000</td>\n",
       "      <td>10202.000000</td>\n",
       "      <td>10202.000000</td>\n",
       "      <td>10202.000000</td>\n",
       "    </tr>\n",
       "    <tr>\n",
       "      <th>mean</th>\n",
       "      <td>9818.177514</td>\n",
       "      <td>10.453146</td>\n",
       "      <td>23.059152</td>\n",
       "      <td>298.383552</td>\n",
       "      <td>6.425342</td>\n",
       "    </tr>\n",
       "    <tr>\n",
       "      <th>std</th>\n",
       "      <td>5508.311970</td>\n",
       "      <td>20.045630</td>\n",
       "      <td>47.744911</td>\n",
       "      <td>220.876539</td>\n",
       "      <td>15.109785</td>\n",
       "    </tr>\n",
       "    <tr>\n",
       "      <th>min</th>\n",
       "      <td>7.000000</td>\n",
       "      <td>2.000000</td>\n",
       "      <td>0.000111</td>\n",
       "      <td>0.000000</td>\n",
       "      <td>0.000000</td>\n",
       "    </tr>\n",
       "    <tr>\n",
       "      <th>25%</th>\n",
       "      <td>5127.000000</td>\n",
       "      <td>3.000000</td>\n",
       "      <td>0.669827</td>\n",
       "      <td>117.000000</td>\n",
       "      <td>0.244168</td>\n",
       "    </tr>\n",
       "    <tr>\n",
       "      <th>50%</th>\n",
       "      <td>9797.500000</td>\n",
       "      <td>4.000000</td>\n",
       "      <td>3.429683</td>\n",
       "      <td>274.000000</td>\n",
       "      <td>0.997250</td>\n",
       "    </tr>\n",
       "    <tr>\n",
       "      <th>75%</th>\n",
       "      <td>14596.500000</td>\n",
       "      <td>9.000000</td>\n",
       "      <td>16.316325</td>\n",
       "      <td>436.000000</td>\n",
       "      <td>4.915981</td>\n",
       "    </tr>\n",
       "    <tr>\n",
       "      <th>max</th>\n",
       "      <td>19245.000000</td>\n",
       "      <td>416.000000</td>\n",
       "      <td>366.809744</td>\n",
       "      <td>1411.000000</td>\n",
       "      <td>147.942595</td>\n",
       "    </tr>\n",
       "  </tbody>\n",
       "</table>\n",
       "</div>"
      ],
      "text/plain": [
       "       Trajectory_ID        #Photo  Travel_Distance(km)  Total_Time(min)  \\\n",
       "count   10202.000000  10202.000000         10202.000000     10202.000000   \n",
       "mean     9818.177514     10.453146            23.059152       298.383552   \n",
       "std      5508.311970     20.045630            47.744911       220.876539   \n",
       "min         7.000000      2.000000             0.000111         0.000000   \n",
       "25%      5127.000000      3.000000             0.669827       117.000000   \n",
       "50%      9797.500000      4.000000             3.429683       274.000000   \n",
       "75%     14596.500000      9.000000            16.316325       436.000000   \n",
       "max     19245.000000    416.000000           366.809744      1411.000000   \n",
       "\n",
       "       Average_Speed(km/h)  \n",
       "count         10202.000000  \n",
       "mean              6.425342  \n",
       "std              15.109785  \n",
       "min               0.000000  \n",
       "25%               0.244168  \n",
       "50%               0.997250  \n",
       "75%               4.915981  \n",
       "max             147.942595  "
      ]
     },
     "execution_count": 20,
     "metadata": {},
     "output_type": "execute_result"
    }
   ],
   "source": [
    "traj_stats4.describe()"
   ]
  },
  {
   "cell_type": "code",
   "execution_count": 21,
   "metadata": {
    "collapsed": false
   },
   "outputs": [
    {
     "name": "stdout",
     "output_type": "stream",
     "text": [
      "# users : 1556\n",
      "# trajectories : 10202\n",
      "Average trajectories per user : 6.556555269922879\n"
     ]
    }
   ],
   "source": [
    "num_user = traj_stats4['User_ID'].unique().size\n",
    "num_traj = traj_stats4['Trajectory_ID'].unique().size\n",
    "avg_traj_per_user = num_traj/num_user\n",
    "print('# users :', num_user)\n",
    "print('# trajectories :', num_traj)\n",
    "print('Average trajectories per user :', avg_traj_per_user)"
   ]
  },
  {
   "cell_type": "code",
   "execution_count": 22,
   "metadata": {
    "collapsed": false
   },
   "outputs": [],
   "source": [
    "# build a duplicate data structure for map visualization\n",
    "trajdict1, trajdict2 = traj_visualise.load_traj(photo_table, traj_table)"
   ]
  },
  {
   "cell_type": "markdown",
   "metadata": {},
   "source": [
    "### Let's see the longest trajectory"
   ]
  },
  {
   "cell_type": "code",
   "execution_count": 23,
   "metadata": {
    "collapsed": false
   },
   "outputs": [
    {
     "name": "stdout",
     "output_type": "stream",
     "text": [
      "Trajectory_ID                         9178\n",
      "User_ID                       48894056@N00\n",
      "#Photo                                   4\n",
      "Start_Time             2009-05-24 09:48:46\n",
      "Travel_Distance(km)               366.8097\n",
      "Total_Time(min)                        547\n",
      "Average_Speed(km/h)               40.16532\n",
      "Name: 9178, dtype: object\n"
     ]
    }
   ],
   "source": [
    "longest_dist = traj_stats4.ix[traj_stats4['Travel_Distance(km)'].idxmax()]\n",
    "print(longest_dist)"
   ]
  },
  {
   "cell_type": "code",
   "execution_count": 24,
   "metadata": {
    "collapsed": false
   },
   "outputs": [
    {
     "name": "stdout",
     "output_type": "stream",
     "text": [
      "Trajectory_ID                         9891\n",
      "User_ID                       52618473@N02\n",
      "#Photo                                  14\n",
      "Start_Time             2013-06-09 10:33:44\n",
      "Travel_Distance(km)               5.111083\n",
      "Total_Time(min)                       1411\n",
      "Average_Speed(km/h)              0.2172592\n",
      "Name: 9891, dtype: object\n"
     ]
    }
   ],
   "source": [
    "longest_time = traj_stats4.ix[traj_stats4['Total_Time(min)'].idxmax()]\n",
    "print(longest_time)"
   ]
  },
  {
   "cell_type": "code",
   "execution_count": 25,
   "metadata": {
    "collapsed": false
   },
   "outputs": [
    {
     "name": "stdout",
     "output_type": "stream",
     "text": [
      "Trajectory_ID                         3662\n",
      "User_ID                       26670541@N07\n",
      "#Photo                                 416\n",
      "Start_Time             2009-10-18 11:04:42\n",
      "Travel_Distance(km)                7.42588\n",
      "Total_Time(min)                        244\n",
      "Average_Speed(km/h)               1.822923\n",
      "Name: 3662, dtype: object\n"
     ]
    }
   ],
   "source": [
    "longest_numphoto = traj_stats4.ix[traj_stats4['#Photo'].idxmax()]\n",
    "print(longest_numphoto)"
   ]
  },
  {
   "cell_type": "code",
   "execution_count": 26,
   "metadata": {
    "collapsed": false
   },
   "outputs": [
    {
     "name": "stdout",
     "output_type": "stream",
     "text": [
      "       Trajectory_ID    Photo_ID       User_ID           Timestamp  \\\n",
      "75004           9178  3558147582  48894056@N00 2009-05-24 09:48:46   \n",
      "75005           9178  6268656016  48894056@N00 2011-10-09 14:53:43   \n",
      "75006           9178  6276179396  48894056@N00 2011-10-10 17:04:08   \n",
      "75007           9178  6268135129  48894056@N00 2011-10-10 18:56:43   \n",
      "\n",
      "        Longitude   Latitude  Accuracy  Marker(photo=0  \\\n",
      "75004  143.666453 -38.758333        14               0   \n",
      "75005  144.965500 -37.816667        16               0   \n",
      "75006  146.964833 -36.737833        16               0   \n",
      "75007  146.953167 -36.726167        16               0   \n",
      "\n",
      "                                                video=1)  URL  \n",
      "75004  http://www.flickr.com/photos/48894056@N00/3558...  NaN  \n",
      "75005  http://www.flickr.com/photos/48894056@N00/6268...  NaN  \n",
      "75006  http://www.flickr.com/photos/48894056@N00/6276...  NaN  \n",
      "75007  http://www.flickr.com/photos/48894056@N00/6268...  NaN  \n"
     ]
    }
   ],
   "source": [
    "print(traj.loc[traj['Trajectory_ID'] == longest_dist['Trajectory_ID']])"
   ]
  },
  {
   "cell_type": "code",
   "execution_count": 27,
   "metadata": {
    "collapsed": false
   },
   "outputs": [
    {
     "name": "stdout",
     "output_type": "stream",
     "text": [
      "75004   2009-05-24 09:48:46\n",
      "75005   2011-10-09 14:53:43\n",
      "75006   2011-10-10 17:04:08\n",
      "75007   2011-10-10 18:56:43\n",
      "Name: Timestamp, dtype: datetime64[ns]\n"
     ]
    }
   ],
   "source": [
    "print(traj.loc[traj['Trajectory_ID'] == longest_dist['Trajectory_ID']]['Timestamp'])"
   ]
  },
  {
   "cell_type": "code",
   "execution_count": 28,
   "metadata": {
    "collapsed": false
   },
   "outputs": [
    {
     "name": "stdout",
     "output_type": "stream",
     "text": [
      "80486   2013-06-09 10:33:44\n",
      "80487   2013-06-09 12:17:24\n",
      "80488   2013-06-09 12:35:16\n",
      "80489   2013-06-10 13:30:09\n",
      "80490   2013-06-10 15:07:23\n",
      "80491   2013-06-10 21:09:01\n",
      "80492   2013-06-10 21:09:20\n",
      "80493   2013-06-11 01:28:59\n",
      "80494   2013-06-11 08:08:40\n",
      "80495   2013-06-11 09:03:27\n",
      "80496   2013-06-11 09:03:46\n",
      "80497   2013-06-11 09:03:55\n",
      "80498   2013-06-11 09:04:03\n",
      "80499   2013-06-11 10:05:15\n",
      "Name: Timestamp, dtype: datetime64[ns]\n"
     ]
    }
   ],
   "source": [
    "print(traj.loc[traj['Trajectory_ID'] == longest_time['Trajectory_ID']]['Timestamp'])"
   ]
  },
  {
   "cell_type": "code",
   "execution_count": 29,
   "metadata": {
    "collapsed": false
   },
   "outputs": [
    {
     "ename": "TypeError",
     "evalue": "list indices must be integers, not str",
     "output_type": "error",
     "traceback": [
      "\u001b[0;31m---------------------------------------------------------------------------\u001b[0m",
      "\u001b[0;31mTypeError\u001b[0m                                 Traceback (most recent call last)",
      "\u001b[0;32m<ipython-input-29-388e45ad6c60>\u001b[0m in \u001b[0;36m<module>\u001b[0;34m()\u001b[0m\n\u001b[1;32m      1\u001b[0m \u001b[0mout_kml\u001b[0m \u001b[0;34m=\u001b[0m \u001b[0mos\u001b[0m\u001b[0;34m.\u001b[0m\u001b[0mpath\u001b[0m\u001b[0;34m.\u001b[0m\u001b[0mjoin\u001b[0m\u001b[0;34m(\u001b[0m\u001b[0mdata_dir\u001b[0m\u001b[0;34m,\u001b[0m \u001b[0;34m'longest.kml'\u001b[0m\u001b[0;34m)\u001b[0m\u001b[0;34m\u001b[0m\u001b[0m\n\u001b[1;32m      2\u001b[0m traj_visualise.gen_kml(trajdict1, trajdict2, \n\u001b[0;32m----> 3\u001b[0;31m                        [longest_dist['Trajectory_ID'], longest_time['Trajectory_ID']], out_kml)\n\u001b[0m\u001b[1;32m      4\u001b[0m \u001b[0;34m\u001b[0m\u001b[0m\n\u001b[1;32m      5\u001b[0m \u001b[0mout_kml\u001b[0m \u001b[0;34m=\u001b[0m \u001b[0mos\u001b[0m\u001b[0;34m.\u001b[0m\u001b[0mpath\u001b[0m\u001b[0;34m.\u001b[0m\u001b[0mjoin\u001b[0m\u001b[0;34m(\u001b[0m\u001b[0mdata_dir\u001b[0m\u001b[0;34m,\u001b[0m \u001b[0;34m'most_photos.kml'\u001b[0m\u001b[0;34m)\u001b[0m\u001b[0;34m\u001b[0m\u001b[0m\n",
      "\u001b[0;32m/Users/arongdari/workspace/flickr-photo/notebooks/traj_visualise.py\u001b[0m in \u001b[0;36mgen_kml\u001b[0;34m(fname, traj_data, traj_stats, traj_id_list, traj_name_list)\u001b[0m\n\u001b[1;32m     33\u001b[0m     \u001b[0mk\u001b[0m\u001b[0;34m.\u001b[0m\u001b[0mappend\u001b[0m\u001b[0;34m(\u001b[0m\u001b[0mdoc\u001b[0m\u001b[0;34m)\u001b[0m\u001b[0;34m\u001b[0m\u001b[0m\n\u001b[1;32m     34\u001b[0m \u001b[0;34m\u001b[0m\u001b[0m\n\u001b[0;32m---> 35\u001b[0;31m     \u001b[0mstats\u001b[0m \u001b[0;34m=\u001b[0m \u001b[0mtraj_stats\u001b[0m\u001b[0;34m[\u001b[0m\u001b[0mtraj_stats\u001b[0m\u001b[0;34m[\u001b[0m\u001b[0;34m'Trajectory_ID'\u001b[0m\u001b[0;34m]\u001b[0m\u001b[0;34m.\u001b[0m\u001b[0misin\u001b[0m\u001b[0;34m(\u001b[0m\u001b[0mtraj_id_list\u001b[0m\u001b[0;34m)\u001b[0m\u001b[0;34m]\u001b[0m\u001b[0;34m\u001b[0m\u001b[0m\n\u001b[0m\u001b[1;32m     36\u001b[0m     \u001b[0;32massert\u001b[0m\u001b[0;34m(\u001b[0m\u001b[0mstats\u001b[0m\u001b[0;34m.\u001b[0m\u001b[0mshape\u001b[0m\u001b[0;34m[\u001b[0m\u001b[0;36m0\u001b[0m\u001b[0;34m]\u001b[0m \u001b[0;34m==\u001b[0m \u001b[0mlen\u001b[0m\u001b[0;34m(\u001b[0m\u001b[0mtraj_id_list\u001b[0m\u001b[0;34m)\u001b[0m\u001b[0;34m)\u001b[0m\u001b[0;34m\u001b[0m\u001b[0m\n\u001b[1;32m     37\u001b[0m \u001b[0;34m\u001b[0m\u001b[0m\n",
      "\u001b[0;31mTypeError\u001b[0m: list indices must be integers, not str"
     ]
    }
   ],
   "source": [
    "out_kml = os.path.join(data_dir, 'longest.kml')\n",
    "traj_visualise.gen_kml(trajdict1, trajdict2, \n",
    "                       [longest_dist['Trajectory_ID'], longest_time['Trajectory_ID']], out_kml)\n",
    "\n",
    "out_kml = os.path.join(data_dir, 'most_photos.kml')\n",
    "traj_visualise.gen_kml(trajdict1, trajdict2, \n",
    "                       [longest_numphoto['Trajectory_ID']], out_kml)"
   ]
  },
  {
   "cell_type": "code",
   "execution_count": 30,
   "metadata": {
    "collapsed": false
   },
   "outputs": [
    {
     "ename": "SyntaxError",
     "evalue": "invalid syntax (<ipython-input-30-54a5ed0f7046>, line 5)",
     "output_type": "error",
     "traceback": [
      "\u001b[0;36m  File \u001b[0;32m\"<ipython-input-30-54a5ed0f7046>\"\u001b[0;36m, line \u001b[0;32m5\u001b[0m\n\u001b[0;31m    print traveler, traj.groupby('User_ID').size().max()\u001b[0m\n\u001b[0m                 ^\u001b[0m\n\u001b[0;31mSyntaxError\u001b[0m\u001b[0;31m:\u001b[0m invalid syntax\n"
     ]
    }
   ],
   "source": [
    "# the user with most photos\n",
    "traveler = traj.groupby('User_ID').size().idxmax()\n",
    "#traj_list = traj[traj_stats4.User_ID == traveler].Trajectory_ID.unique ()\n",
    "\n",
    "print traveler, traj.groupby('User_ID').size().max()\n",
    "\n",
    "traveler_traj = traj_stats4.loc[traj_stats4['User_ID'] == traveler]\n",
    "\n",
    "out_kml = os.path.join(data_dir, 'most_photos_user.kml')\n",
    "traj_visualise.gen_kml(trajdict1, trajdict2, traveler_traj['Trajectory_ID'].tolist(), out_kml)"
   ]
  },
  {
   "cell_type": "code",
   "execution_count": 31,
   "metadata": {
    "collapsed": false
   },
   "outputs": [
    {
     "ename": "TypeError",
     "evalue": "list indices must be integers, not str",
     "output_type": "error",
     "traceback": [
      "\u001b[0;31m---------------------------------------------------------------------------\u001b[0m",
      "\u001b[0;31mTypeError\u001b[0m                                 Traceback (most recent call last)",
      "\u001b[0;32m<ipython-input-31-c45d279a9abf>\u001b[0m in \u001b[0;36m<module>\u001b[0;34m()\u001b[0m\n\u001b[1;32m      4\u001b[0m \u001b[0;34m\u001b[0m\u001b[0m\n\u001b[1;32m      5\u001b[0m \u001b[0mout_kml\u001b[0m \u001b[0;34m=\u001b[0m \u001b[0mos\u001b[0m\u001b[0;34m.\u001b[0m\u001b[0mpath\u001b[0m\u001b[0;34m.\u001b[0m\u001b[0mjoin\u001b[0m\u001b[0;34m(\u001b[0m\u001b[0mdata_dir\u001b[0m\u001b[0;34m,\u001b[0m \u001b[0;34m'random5.kml'\u001b[0m\u001b[0;34m)\u001b[0m\u001b[0;34m\u001b[0m\u001b[0m\n\u001b[0;32m----> 6\u001b[0;31m \u001b[0mtraj_visualise\u001b[0m\u001b[0;34m.\u001b[0m\u001b[0mgen_kml\u001b[0m\u001b[0;34m(\u001b[0m\u001b[0mtrajdict1\u001b[0m\u001b[0;34m,\u001b[0m \u001b[0mtrajdict2\u001b[0m\u001b[0;34m,\u001b[0m \u001b[0mtj5\u001b[0m\u001b[0;34m[\u001b[0m\u001b[0;34m'Trajectory_ID'\u001b[0m\u001b[0;34m]\u001b[0m\u001b[0;34m.\u001b[0m\u001b[0mtolist\u001b[0m\u001b[0;34m(\u001b[0m\u001b[0;34m)\u001b[0m\u001b[0;34m,\u001b[0m \u001b[0mout_kml\u001b[0m\u001b[0;34m)\u001b[0m\u001b[0;34m\u001b[0m\u001b[0m\n\u001b[0m",
      "\u001b[0;32m/Users/arongdari/workspace/flickr-photo/notebooks/traj_visualise.py\u001b[0m in \u001b[0;36mgen_kml\u001b[0;34m(fname, traj_data, traj_stats, traj_id_list, traj_name_list)\u001b[0m\n\u001b[1;32m     33\u001b[0m     \u001b[0mk\u001b[0m\u001b[0;34m.\u001b[0m\u001b[0mappend\u001b[0m\u001b[0;34m(\u001b[0m\u001b[0mdoc\u001b[0m\u001b[0;34m)\u001b[0m\u001b[0;34m\u001b[0m\u001b[0m\n\u001b[1;32m     34\u001b[0m \u001b[0;34m\u001b[0m\u001b[0m\n\u001b[0;32m---> 35\u001b[0;31m     \u001b[0mstats\u001b[0m \u001b[0;34m=\u001b[0m \u001b[0mtraj_stats\u001b[0m\u001b[0;34m[\u001b[0m\u001b[0mtraj_stats\u001b[0m\u001b[0;34m[\u001b[0m\u001b[0;34m'Trajectory_ID'\u001b[0m\u001b[0;34m]\u001b[0m\u001b[0;34m.\u001b[0m\u001b[0misin\u001b[0m\u001b[0;34m(\u001b[0m\u001b[0mtraj_id_list\u001b[0m\u001b[0;34m)\u001b[0m\u001b[0;34m]\u001b[0m\u001b[0;34m\u001b[0m\u001b[0m\n\u001b[0m\u001b[1;32m     36\u001b[0m     \u001b[0;32massert\u001b[0m\u001b[0;34m(\u001b[0m\u001b[0mstats\u001b[0m\u001b[0;34m.\u001b[0m\u001b[0mshape\u001b[0m\u001b[0;34m[\u001b[0m\u001b[0;36m0\u001b[0m\u001b[0;34m]\u001b[0m \u001b[0;34m==\u001b[0m \u001b[0mlen\u001b[0m\u001b[0;34m(\u001b[0m\u001b[0mtraj_id_list\u001b[0m\u001b[0;34m)\u001b[0m\u001b[0;34m)\u001b[0m\u001b[0;34m\u001b[0m\u001b[0m\n\u001b[1;32m     37\u001b[0m \u001b[0;34m\u001b[0m\u001b[0m\n",
      "\u001b[0;31mTypeError\u001b[0m: list indices must be integers, not str"
     ]
    }
   ],
   "source": [
    "# random 5 trajectories\n",
    "\n",
    "tj5 = traj_stats4.sample(n=5)\n",
    "\n",
    "out_kml = os.path.join(data_dir, 'random5.kml')\n",
    "traj_visualise.gen_kml(trajdict1, trajdict2, tj5['Trajectory_ID'].tolist(), out_kml)"
   ]
  },
  {
   "cell_type": "code",
   "execution_count": 32,
   "metadata": {
    "collapsed": false
   },
   "outputs": [
    {
     "name": "stdout",
     "output_type": "stream",
     "text": [
      "       Trajectory_ID          User_ID  #Photo          Start_Time  \\\n",
      "14511          14511     77341465@N00       4 2011-09-17 06:23:52   \n",
      "19154          19154     99804259@N00       6 2012-05-30 09:00:34   \n",
      "8572            8572     47322737@N00       9 2010-08-20 08:34:32   \n",
      "15516          15516      8205133@N06      22 2006-07-23 11:22:04   \n",
      "12658          12658     66182839@N00       2 2013-10-26 22:02:01   \n",
      "6222            6222  35468143526@N01       4 2006-04-28 12:05:35   \n",
      "258              258     10559879@N00       2 2007-08-12 15:18:36   \n",
      "3333            3333     25369515@N00       2 2009-10-10 13:04:44   \n",
      "1276            1276     14052501@N00       4 2009-01-30 18:35:50   \n",
      "18                18     10132296@N00      10 2011-08-13 03:05:24   \n",
      "\n",
      "       Travel_Distance(km)  Total_Time(min)  Average_Speed(km/h)  \n",
      "14511             0.307806                8             2.122802  \n",
      "19154             0.453304              558             0.048710  \n",
      "8572              4.240910              528             0.481466  \n",
      "15516            12.043412              672             1.073920  \n",
      "12658             0.044108                3             0.702600  \n",
      "6222             19.834626              444             2.676838  \n",
      "258               1.297184               46             1.667213  \n",
      "3333              1.722479              304             0.339275  \n",
      "1276              0.567832              226             0.150497  \n",
      "18                1.223396              180             0.406631  \n"
     ]
    },
    {
     "ename": "TypeError",
     "evalue": "list indices must be integers, not str",
     "output_type": "error",
     "traceback": [
      "\u001b[0;31m---------------------------------------------------------------------------\u001b[0m",
      "\u001b[0;31mTypeError\u001b[0m                                 Traceback (most recent call last)",
      "\u001b[0;32m<ipython-input-32-3ece901eb2eb>\u001b[0m in \u001b[0;36m<module>\u001b[0;34m()\u001b[0m\n\u001b[1;32m      4\u001b[0m \u001b[0;34m\u001b[0m\u001b[0m\n\u001b[1;32m      5\u001b[0m \u001b[0mout_kml\u001b[0m \u001b[0;34m=\u001b[0m \u001b[0mos\u001b[0m\u001b[0;34m.\u001b[0m\u001b[0mpath\u001b[0m\u001b[0;34m.\u001b[0m\u001b[0mjoin\u001b[0m\u001b[0;34m(\u001b[0m\u001b[0mdata_dir\u001b[0m\u001b[0;34m,\u001b[0m \u001b[0;34m'random10.kml'\u001b[0m\u001b[0;34m)\u001b[0m\u001b[0;34m\u001b[0m\u001b[0m\n\u001b[0;32m----> 6\u001b[0;31m \u001b[0mtraj_visualise\u001b[0m\u001b[0;34m.\u001b[0m\u001b[0mgen_kml\u001b[0m\u001b[0;34m(\u001b[0m\u001b[0mtrajdict1\u001b[0m\u001b[0;34m,\u001b[0m \u001b[0mtrajdict2\u001b[0m\u001b[0;34m,\u001b[0m \u001b[0mtj10\u001b[0m\u001b[0;34m[\u001b[0m\u001b[0;34m'Trajectory_ID'\u001b[0m\u001b[0;34m]\u001b[0m\u001b[0;34m.\u001b[0m\u001b[0mtolist\u001b[0m\u001b[0;34m(\u001b[0m\u001b[0;34m)\u001b[0m\u001b[0;34m,\u001b[0m \u001b[0mout_kml\u001b[0m\u001b[0;34m)\u001b[0m\u001b[0;34m\u001b[0m\u001b[0m\n\u001b[0m",
      "\u001b[0;32m/Users/arongdari/workspace/flickr-photo/notebooks/traj_visualise.py\u001b[0m in \u001b[0;36mgen_kml\u001b[0;34m(fname, traj_data, traj_stats, traj_id_list, traj_name_list)\u001b[0m\n\u001b[1;32m     33\u001b[0m     \u001b[0mk\u001b[0m\u001b[0;34m.\u001b[0m\u001b[0mappend\u001b[0m\u001b[0;34m(\u001b[0m\u001b[0mdoc\u001b[0m\u001b[0;34m)\u001b[0m\u001b[0;34m\u001b[0m\u001b[0m\n\u001b[1;32m     34\u001b[0m \u001b[0;34m\u001b[0m\u001b[0m\n\u001b[0;32m---> 35\u001b[0;31m     \u001b[0mstats\u001b[0m \u001b[0;34m=\u001b[0m \u001b[0mtraj_stats\u001b[0m\u001b[0;34m[\u001b[0m\u001b[0mtraj_stats\u001b[0m\u001b[0;34m[\u001b[0m\u001b[0;34m'Trajectory_ID'\u001b[0m\u001b[0;34m]\u001b[0m\u001b[0;34m.\u001b[0m\u001b[0misin\u001b[0m\u001b[0;34m(\u001b[0m\u001b[0mtraj_id_list\u001b[0m\u001b[0;34m)\u001b[0m\u001b[0;34m]\u001b[0m\u001b[0;34m\u001b[0m\u001b[0m\n\u001b[0m\u001b[1;32m     36\u001b[0m     \u001b[0;32massert\u001b[0m\u001b[0;34m(\u001b[0m\u001b[0mstats\u001b[0m\u001b[0;34m.\u001b[0m\u001b[0mshape\u001b[0m\u001b[0;34m[\u001b[0m\u001b[0;36m0\u001b[0m\u001b[0;34m]\u001b[0m \u001b[0;34m==\u001b[0m \u001b[0mlen\u001b[0m\u001b[0;34m(\u001b[0m\u001b[0mtraj_id_list\u001b[0m\u001b[0;34m)\u001b[0m\u001b[0;34m)\u001b[0m\u001b[0;34m\u001b[0m\u001b[0m\n\u001b[1;32m     37\u001b[0m \u001b[0;34m\u001b[0m\u001b[0m\n",
      "\u001b[0;31mTypeError\u001b[0m: list indices must be integers, not str"
     ]
    }
   ],
   "source": [
    "np.random.seed(22)\n",
    "tj10 = traj_stats4.sample(n=10)\n",
    "print(tj10)\n",
    "\n",
    "out_kml = os.path.join(data_dir, 'random10.kml')\n",
    "traj_visualise.gen_kml(trajdict1, trajdict2, tj10['Trajectory_ID'].tolist(), out_kml)"
   ]
  },
  {
   "cell_type": "markdown",
   "metadata": {},
   "source": [
    "** Ones below are not used since it's much better to visualise on the map **"
   ]
  },
  {
   "cell_type": "markdown",
   "metadata": {},
   "source": [
    "## Draw tranjectories on the map"
   ]
  },
  {
   "cell_type": "code",
   "execution_count": null,
   "metadata": {
    "collapsed": false
   },
   "outputs": [],
   "source": [
    "x_min, x_max = traj.Latitude.min(), traj.Latitude.max()\n",
    "y_min, y_max = traj.Longitude.min(), traj.Longitude.max()\n",
    "\n",
    "longest_in_dist_id = traj_stats.ix[traj_stats['Travel_Distance(km)'].idxmax()].Trajectory_ID\n",
    "longest_in_time_id = traj_stats.ix[traj_stats['Total_Time(min)'].idxmax()].Trajectory_ID"
   ]
  },
  {
   "cell_type": "code",
   "execution_count": null,
   "metadata": {
    "collapsed": false
   },
   "outputs": [],
   "source": [
    "def plot_traj(traj_id, style, label):\n",
    "    tmp = traj[traj.Trajectory_ID == traj_id]\n",
    "    plt.plot(tmp.Longitude, tmp.Latitude, style, label = label)\n",
    "\n",
    "fig = plt.figure(figsize=(15,15))\n",
    "m = Basemap(projection='cyl', llcrnrlat=x_min, urcrnrlat=x_max,\n",
    "        llcrnrlon=y_min, urcrnrlon=y_max, resolution='l')\n",
    "m.drawcoastlines()    \n",
    "\n",
    "plot_traj(longest_in_dist_id, 'r*-', 'dist')\n",
    "plot_traj(longest_in_time_id, 'b.-', 'time')\n",
    "\n",
    "plt.legend()"
   ]
  },
  {
   "cell_type": "markdown",
   "metadata": {},
   "source": [
    "### The most travelled person"
   ]
  },
  {
   "cell_type": "code",
   "execution_count": null,
   "metadata": {
    "collapsed": false
   },
   "outputs": [],
   "source": [
    "traveler = traj.groupby('User_ID').size().idxmax()\n",
    "traj_list = traj[traj.User_ID == traveler].Trajectory_ID.unique()\n",
    "\n",
    "fig = plt.figure(figsize=(15,15))\n",
    "m = Basemap(projection='cyl', llcrnrlat=x_min, urcrnrlat=x_max,\n",
    "        llcrnrlon=y_min, urcrnrlon=y_max, resolution='l')\n",
    "m.drawcoastlines()    \n",
    "\n",
    "for ti in traj_list:\n",
    "    plot_traj(ti, 'b.-', str(ti))"
   ]
  },
  {
   "cell_type": "code",
   "execution_count": null,
   "metadata": {
    "collapsed": false
   },
   "outputs": [],
   "source": [
    "num_user = traj_stats_new['User_ID'].unique().size\n",
    "num_traj = traj_stats_new['Trajectory_ID'].unique().size\n",
    "avg_traj_per_user = num_traj/num_user\n",
    "print('# users :', num_user)\n",
    "print('# trajectories :', num_traj)\n",
    "print('Average trajectories per user :', avg_traj_per_user)"
   ]
  },
  {
   "cell_type": "code",
   "execution_count": null,
   "metadata": {
    "collapsed": false
   },
   "outputs": [],
   "source": [
    "basic_stats_new = pd.DataFrame([traj_stats_new.min(), traj_stats_new.max(), traj_stats_new.median(), traj_stats_new.mean()], \\\n",
    "                           index=['min','max', 'median', 'mean'])\n",
    "basic_stats_new.drop('Start_Time', axis=1, inplace=True)\n",
    "basic_stats_new.drop('Trajectory_ID', axis=1, inplace=True)\n",
    "basic_stats_new.drop('User_ID', axis=1, inplace=True)\n",
    "basic_stats_new"
   ]
  },
  {
   "cell_type": "code",
   "execution_count": null,
   "metadata": {
    "collapsed": false
   },
   "outputs": [],
   "source": [
    "traj_stats_new.hist(column=['Total_Time(min)', '#Photo', 'Travel_Distance(km)'], figsize=[12,8])"
   ]
  }
 ],
 "metadata": {
  "celltoolbar": "Slideshow",
  "kernelspec": {
   "display_name": "Python 3",
   "language": "python",
   "name": "python3"
  },
  "language_info": {
   "codemirror_mode": {
    "name": "ipython",
    "version": 3
   },
   "file_extension": ".py",
   "mimetype": "text/x-python",
   "name": "python",
   "nbconvert_exporter": "python",
   "pygments_lexer": "ipython3",
   "version": "3.4.3"
  }
 },
 "nbformat": 4,
 "nbformat_minor": 0
}
